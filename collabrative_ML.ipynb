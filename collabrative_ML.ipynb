{
 "cells": [
  {
   "cell_type": "code",
   "execution_count": 10,
   "metadata": {},
   "outputs": [],
   "source": [
    "import h5py\n",
    "import json\n",
    "import pickle\n",
    "import numpy as np\n",
    "import pandas as pd\n",
    "import tensorflow as tf\n",
    "from dask import dataframe as dd\n",
    "from sklearn.decomposition import NMF, LatentDirichletAllocation\n",
    "from sklearn.feature_extraction.text import TfidfVectorizer\n",
    "\n",
    "train = False"
   ]
  },
  {
   "cell_type": "code",
   "execution_count": 11,
   "metadata": {},
   "outputs": [],
   "source": [
    "if train:\n",
    "    path = 'data/ensemble_train/'\n",
    "    model_data_path = 'model_data/collabrative/ensemble_train/ml/'\n",
    "else:\n",
    "    path = 'data/ensemble/'\n",
    "    model_data_path = 'model_data/collabrative/ensemble/ml/'"
   ]
  },
  {
   "cell_type": "code",
   "execution_count": 12,
   "metadata": {},
   "outputs": [],
   "source": [
    "transactions = pd.read_pickle(path+'transactions.pkl')[[\"customer_id\", \"article_id\"]]\n",
    "customer_purchase_number = transactions.groupby(\"customer_id\").size().to_frame(\"prod_number\").reset_index()\n",
    "transactions = transactions.merge(customer_purchase_number, on=\"customer_id\", how=\"inner\")\n",
    "\n",
    "c_ids = transactions.customer_id.unique()\n",
    "number_of_customer = len(c_ids)\n",
    "customer_encoding = {c_id: i for i, c_id in enumerate(c_ids)}\n",
    "p_ids = transactions.article_id.unique()\n",
    "number_of_products = len(p_ids)\n",
    "product_encoding = {p_id: i for i, p_id in enumerate(p_ids)}\n",
    "transactions.customer_id = transactions.customer_id.map(customer_encoding)\n",
    "transactions.article_id = transactions.article_id.map(product_encoding)\n",
    "p_ids = list(product_encoding.values())\n",
    "\n",
    "with open(model_data_path+'customer_id_encoding.json', 'w') as fp:\n",
    "    json.dump(customer_encoding, fp)\n",
    "\n",
    "with open(model_data_path+'product_id_encoding.json', 'w') as fp:\n",
    "    json.dump(product_encoding, fp)\n",
    "\n",
    "del c_ids, product_encoding, customer_encoding, customer_purchase_number"
   ]
  },
  {
   "cell_type": "code",
   "execution_count": 13,
   "metadata": {},
   "outputs": [],
   "source": [
    "data = transactions.groupby([\"customer_id\"]).apply(lambda x: ' '.join(map(lambda i: str(i), x.article_id.values)))\n",
    "del transactions"
   ]
  },
  {
   "cell_type": "code",
   "execution_count": 14,
   "metadata": {},
   "outputs": [],
   "source": [
    "vectorizer = TfidfVectorizer(use_idf=False)\n",
    "score_matrix = vectorizer.fit_transform(data.values)\n",
    "del data"
   ]
  },
  {
   "cell_type": "code",
   "execution_count": 15,
   "metadata": {},
   "outputs": [],
   "source": [
    "model = NMF( n_components=128,\n",
    "             init='random',\n",
    "             random_state=43,\n",
    "             max_iter=500\n",
    "            )\n",
    "W = model.fit_transform(score_matrix)\n",
    "H = model.components_"
   ]
  },
  {
   "cell_type": "code",
   "execution_count": null,
   "metadata": {},
   "outputs": [],
   "source": [
    "with open(model_data_path+'nmf_model_W.pkl', 'wb') as f:\n",
    "    pickle.dump(W,f)\n",
    "\n",
    "with open(model_data_path+'nmf_model_H.pkl', 'wb') as f:\n",
    "    pickle.dump(H.T,f)"
   ]
  },
  {
   "cell_type": "code",
   "execution_count": null,
   "metadata": {},
   "outputs": [],
   "source": [
    "model = LatentDirichletAllocation(\n",
    "    n_components=128,\n",
    "    random_state=43,\n",
    "    max_iter=500\n",
    ")\n",
    "W = model.fit_transform(score_matrix)\n",
    "H = model.components_"
   ]
  },
  {
   "cell_type": "code",
   "execution_count": null,
   "metadata": {},
   "outputs": [],
   "source": [
    "with open(model_data_path+'lda_model_W.pkl', 'wb') as f:\n",
    "    pickle.dump(W,f)\n",
    "\n",
    "with open(model_data_path+'lda_model_H.pkl', 'wb') as f:\n",
    "    pickle.dump(H.T,f)"
   ]
  },
  {
   "cell_type": "markdown",
   "metadata": {},
   "source": [
    "## Prediction"
   ]
  },
  {
   "cell_type": "code",
   "execution_count": null,
   "metadata": {},
   "outputs": [],
   "source": [
    "with open('model_data/nmf_model_W.pkl', 'rb') as f:\n",
    "    customers = pickle.load(f)\n",
    "    customers = tf.convert_to_tensor(customers, dtype=tf.float32)\n",
    "\n",
    "with open('model_data/nmf_model_H.pkl', 'rb') as f:\n",
    "    products = pickle.load(f)\n",
    "    products = tf.convert_to_tensor(products, dtype=tf.float32)"
   ]
  },
  {
   "cell_type": "code",
   "execution_count": null,
   "metadata": {},
   "outputs": [],
   "source": [
    "batch = 512\n",
    "step = 15000 // batch\n",
    "f.close()\n",
    "f = h5py.File('model_data/collabrative/nmf.h5', 'w', libver='latest')\n",
    "dset = f.create_dataset(\"nmf\", (customers.shape[0], 2, 150), dtype=np.float32, compression='gzip')\n",
    "\n",
    "ptr = 0\n",
    "score_temp = []\n",
    "indices_temp = []\n",
    "for i, batch_i in enumerate(range(0, customers.shape[0], batch)):\n",
    "    customer_batch = tf.nn.l2_normalize(customers[batch_i:batch_i+batch], 1)\n",
    "    batch_distances = tf.matmul(customer_batch, products, transpose_b=True)\n",
    "\n",
    "    for distance in batch_distances:\n",
    "        values, indices = tf.math.top_k(distance, k=150)\n",
    "        score_temp.append(values)\n",
    "        indices_temp.append(tf.cast(indices, tf.float32))\n",
    "\n",
    "    if i != 0 and (i % step == 0 or i == (customers.shape[0] // batch)):\n",
    "        score_temp = np.asarray(score_temp, dtype=np.float32)\n",
    "        indices_temp = np.asarray(indices_temp, dtype=np.float32)\n",
    "        dset[ptr:ptr+score_temp.shape[0],1,:] = score_temp\n",
    "        dset[ptr:ptr+indices_temp.shape[0],0,:] = indices_temp\n",
    "        ptr = batch_i+batch\n",
    "        score_temp = []\n",
    "        indices_temp = []\n",
    "\n",
    "    print('\\r' + f'{i*batch}: %{round(100*i*batch/customers.shape[0], 2)}', end='')\n",
    "f.close()"
   ]
  },
  {
   "cell_type": "code",
   "execution_count": null,
   "metadata": {},
   "outputs": [],
   "source": [
    "results = h5py.File('model_data/collabrative/d2v.h5', 'r')[\"d2v\"]\n",
    "submission = pd.read_csv('data/sample_submission.csv', index_col=False)\n",
    "with open(\"model_data/customer_id_dict.json\",\"r\") as f:\n",
    "    customer_ids = json.load(f)\n",
    "    customer_ids = {k:v-105542 for k,v in customer_ids.items()}\n",
    "with open(\"model_data/prod_id_dict.json\",\"r\") as f:\n",
    "    prod_ids = json.load(f)\n",
    "    prod_ids = {v:k for k,v in prod_ids.items()}"
   ]
  },
  {
   "cell_type": "code",
   "execution_count": null,
   "metadata": {},
   "outputs": [],
   "source": [
    "predictions = []\n",
    "results = np.asanyarray(results)\n",
    "for i, row in submission.iterrows():\n",
    "    if row.customer_id in customer_ids:\n",
    "        prods = results[customer_ids[row.customer_id],0]\n",
    "        predictions.append(' '.join([prod_ids[int(i)] for i in prods[:12]]))\n",
    "    else:\n",
    "        predictions.append(row.prediction)\n",
    "    print('\\r' + f'{i}: %{round(100*i/submission.shape[0], 2)}', end='')\n",
    "    \n",
    "submission[\"prediction\"] = predictions\n",
    "submission.to_csv('submission.csv', index=False)"
   ]
  },
  {
   "cell_type": "markdown",
   "metadata": {},
   "source": []
  },
  {
   "cell_type": "code",
   "execution_count": null,
   "metadata": {},
   "outputs": [],
   "source": []
  }
 ],
 "metadata": {
  "interpreter": {
   "hash": "4ad61a90f8b8ec2120f8b8d3efc4267caee6017c89f89db236bf61b71644f2c7"
  },
  "kernelspec": {
   "display_name": "Python 3.8.11 ('tf')",
   "language": "python",
   "name": "python3"
  },
  "language_info": {
   "codemirror_mode": {
    "name": "ipython",
    "version": 3
   },
   "file_extension": ".py",
   "mimetype": "text/x-python",
   "name": "python",
   "nbconvert_exporter": "python",
   "pygments_lexer": "ipython3",
   "version": "3.8.11"
  },
  "orig_nbformat": 4
 },
 "nbformat": 4,
 "nbformat_minor": 2
}
