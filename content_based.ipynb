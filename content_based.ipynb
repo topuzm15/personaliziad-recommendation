{
 "cells": [
  {
   "cell_type": "code",
   "execution_count": 1,
   "metadata": {},
   "outputs": [],
   "source": [
    "import h5py\n",
    "import json\n",
    "import dask\n",
    "import warnings\n",
    "import numpy as np\n",
    "import pandas as pd\n",
    "import multiprocessing\n",
    "import dask.array as da\n",
    "import tensorflow as tf\n",
    "from dask import dataframe as dd\n",
    "from scipy import sparse\n",
    "from nltk.tokenize import word_tokenize\n",
    "from dask_ml.wrappers import Incremental\n",
    "from dask_ml.decomposition import TruncatedSVD\n",
    "from gensim.models.doc2vec import Doc2Vec, TaggedDocument\n",
    "from sklearn.feature_extraction.text import TfidfVectorizer\n",
    "\n",
    "warnings.filterwarnings(\"ignore\", category=RuntimeWarning)\n",
    "train = True"
   ]
  },
  {
   "cell_type": "code",
   "execution_count": 2,
   "metadata": {},
   "outputs": [],
   "source": [
    "if train:\n",
    "    path = 'data/ensemble_train/'\n",
    "    model_path = \"d2v_train.model\"\n",
    "    results_path = \"model_data/content/ensemble_train/\"\n",
    "else:\n",
    "    path = 'data/ensemble/'\n",
    "    model_path = \"d2v.model\"\n",
    "    results_path = \"model_data/content/ensemble/\""
   ]
  },
  {
   "cell_type": "code",
   "execution_count": 3,
   "metadata": {},
   "outputs": [],
   "source": [
    "corpus = pd.read_csv(path+\"corpus.csv\")\n",
    "indexes = corpus[corpus.type == \"product\"].index.tolist()\n",
    "ids = corpus[corpus.type == \"product\"].doc_id.tolist()\n",
    "id_dict = dict(zip(ids, indexes))\n",
    "with open(results_path+'prod_id_dict.json', 'w') as fp:\n",
    "    json.dump(id_dict, fp)\n",
    "indexes = corpus[corpus.type == \"customer\"].index.tolist()\n",
    "ids = corpus[corpus.type == \"customer\"].doc_id.tolist()\n",
    "id_dict = dict(zip(ids, indexes))\n",
    "with open(results_path+'customer_id_dict.json', 'w') as fp:\n",
    "    json.dump(id_dict, fp)\n",
    "del corpus, indexes, ids, id_dict"
   ]
  },
  {
   "cell_type": "markdown",
   "metadata": {},
   "source": [
    "## Content Based Doc2Vec"
   ]
  },
  {
   "cell_type": "code",
   "execution_count": 4,
   "metadata": {},
   "outputs": [],
   "source": [
    "corpus = pd.read_csv(path+\"corpus.csv\", index_col=False)[\"doc\"].apply(lambda x: x.replace('.','')).to_list()\n",
    "Documents = [TaggedDocument(words=word_tokenize(_d.lower()), tags=[str(i)]) for i, _d in enumerate(corpus)]"
   ]
  },
  {
   "cell_type": "code",
   "execution_count": 5,
   "metadata": {},
   "outputs": [
    {
     "name": "stdout",
     "output_type": "stream",
     "text": [
      "Model Saved.\n"
     ]
    }
   ],
   "source": [
    "# doc2vec\n",
    "epochs = 25\n",
    "cores = multiprocessing.cpu_count()\n",
    "\n",
    "model= Doc2Vec(dm=0,\n",
    "               vector_size=512,\n",
    "               negative=5,\n",
    "               hs=0,\n",
    "               min_count=2,\n",
    "               sample = 0,\n",
    "               workers=cores)\n",
    "\n",
    "model.build_vocab(Documents)\n",
    "for epoch in range(epochs):\n",
    "    print('iteration {0}'.format(epoch),end = \"\\r\")\n",
    "    model.train(Documents,\n",
    "                total_examples=model.corpus_count,\n",
    "                epochs=1)\n",
    "    # decrease the learning rate\n",
    "    model.alpha -= 0.0002\n",
    "    # fix the learning rate, no decay\n",
    "    model.min_alpha = model.alpha\n",
    "\n",
    "model.save(\"weights/\"+model_path)\n",
    "print(\"Model Saved.\")"
   ]
  },
  {
   "cell_type": "markdown",
   "metadata": {},
   "source": [
    "## Doc2Vec Results"
   ]
  },
  {
   "cell_type": "code",
   "execution_count": null,
   "metadata": {},
   "outputs": [],
   "source": [
    "model = Doc2Vec.load(\"weights/d2v.model\")\n",
    "model_vectors = model.dv.get_normed_vectors()\n",
    "articles = pd.read_pickle(path+\"articles.pkl\")\n",
    "articles.article_id = articles.article_id.astype(str)\n",
    "customers = pd.read_pickle(path+\"customers.pkl\")\n",
    "prod_ids = articles.article_id.tolist()\n",
    "customer_ids = customers.customer_id.tolist()\n",
    "del articles, customers"
   ]
  },
  {
   "cell_type": "code",
   "execution_count": null,
   "metadata": {},
   "outputs": [],
   "source": [
    "with open(results_path+\"prod_id_dict.json\",\"r\") as f:\n",
    "    prod_dict = json.load(f)\n",
    "    prod_ids = [prod_dict[i] for i in prod_ids]\n",
    "    prod_d2v_gpu = tf.nn.l2_normalize(tf.convert_to_tensor(model_vectors[prod_ids].toarray()))\n",
    "    del prod_ids, prod_dict\n",
    "\n",
    "with open(results_path+\"customer_id_dict.json\",\"r\") as f:\n",
    "    customer_dict = json.load(f)\n",
    "    customer_ids = [customer_dict[i] for i in customer_ids]\n",
    "    customer_d2v = model_vectors[customer_ids].toarray()\n",
    "    del customer_ids, model_vectors, customer_dict\n",
    "\n",
    "del model, model_vectors"
   ]
  },
  {
   "cell_type": "code",
   "execution_count": null,
   "metadata": {},
   "outputs": [],
   "source": [
    "batch = 512\n",
    "step = 50000 // batch\n",
    "f = h5py.File(results_path+'d2vf.h5', 'w', libver='latest')\n",
    "dset = f.create_dataset(\"d2v\", (customer_d2v.shape[0], prod_d2v_gpu.shape[0]), dtype=np.float64, compression='gzip')\n",
    "\n",
    "ptr = 0\n",
    "temp = []\n",
    "for i, batch_i in enumerate(range(0, customer_d2v.shape[0], batch)):\n",
    "    customer_batch = tf.convert_to_tensor(customer_d2v[batch_i:batch_i+batch])\n",
    "    customer_batch = tf.nn.l2_normalize(customer_batch)\n",
    "    batch_distances = tf.matmul(customer_batch, prod_d2v_gpu, transpose_b=True)\n",
    "    for distance in batch_distances:\n",
    "        temp.append(distance.numpy())\n",
    "\n",
    "    if i != 0 and (i % step == 0 or i == (customer_d2v.shape[0] // batch)):\n",
    "        temp = np.asarray(temp, dtype=np.float64)\n",
    "        dset[ptr:ptr+temp.shape[0],:] = temp\n",
    "        ptr = batch_i+batch\n",
    "        temp = []\n",
    "    print('\\r' + f'{i*batch}: %{round(100*i*batch/customer_d2v.shape[0], 2)}', end='')\n",
    "f.close()\n",
    "del customer_d2v, prod_d2v_gpu"
   ]
  },
  {
   "cell_type": "markdown",
   "metadata": {},
   "source": [
    "## Content based TfIdf results"
   ]
  },
  {
   "cell_type": "code",
   "execution_count": 3,
   "metadata": {},
   "outputs": [],
   "source": [
    "# tf-idf word level implementation //its run about 11 minutes\n",
    "corpus = pd.read_csv(path+'corpus.csv', index_col=False)[\"doc\"].apply(lambda x: x.replace('.','')).to_list()\n",
    "vectorizer = TfidfVectorizer(lowercase=True,max_features=8192, dtype=np.float32)\n",
    "model_vectors = vectorizer.fit_transform(corpus)\n",
    "\n",
    "del corpus"
   ]
  },
  {
   "cell_type": "code",
   "execution_count": 4,
   "metadata": {},
   "outputs": [],
   "source": [
    "articles = pd.read_pickle(path+\"articles.pkl\")\n",
    "articles.article_id = articles.article_id.astype(str)\n",
    "customers = pd.read_pickle(path+\"customers.pkl\")\n",
    "prod_ids = articles.article_id.tolist()\n",
    "customer_ids = customers.customer_id.tolist()\n",
    "del articles, customers"
   ]
  },
  {
   "cell_type": "code",
   "execution_count": 5,
   "metadata": {},
   "outputs": [],
   "source": [
    "with open(results_path+\"prod_id_dict.json\",\"r\") as f:\n",
    "    prod_dict = json.load(f)\n",
    "    prod_ids = [prod_dict[i] for i in prod_ids]\n",
    "    prod_tf_gpu = tf.nn.l2_normalize(tf.convert_to_tensor(model_vectors[prod_ids].toarray()))\n",
    "    del prod_ids, prod_dict\n",
    "\n",
    "with open(results_path+\"customer_id_dict.json\",\"r\") as f:\n",
    "    customer_dict = json.load(f)\n",
    "    customer_ids = [customer_dict[i] for i in customer_ids]\n",
    "    customer_tf = model_vectors[customer_ids].toarray()\n",
    "    del customer_ids, model_vectors, customer_dict"
   ]
  },
  {
   "cell_type": "code",
   "execution_count": 22,
   "metadata": {},
   "outputs": [
    {
     "name": "stdout",
     "output_type": "stream",
     "text": [
      "163840: %23.93"
     ]
    }
   ],
   "source": [
    "batch = 512\n",
    "step = 50000 // batch\n",
    "f.close()\n",
    "f = h5py.File(results_path+'tf_idf.h5', 'w', libver='latest')\n",
    "dset = f.create_dataset(\"tf_idf\", (customer_tf.shape[0], prod_tf_gpu.shape[0]), dtype=np.float64, compression='gzip')\n",
    "\n",
    "ptr = 0\n",
    "temp = []\n",
    "for i, batch_i in enumerate(range(0, customer_tf.shape[0], batch)):\n",
    "    customer_batch = tf.convert_to_tensor(customer_tf[batch_i:batch_i+batch])\n",
    "    customer_batch = tf.nn.l2_normalize(customer_batch)\n",
    "    batch_distances = tf.matmul(customer_batch, prod_tf_gpu, transpose_b=True)\n",
    "    for distance in batch_distances:\n",
    "        temp.append(distance.numpy())\n",
    "\n",
    "    if i != 0 and (i % step == 0 or i == (customer_tf.shape[0] // batch)):\n",
    "        temp = np.asarray(temp, dtype=np.float64)\n",
    "        dset[ptr:ptr+temp.shape[0],:] = temp\n",
    "        ptr = batch_i+batch\n",
    "        temp = []\n",
    "    print('\\r' + f'{i*batch}: %{round(100*i*batch/customer_tf.shape[0], 2)}', end='')\n",
    "f.close()\n",
    "del customer_tf, prod_tf_gpu"
   ]
  },
  {
   "cell_type": "markdown",
   "metadata": {},
   "source": [
    "## Only Content Based Results"
   ]
  },
  {
   "cell_type": "code",
   "execution_count": null,
   "metadata": {},
   "outputs": [],
   "source": [
    "results = h5py.File('model_data/content/tf_idf.h5', 'r')[\"tf_idf\"]\n",
    "submission = pd.read_csv('data/sample_submission.csv', index_col=False)\n",
    "with open(\"model_data/customer_id_dict.json\",\"r\") as f:\n",
    "    customer_ids = json.load(f)\n",
    "    customer_ids = {k:v-105542 for k,v in customer_ids.items()}\n",
    "with open(\"model_data/prod_id_dict.json\",\"r\") as f:\n",
    "    prod_ids = json.load(f)\n",
    "    prod_ids = {v:k for k,v in prod_ids.items()}"
   ]
  },
  {
   "cell_type": "code",
   "execution_count": null,
   "metadata": {},
   "outputs": [],
   "source": [
    "predictions = []\n",
    "results = np.asanyarray(results)\n",
    "for i, row in submission.iterrows():\n",
    "    if row.customer_id in customer_ids:\n",
    "        prods = results[customer_ids[row.customer_id],0]\n",
    "        predictions.append(' '.join([prod_ids[int(i)] for i in prods[:12]]))\n",
    "    else:\n",
    "        predictions.append(row.prediction)\n",
    "    print('\\r' + f'{i}: %{round(100*i/submission.shape[0], 2)}', end='')\n",
    "    \n",
    "submission[\"prediction\"] = predictions\n",
    "submission.to_csv('submission.csv', index=False)"
   ]
  },
  {
   "cell_type": "code",
   "execution_count": null,
   "metadata": {},
   "outputs": [],
   "source": [
    "results = h5py.File('model_data/content/d2v.h5', 'r')[\"d2v\"]\n",
    "submission = pd.read_csv('data/sample_submission.csv', index_col=False)\n",
    "with open(\"model_data/customer_id_dict.json\",\"r\") as f:\n",
    "    customer_ids = json.load(f)\n",
    "    customer_ids = {k:v-105542 for k,v in customer_ids.items()}\n",
    "with open(\"model_data/prod_id_dict.json\",\"r\") as f:\n",
    "    prod_ids = json.load(f)\n",
    "    prod_ids = {v:k for k,v in prod_ids.items()}"
   ]
  },
  {
   "cell_type": "code",
   "execution_count": null,
   "metadata": {},
   "outputs": [],
   "source": [
    "predictions = []\n",
    "results = np.asanyarray(results)\n",
    "for i, row in submission.iterrows():\n",
    "    if row.customer_id in customer_ids:\n",
    "        prods = results[customer_ids[row.customer_id],0]\n",
    "        predictions.append(' '.join([prod_ids[int(i)] for i in prods[:12]]))\n",
    "    else:\n",
    "        predictions.append(row.prediction)\n",
    "    print('\\r' + f'{i}: %{round(100*i/submission.shape[0], 2)}', end='')\n",
    "    \n",
    "submission[\"prediction\"] = predictions\n",
    "submission.to_csv('submission.csv', index=False)"
   ]
  },
  {
   "cell_type": "code",
   "execution_count": null,
   "metadata": {},
   "outputs": [],
   "source": []
  }
 ],
 "metadata": {
  "interpreter": {
   "hash": "4ad61a90f8b8ec2120f8b8d3efc4267caee6017c89f89db236bf61b71644f2c7"
  },
  "kernelspec": {
   "display_name": "Python 3.8.11 ('tf')",
   "language": "python",
   "name": "python3"
  },
  "language_info": {
   "codemirror_mode": {
    "name": "ipython",
    "version": 3
   },
   "file_extension": ".py",
   "mimetype": "text/x-python",
   "name": "python",
   "nbconvert_exporter": "python",
   "pygments_lexer": "ipython3",
   "version": "3.8.10"
  },
  "orig_nbformat": 4
 },
 "nbformat": 4,
 "nbformat_minor": 2
}
