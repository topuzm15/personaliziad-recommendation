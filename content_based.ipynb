{
 "cells": [
  {
   "cell_type": "code",
   "execution_count": 137,
   "metadata": {},
   "outputs": [],
   "source": [
    "import h5py\n",
    "import json\n",
    "import dask\n",
    "import warnings\n",
    "import numpy as np\n",
    "import pandas as pd\n",
    "import multiprocessing\n",
    "import dask.array as da\n",
    "import tensorflow as tf\n",
    "from dask import dataframe as dd\n",
    "from scipy import sparse\n",
    "from nltk.tokenize import word_tokenize\n",
    "from dask_ml.wrappers import Incremental\n",
    "from dask_ml.decomposition import TruncatedSVD\n",
    "from gensim.models.doc2vec import Doc2Vec, TaggedDocument\n",
    "from sklearn.feature_extraction.text import TfidfVectorizer\n",
    "\n",
    "warnings.filterwarnings(\"ignore\", category=RuntimeWarning)"
   ]
  },
  {
   "cell_type": "code",
   "execution_count": null,
   "metadata": {},
   "outputs": [],
   "source": [
    "articles = dd.read_csv('data/articles.csv')\n",
    "transactions = dd.read_csv('data/transactions_train.csv')\n",
    "customers = dd.read_csv('data/customers.csv')\n",
    "customer_purchase_number = transactions.groupby(\"customer_id\").size().to_frame(\"prod_number\").reset_index()\n",
    "transactions = transactions.merge(customer_purchase_number, on=\"customer_id\", how=\"inner\")\n",
    "\n",
    "train, test = transactions.random_split([0.9, 0.1], random_state=43)\n",
    "df = test.merge(train[[\"customer_id\"]], on=[\"customer_id\"], how=\"outer\", indicator=True)\n",
    "train = dd.concat([train, df[(df._merge == 'left_only') |  (df.prod_number == 1)][[\"customer_id\", \"article_id\"]]], axis=0, ignore_index=True, interleave_partitions=True, ignore_order=True)\n",
    "df = df[(df._merge == 'both') &( df.prod_number > 1)][[\"customer_id\"]].drop_duplicates()\n",
    "test = test.merge(df, how=\"inner\", on=\"customer_id\")\n",
    "print(\"Len of data: \", len(transactions))\n",
    "del transactions"
   ]
  },
  {
   "cell_type": "markdown",
   "metadata": {},
   "source": [
    "## Feature Engineering"
   ]
  },
  {
   "cell_type": "code",
   "execution_count": null,
   "metadata": {},
   "outputs": [],
   "source": [
    "# Filling NONE values\n",
    "customers.FN = customers.FN.fillna(0)\n",
    "customers.Active = customers.Active.fillna(0)\n",
    "customers.age = customers.age.fillna(customers.age.mean())\n",
    "customers.fashion_news_frequency = customers.fashion_news_frequency.fillna(\"not_regular\")\n",
    "customers.fashion_news_frequency = customers.fashion_news_frequency.apply(lambda x: \"not_regular\" if x == \"NONE\" or x == \"None\" else x, meta=('fashion_news_frequency', 'object'))\n",
    "train.price = train.price.fillna(train.price.mean())"
   ]
  },
  {
   "cell_type": "code",
   "execution_count": null,
   "metadata": {},
   "outputs": [],
   "source": [
    "# Basic statical information extraction\n",
    "prod_count = train.groupby(\"customer_id\").agg({\"customer_id\":\"count\"}).rename(columns={\"customer_id\":\"bought_\"}).reset_index()\n",
    "customers = customers.merge(prod_count, on=\"customer_id\", how=\"inner\")\n",
    "prod_price = train.groupby(\"customer_id\").agg({\"price\":[\"mean\", \"std\"]}).rename(columns={\"customer_id\":\"price_\"}).reset_index()\n",
    "prod_price.columns = list(map(''.join, prod_price.columns.values))\n",
    "customers = customers.merge(prod_price, on=\"customer_id\", how=\"inner\")\n",
    "customers.head()"
   ]
  },
  {
   "cell_type": "code",
   "execution_count": null,
   "metadata": {},
   "outputs": [],
   "source": [
    "# Creating customer last 64 order history\n",
    "def get_purchase_history(x):\n",
    "    purchase_history = zip(x[\"t_dat\"], x[\"article_id\"])\n",
    "    purchase_history_in_order = sorted(purchase_history, key=lambda i: i[0],reverse=True)[:64]\n",
    "    return [i[1] for i in purchase_history_in_order]\n",
    "\n",
    "\n",
    "purchase_history = train.groupby([\"customer_id\"]).apply(get_purchase_history, meta=(\"article_ids\",object)).reset_index().compute().drop_duplicates(\"customer_id\")"
   ]
  },
  {
   "cell_type": "code",
   "execution_count": null,
   "metadata": {},
   "outputs": [],
   "source": [
    "# Converting articles to document\n",
    "articles = dd.read_csv('data/articles.csv')\n",
    "def article2doc(x):\n",
    "    def clean_doc(text):\n",
    "        unwanted_chars = ['1','2','3','4','5','6','7','8','9','(',')','[',']']\n",
    "        for chr in unwanted_chars:\n",
    "            text = text.replace(chr, '')\n",
    "        return text\n",
    "\n",
    "    doc =  '. '.join([x.prod_name, x.product_type_name, x.product_group_name, x.graphical_appearance_name, x.colour_group_name,\\\n",
    "                      x.perceived_colour_value_name, x.perceived_colour_master_name, x.department_name, x.index_name, x.index_group_name,\\\n",
    "                      x.section_name, x.garment_group_name, str(x.detail_desc)])[:-1]\n",
    "    return(clean_doc(doc))\n",
    "\n",
    "articles[\"doc\"] = articles.apply(article2doc, axis=1, meta=(\"doc\",\"object\"))"
   ]
  },
  {
   "cell_type": "code",
   "execution_count": null,
   "metadata": {},
   "outputs": [],
   "source": [
    "# Converting customer purchase histroy and product features to document\n",
    "prod_dict = {}\n",
    "for i,row in articles.iterrows():\n",
    "    prod_dict[row.article_id] = row.doc\n",
    "\n",
    "customers_dict = {}\n",
    "for i, row in purchase_history.iterrows():\n",
    "    customers_dict[row.customer_id] = \" \".join(map(lambda x: prod_dict[x], row.article_ids))\n",
    "\n",
    "prod_doc_df = pd.DataFrame({\"id\":prod_dict.keys(), \"doc\": prod_dict.values(), \"type\":\"product\"})\n",
    "customer_doc_df = pd.DataFrame({\"id\":customers_dict.keys(), \"doc\": customers_dict.values(), \"type\":\"customer\"})\n",
    "doc_df = pd.concat([prod_doc_df, customer_doc_df])\n",
    "doc_df.to_csv(\"data/corpus.csv\", index=False)\n",
    "\n",
    "del prod_dict, customers_dict, prod_doc_df, customer_doc_df, articles"
   ]
  },
  {
   "cell_type": "markdown",
   "metadata": {},
   "source": [
    "## Demographic Score"
   ]
  },
  {
   "cell_type": "code",
   "execution_count": null,
   "metadata": {},
   "outputs": [],
   "source": [
    "prod_sell_counts = train.groupby(\"article_id\").size().reset_index().rename(columns={0:\"sell_score\"})\n",
    "prod_sell_counts.sell_score = (prod_sell_counts.sell_score - prod_sell_counts.sell_score.min()) / (prod_sell_counts.sell_score.max() - prod_sell_counts.sell_score.min())\n",
    "prod_sell_counts.to_csv(\"model_data/demographic/scores.csv\", index=False)"
   ]
  },
  {
   "cell_type": "markdown",
   "metadata": {},
   "source": [
    "## Content Based Doc2Vec"
   ]
  },
  {
   "cell_type": "code",
   "execution_count": null,
   "metadata": {},
   "outputs": [],
   "source": [
    "corpus = pd.read_csv(\"data/corpus.csv\")\n",
    "indexes = corpus[corpus.type == \"product\"].index.tolist()\n",
    "ids = corpus[corpus.type == \"product\"].id.tolist()\n",
    "id_dict = dict(zip(ids, indexes))\n",
    "with open('model_data/prod_id_dict.json', 'w') as fp:\n",
    "    json.dump(id_dict, fp)\n",
    "indexes = corpus[corpus.type == \"customer\"].index.tolist()\n",
    "ids = corpus[corpus.type == \"customer\"].id.tolist()\n",
    "id_dict = dict(zip(ids, indexes))\n",
    "with open('model_data/customer_id_dict.json', 'w') as fp:\n",
    "    json.dump(id_dict, fp)\n",
    "del corpus, indexes, ids, id_dict"
   ]
  },
  {
   "cell_type": "code",
   "execution_count": null,
   "metadata": {},
   "outputs": [],
   "source": [
    "corpus = pd.read_csv('data/corpus.csv', index_col=False)[\"doc\"].apply(lambda x: x.replace('.','')).to_list()\n",
    "Documents = [TaggedDocument(words=word_tokenize(_d.lower()), tags=[str(i)]) for i, _d in enumerate(corpus)]"
   ]
  },
  {
   "cell_type": "code",
   "execution_count": null,
   "metadata": {},
   "outputs": [],
   "source": [
    "# doc2vec\n",
    "epochs = 50\n",
    "cores = multiprocessing.cpu_count()\n",
    "\n",
    "model= Doc2Vec(dm=0,\n",
    "               vector_size=512,\n",
    "               negative=5,\n",
    "               hs=0,\n",
    "               min_count=2,\n",
    "               sample = 0,\n",
    "               workers=cores)\n",
    "\n",
    "model.build_vocab(Documents)\n",
    "for epoch in range(epochs):\n",
    "    print('iteration {0}'.format(epoch),end = \"\\r\")\n",
    "    model.train(Documents,\n",
    "                total_examples=model.corpus_count,\n",
    "                epochs=1)\n",
    "    # decrease the learning rate\n",
    "    model.alpha -= 0.0002\n",
    "    # fix the learning rate, no decay\n",
    "    model.min_alpha = model.alpha\n",
    "\n",
    "model.save(\"model_data/d2v.model\")\n",
    "print(\"Model Saved.\")"
   ]
  },
  {
   "cell_type": "markdown",
   "metadata": {},
   "source": [
    "## Preparing purchase history"
   ]
  },
  {
   "cell_type": "code",
   "execution_count": null,
   "metadata": {},
   "outputs": [],
   "source": [
    "transactions = dd.read_csv('data/transactions_train.csv')\n",
    "customer_purchase_number = transactions.groupby(\"customer_id\").size().to_frame(\"prod_number\").reset_index()\n",
    "transactions = transactions.merge(customer_purchase_number, on=\"customer_id\", how=\"inner\")\n",
    "train, test = transactions.random_split([0.9, 0.1], random_state=43)\n",
    "df = test.merge(train[[\"customer_id\"]], on=[\"customer_id\"], how=\"outer\", indicator=True)\n",
    "train = dd.concat([train, df[(df._merge == 'left_only') |  (df.prod_number == 1)][[\"customer_id\", \"article_id\"]]], axis=0, ignore_index=True, interleave_partitions=True, ignore_order=True)\n",
    "print(\"Len of data: \", len(transactions))\n",
    "del transactions, test"
   ]
  },
  {
   "cell_type": "code",
   "execution_count": null,
   "metadata": {},
   "outputs": [],
   "source": [
    "with open(\"model_data/customer_id_dict.json\",\"r\") as f:\n",
    "    customer_ids = json.load(f)\n",
    "with open(\"model_data/prod_id_dict.json\",\"r\") as f:\n",
    "    prod_ids = json.load(f)"
   ]
  },
  {
   "cell_type": "code",
   "execution_count": 97,
   "metadata": {},
   "outputs": [],
   "source": [
    "customer_hist = train.groupby(\"customer_id\").article_id.apply(lambda x: list(map(lambda i: str(int(i)), set(x))), meta=('history',object)).reset_index().compute()\n",
    "customer_hist.customer_id = customer_hist.customer_id.map(lambda x: customer_ids[x])\n",
    "customer_hist.history = customer_hist.history.map(lambda x: [prod_ids[i] for i in x])\n",
    "customer_hist[\"customer_map\"] = customer_hist.customer_id - customer_hist.customer_id.min()\n",
    "customer_hist.sort_values(by=\"customer_map\", inplace=True)\n",
    "customer_hist = customer_hist.reset_index()[[\"customer_id\", \"history\"]]"
   ]
  },
  {
   "cell_type": "code",
   "execution_count": 199,
   "metadata": {},
   "outputs": [],
   "source": [
    "model = Doc2Vec.load(\"model_data/d2v.model\")\n",
    "model_vectors = model.dv.get_normed_vectors()\n",
    "with open(\"model_data/prod_id_dict.json\",\"r\") as f:\n",
    "    prod_ids = list(json.load(f).values())\n",
    "    prod_d2v_gpu = tf.nn.l2_normalize(tf.convert_to_tensor(model_vectors[prod_ids]))\n",
    "    customer_d2v = tf.convert_to_tensor(np.delete(model_vectors, prod_ids,axis=0))\n",
    "del model, model_vectors"
   ]
  },
  {
   "cell_type": "code",
   "execution_count": null,
   "metadata": {},
   "outputs": [],
   "source": [
    "sparse_history = sparse.lil_matrix((customer_hist.shape[0], len(prod_ids)), dtype=int)\n",
    "for i, row in customer_hist.iterrows():\n",
    "    sparse_history[0, row.history] = -1"
   ]
  },
  {
   "cell_type": "code",
   "execution_count": 200,
   "metadata": {},
   "outputs": [
    {
     "name": "stdout",
     "output_type": "stream",
     "text": [
      "1361920: %99.97"
     ]
    }
   ],
   "source": [
    "batch = 512\n",
    "step = 15000 // batch\n",
    "f = h5py.File('model_data/content/d2v.h5', 'w', libver='latest')\n",
    "dset = f.create_dataset(\"d2v\", (customer_d2v.shape[0], 2, 150), dtype=np.float32, compression='gzip')\n",
    "\n",
    "ptr = 0\n",
    "score_temp = []\n",
    "indices_temp = []\n",
    "for i, batch_i in enumerate(range(0, customer_d2v.shape[0], batch)):\n",
    "    customer_batch = tf.nn.l2_normalize(customer_d2v[batch_i:batch_i+batch], 1)\n",
    "    batch_distances = tf.matmul(customer_batch, prod_d2v_gpu, transpose_b=True)\n",
    "    batch_distances = tf.convert_to_tensor(sparse_history[batch_i:batch_i+batch].toarray(), dtype=tf.float32) + batch_distances\n",
    "    for distance in batch_distances:\n",
    "        values, indices = tf.math.top_k(distance, k=150)\n",
    "        score_temp.append(values)\n",
    "        indices_temp.append(tf.cast(indices, tf.float32))\n",
    "\n",
    "    if i != 0 and (i % step == 0 or i == (customer_d2v.shape[0] // batch)):\n",
    "        score_temp = np.asarray(score_temp, dtype=np.float32)\n",
    "        indices_temp = np.asarray(indices_temp, dtype=np.float32)\n",
    "        dset[ptr:ptr+score_temp.shape[0],1,:] = score_temp\n",
    "        dset[ptr:ptr+indices_temp.shape[0],0,:] = indices_temp\n",
    "        ptr = batch_i+batch\n",
    "        score_temp = []\n",
    "        indices_temp = []\n",
    "\n",
    "    print('\\r' + f'{i*batch}: %{round(100*i*batch/customer_d2v.shape[0], 2)}', end='')\n",
    "f.close()\n",
    "del customer_d2v, prod_d2v_gpu"
   ]
  },
  {
   "cell_type": "markdown",
   "metadata": {},
   "source": [
    "## Content based TfIdf results"
   ]
  },
  {
   "cell_type": "code",
   "execution_count": null,
   "metadata": {},
   "outputs": [],
   "source": [
    "# tf-idf word level implementation //its run about 11 minutes\n",
    "corpus = pd.read_csv('data/corpus.csv', index_col=False)[\"doc\"].apply(lambda x: x.replace('.','')).to_list()\n",
    "vectorizer = TfidfVectorizer(lowercase=True,max_features=8192, dtype=np.float32)\n",
    "model_vectors = vectorizer.fit_transform(corpus)\n",
    "\n",
    "del corpus\n",
    "with open(\"model_data/prod_id_dict.json\",\"r\") as f:\n",
    "    prod_ids = list(json.load(f).values())\n",
    "    prod_tf_gpu = tf.convert_to_tensor(model_vectors[prod_ids].toarray())\n",
    "    del prod_ids\n",
    "with open(\"model_data/customer_id_dict.json\",\"r\") as f:\n",
    "    customer_ids = list(json.load(f).values())\n",
    "    customer_tf = model_vectors[customer_ids].toarray()\n",
    "    del customer_ids, model_vectors"
   ]
  },
  {
   "cell_type": "code",
   "execution_count": null,
   "metadata": {},
   "outputs": [],
   "source": [
    "batch = 512\n",
    "step = 15000 // batch\n",
    "f.close()\n",
    "f = h5py.File('model_data/content/tf_idf.h5', 'w', libver='latest')\n",
    "dset = f.create_dataset(\"tf_idf\", (customer_tf.shape[0], 2, 150), dtype=np.float32, compression='gzip')\n",
    "\n",
    "ptr = 0\n",
    "score_temp = []\n",
    "indices_temp = []\n",
    "for i, batch_i in enumerate(range(0, customer_tf.shape[0], batch)):\n",
    "    customer_batch = tf.convert_to_tensor(customer_tf[batch_i:batch_i+batch])\n",
    "    batch_distances = tf.matmul(customer_batch, prod_tf_gpu, transpose_b=True)\n",
    "    for distance in batch_distances:\n",
    "        values, indices = tf.math.top_k(distance, k=150)\n",
    "        score_temp.append(values)\n",
    "        indices_temp.append(tf.cast(indices, tf.float32))\n",
    "\n",
    "    if i != 0 and (i % step == 0 or i == (customer_tf.shape[0] // batch)):\n",
    "        score_temp = np.asarray(score_temp, dtype=np.float32)\n",
    "        indices_temp = np.asarray(indices_temp, dtype=np.float32)\n",
    "        dset[ptr:ptr+score_temp.shape[0],1,:] = score_temp\n",
    "        dset[ptr:ptr+indices_temp.shape[0],0,:] = indices_temp\n",
    "        ptr = batch_i+batch\n",
    "        score_temp = []\n",
    "        indices_temp = []\n",
    "    print('\\r' + f'{i*batch}: %{round(100*i*batch/customer_tf.shape[0], 2)}', end='')\n",
    "f.close()\n",
    "del customer_tf, prod_tf_gpu"
   ]
  },
  {
   "cell_type": "markdown",
   "metadata": {},
   "source": [
    "## Content Based Results"
   ]
  },
  {
   "cell_type": "code",
   "execution_count": null,
   "metadata": {},
   "outputs": [],
   "source": [
    "results = h5py.File('model_data/content/tf_idf.h5', 'r')[\"tf_idf\"]\n",
    "submission = pd.read_csv('data/sample_submission.csv', index_col=False)\n",
    "with open(\"model_data/customer_id_dict.json\",\"r\") as f:\n",
    "    customer_ids = json.load(f)\n",
    "    customer_ids = {k:v-105542 for k,v in customer_ids.items()}\n",
    "with open(\"model_data/prod_id_dict.json\",\"r\") as f:\n",
    "    prod_ids = json.load(f)\n",
    "    prod_ids = {v:k for k,v in prod_ids.items()}"
   ]
  },
  {
   "cell_type": "code",
   "execution_count": null,
   "metadata": {},
   "outputs": [],
   "source": [
    "predictions = []\n",
    "results = np.asanyarray(results)\n",
    "for i, row in submission.iterrows():\n",
    "    if row.customer_id in customer_ids:\n",
    "        prods = results[customer_ids[row.customer_id],0]\n",
    "        predictions.append(' '.join([prod_ids[int(i)] for i in prods[:12]]))\n",
    "    else:\n",
    "        predictions.append(row.prediction)\n",
    "    print('\\r' + f'{i}: %{round(100*i/submission.shape[0], 2)}', end='')\n",
    "    \n",
    "submission[\"prediction\"] = predictions\n",
    "submission.to_csv('submission.csv', index=False)"
   ]
  },
  {
   "cell_type": "code",
   "execution_count": 201,
   "metadata": {},
   "outputs": [],
   "source": [
    "results = h5py.File('model_data/content/d2v.h5', 'r')[\"d2v\"]\n",
    "submission = pd.read_csv('data/sample_submission.csv', index_col=False)\n",
    "with open(\"model_data/customer_id_dict.json\",\"r\") as f:\n",
    "    customer_ids = json.load(f)\n",
    "    customer_ids = {k:v-105542 for k,v in customer_ids.items()}\n",
    "with open(\"model_data/prod_id_dict.json\",\"r\") as f:\n",
    "    prod_ids = json.load(f)\n",
    "    prod_ids = {v:k for k,v in prod_ids.items()}"
   ]
  },
  {
   "cell_type": "code",
   "execution_count": 202,
   "metadata": {},
   "outputs": [
    {
     "name": "stdout",
     "output_type": "stream",
     "text": [
      "1371979: %100.0"
     ]
    }
   ],
   "source": [
    "predictions = []\n",
    "results = np.asanyarray(results)\n",
    "for i, row in submission.iterrows():\n",
    "    if row.customer_id in customer_ids:\n",
    "        prods = results[customer_ids[row.customer_id],0]\n",
    "        predictions.append(' '.join([prod_ids[int(i)] for i in prods[:12]]))\n",
    "    else:\n",
    "        predictions.append(row.prediction)\n",
    "    print('\\r' + f'{i}: %{round(100*i/submission.shape[0], 2)}', end='')\n",
    "    \n",
    "submission[\"prediction\"] = predictions\n",
    "submission.to_csv('submission.csv', index=False)"
   ]
  },
  {
   "cell_type": "code",
   "execution_count": null,
   "metadata": {},
   "outputs": [],
   "source": []
  }
 ],
 "metadata": {
  "interpreter": {
   "hash": "4ad61a90f8b8ec2120f8b8d3efc4267caee6017c89f89db236bf61b71644f2c7"
  },
  "kernelspec": {
   "display_name": "Python 3.8.11 ('tf')",
   "language": "python",
   "name": "python3"
  },
  "language_info": {
   "codemirror_mode": {
    "name": "ipython",
    "version": 3
   },
   "file_extension": ".py",
   "mimetype": "text/x-python",
   "name": "python",
   "nbconvert_exporter": "python",
   "pygments_lexer": "ipython3",
   "version": "3.8.11"
  },
  "orig_nbformat": 4
 },
 "nbformat": 4,
 "nbformat_minor": 2
}
