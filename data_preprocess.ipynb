{
 "cells": [
  {
   "cell_type": "code",
   "execution_count": 1,
   "metadata": {},
   "outputs": [],
   "source": [
    "import numpy as np\n",
    "import pandas as pd\n",
    "from datetime import timedelta\n",
    "from dask import dataframe as dd\n",
    "pd.options.mode.chained_assignment = None\n",
    "\n",
    "ensemble = True"
   ]
  },
  {
   "cell_type": "code",
   "execution_count": 2,
   "metadata": {},
   "outputs": [],
   "source": [
    "transactions = dd.read_csv('data/transactions_train.csv', dtype={'article_id': str})\n",
    "if ensemble:\n",
    "    transactions = transactions[(transactions.t_dat >= '2020-03-17') & (transactions.t_dat < '2020-09-15')]\n",
    "else:\n",
    "    transactions = transactions[transactions.t_dat >= '2020-03-24']\n",
    "transactions.t_dat = dd.to_datetime(transactions.t_dat) - timedelta(2)\n",
    "transactions[\"week\"] = transactions.t_dat.dt.isocalendar().week\n",
    "transactions = transactions.compute()\n",
    "transactions[\"rebuy_count\"] = transactions.groupby([\"customer_id\", \"article_id\"]).cumcount().astype(int)\n",
    "transactions[\"rebuy_count\"] = transactions.rebuy_count.apply(lambda x: x -1 if x > 0 else 0)"
   ]
  },
  {
   "cell_type": "code",
   "execution_count": 3,
   "metadata": {},
   "outputs": [],
   "source": [
    "most_solds = transactions[transactions.week == transactions.week.max()].groupby([\"article_id\"]).agg({\"article_id\":\"count\"})\\\n",
    "                                   .rename(columns={\"article_id\":\"_count\"}).reset_index()\\\n",
    "                                   .sort_values('_count', ascending=False)\n",
    "most_solds = most_solds.head(10000)\n",
    "transactions = transactions[transactions.article_id.isin(most_solds.article_id)]\n",
    "articles = pd.read_csv(\"data/articles.csv\", dtype={'article_id': str})\n",
    "articles = articles[articles.article_id.isin(most_solds.article_id)]\n",
    "del most_solds"
   ]
  },
  {
   "cell_type": "code",
   "execution_count": 4,
   "metadata": {},
   "outputs": [],
   "source": [
    "active_customers = transactions.customer_id.unique()\n",
    "customers = pd.read_csv(\"data/customers.csv\", dtype={'customer_id': str})\n",
    "customers = customers[customers.customer_id.isin(active_customers)]\n",
    "del active_customers"
   ]
  },
  {
   "cell_type": "code",
   "execution_count": 5,
   "metadata": {},
   "outputs": [],
   "source": [
    "def gender_classification(age):\n",
    "    if age < 19:\n",
    "        return 0\n",
    "    elif age < 29:\n",
    "        return 1\n",
    "    elif age < 49:\n",
    "        return 2\n",
    "    elif age < 59:\n",
    "        return 3\n",
    "    elif age < 69:\n",
    "        return 4\n",
    "    else:\n",
    "        return 5\n",
    "\n",
    "customers[\"age\"] = customers.age.fillna(np.mean(customers.age))\n",
    "customers[\"age_bin\"] = customers.age.map(gender_classification)"
   ]
  },
  {
   "cell_type": "code",
   "execution_count": 6,
   "metadata": {},
   "outputs": [],
   "source": [
    "def gender_classification(section_name):\n",
    "    if \"womens\" in section_name or \"girl\" in section_name or \"ladies\" in section_name:\n",
    "        return \"woman\"\n",
    "    elif \"men\" in section_name or \"boy\" in section_name or \"boys\" in section_name:\n",
    "        return \"man\"\n",
    "    else:\n",
    "        return \"other\"\n",
    "\n",
    "articles.section_name = articles.section_name.map(lambda x: x.lower())\n",
    "articles[\"gender_group\"] = articles.section_name.apply(gender_classification)"
   ]
  },
  {
   "cell_type": "code",
   "execution_count": 7,
   "metadata": {},
   "outputs": [],
   "source": [
    "transactions = transactions.merge(articles[[\"article_id\", \"gender_group\"]], on=\"article_id\", how=\"inner\")\n",
    "transactions = transactions.merge(customers[[\"customer_id\",\"age_bin\"]], on=\"customer_id\", how=\"inner\")\n",
    "customer_hist = transactions.groupby(by=\"customer_id\").agg({\"article_id\": lambda x: list(x.values), \"week\": lambda x: list(x.values), \"gender_group\": lambda x : x.mode().iloc[0]}).reset_index()\n",
    "customers = customers.merge(customer_hist, on=\"customer_id\", how=\"left\")\n",
    "customers.article_id = customers.article_id.fillna(\"\").apply(list)\n",
    "customers.gender_group = customers.gender_group.fillna(\"other\")\n",
    "transactions.price = transactions.price.fillna(transactions.price.mean())\n",
    "prod_price = transactions.groupby(\"customer_id\").agg({\"price\":\"mean\"}).rename(columns={\"customer_id\":\"price_\"}).reset_index()\n",
    "prod_price.columns = list(map(''.join, prod_price.columns.values))\n",
    "customers = customers.merge(prod_price, on=\"customer_id\", how=\"inner\")\n",
    "del customer_hist"
   ]
  },
  {
   "cell_type": "code",
   "execution_count": 8,
   "metadata": {},
   "outputs": [],
   "source": [
    "customers[\"history\"] = customers.apply(lambda x: sorted(zip(x.week, x.article_id)), axis=1)\n",
    "customers.FN = customers.FN.fillna(0)\n",
    "customers.Active = customers.Active.fillna(0)\n",
    "customers.fashion_news_frequency = customers.fashion_news_frequency.fillna(\"not_regular\")\n",
    "customers.club_member_status = customers.club_member_status.fillna(\"no-info\")\n",
    "customers.fashion_news_frequency = customers.fashion_news_frequency.apply(lambda x: \"not_regular\" if x == \"NONE\" or x == \"None\" else x)\n",
    "customers[\"numberOfArticles\"] = customers.apply(lambda x: len(x.history), axis=1)\n",
    "customers = customers.drop(columns=[\"postal_code\", \"week\", \"article_id\"])"
   ]
  },
  {
   "cell_type": "code",
   "execution_count": 9,
   "metadata": {},
   "outputs": [],
   "source": [
    "def map_fashion_news(name):\n",
    "    return 1 if name == 'not_regular' else 0\n",
    "def map_club_member(name):\n",
    "    return 1 if name == 'ACTIVE' else 0\n",
    "\n",
    "customers.fashion_news_frequency = customers.fashion_news_frequency.map(map_fashion_news)\n",
    "customers.club_member_status = customers.club_member_status.map(map_club_member)"
   ]
  },
  {
   "cell_type": "code",
   "execution_count": 10,
   "metadata": {},
   "outputs": [],
   "source": [
    "def article2doc(x):\n",
    "    def clean_doc(text):\n",
    "        unwanted_chars = ['1','2','3','4','5','6','7','8','9','(',')','[',']']\n",
    "        for chr in unwanted_chars:\n",
    "            text = text.replace(chr, '')\n",
    "        return text\n",
    "\n",
    "    doc =  '. '.join([x.prod_name, x.product_type_name, x.product_group_name, x.graphical_appearance_name, x.colour_group_name,\\\n",
    "                      x.perceived_colour_value_name, x.perceived_colour_master_name, x.department_name, x.index_name, x.index_group_name,\\\n",
    "                      x.section_name, x.garment_group_name, str(x.detail_desc)])[:-1]\n",
    "    return(clean_doc(doc.lower()))\n",
    "\n",
    "articles[\"doc\"] = articles.apply(article2doc, axis=1)\n",
    "article_info = transactions.groupby([\"article_id\"]).agg({\"price\":\"mean\", \"rebuy_count\":\"sum\", \"age_bin\": lambda x : x.mode().iloc[0]}).rename(columns={\"price\":\"prod_avg_price\",\"rebuy_count\":\"prod_rebuy_count\",\"age_bin\":\"prod_age_bin\"}).reset_index()\n",
    "articles = articles.merge(article_info, on=\"article_id\", how=\"inner\")\n",
    "most_solds = transactions[transactions.week > transactions.week.max()-3].groupby([\"article_id\"]).agg({\"customer_id\":\"count\"})\\\n",
    "                                      .rename(columns={\"customer_id\":\"prod_sold_count\"}).reset_index()\n",
    "articles = articles.merge(most_solds, on=\"article_id\", how=\"inner\")\n",
    "articles = articles[[\"article_id\",\"doc\",\"gender_group\", \"prod_avg_price\", \"prod_rebuy_count\", \"prod_age_bin\", \"prod_sold_count\"]]\n",
    "weekly_sales = transactions.groupby([\"article_id\", \"week\"]).agg({\"customer_id\":\"count\"}).reset_index()\n",
    "last_week_sales = weekly_sales[weekly_sales.week == weekly_sales.week.max()]\n",
    "weekly_sales = weekly_sales.merge(last_week_sales[[\"article_id\",\"customer_id\"]], on=[\"article_id\"], how=\"inner\")\n",
    "weekly_sales[\"quotient\"] = weekly_sales.customer_id_y / weekly_sales.customer_id_x\n",
    "articles = articles.merge(weekly_sales[[\"article_id\",\"quotient\"]], on=\"article_id\", how=\"inner\")\n",
    "\n",
    "del article_info, most_solds, weekly_sales, last_week_sales"
   ]
  },
  {
   "cell_type": "code",
   "execution_count": 11,
   "metadata": {},
   "outputs": [],
   "source": [
    "customers[\"doc\"] = customers.history.apply(lambda x: list(set([i[1] for i in x])))\n",
    "temp_dict = {}\n",
    "for i,row in articles.iterrows():\n",
    "    temp_dict[row.article_id] = row.doc\n",
    "\n",
    "customers[\"doc\"] = customers.doc.apply(lambda x:  \". \".join([temp_dict[i] for i in x]))"
   ]
  },
  {
   "cell_type": "code",
   "execution_count": 12,
   "metadata": {},
   "outputs": [
    {
     "data": {
      "text/html": [
       "<div>\n",
       "<style scoped>\n",
       "    .dataframe tbody tr th:only-of-type {\n",
       "        vertical-align: middle;\n",
       "    }\n",
       "\n",
       "    .dataframe tbody tr th {\n",
       "        vertical-align: top;\n",
       "    }\n",
       "\n",
       "    .dataframe thead th {\n",
       "        text-align: right;\n",
       "    }\n",
       "</style>\n",
       "<table border=\"1\" class=\"dataframe\">\n",
       "  <thead>\n",
       "    <tr style=\"text-align: right;\">\n",
       "      <th></th>\n",
       "      <th>customer_id</th>\n",
       "      <th>FN</th>\n",
       "      <th>Active</th>\n",
       "      <th>club_member_status</th>\n",
       "      <th>fashion_news_frequency</th>\n",
       "      <th>age</th>\n",
       "      <th>age_bin</th>\n",
       "      <th>gender_group</th>\n",
       "      <th>price</th>\n",
       "      <th>history</th>\n",
       "      <th>numberOfArticles</th>\n",
       "      <th>doc</th>\n",
       "    </tr>\n",
       "  </thead>\n",
       "  <tbody>\n",
       "    <tr>\n",
       "      <th>0</th>\n",
       "      <td>00000dbacae5abe5e23885899a1fa44253a17956c6d1c3...</td>\n",
       "      <td>0.0</td>\n",
       "      <td>0.0</td>\n",
       "      <td>1</td>\n",
       "      <td>1</td>\n",
       "      <td>49.0</td>\n",
       "      <td>3</td>\n",
       "      <td>woman</td>\n",
       "      <td>0.032610</td>\n",
       "      <td>[(12, 0795440001), (36, 0568601043)]</td>\n",
       "      <td>2</td>\n",
       "      <td>juan. vest top. garment upper body. solid. bla...</td>\n",
       "    </tr>\n",
       "    <tr>\n",
       "      <th>1</th>\n",
       "      <td>0000423b00ade91418cceaf3b26c6af3dd342b51fd051e...</td>\n",
       "      <td>0.0</td>\n",
       "      <td>0.0</td>\n",
       "      <td>1</td>\n",
       "      <td>1</td>\n",
       "      <td>25.0</td>\n",
       "      <td>1</td>\n",
       "      <td>woman</td>\n",
       "      <td>0.022017</td>\n",
       "      <td>[(17, 0351484002), (17, 0559630026), (17, 0599...</td>\n",
       "      <td>9</td>\n",
       "      <td>timeless midrise brief. swimwear bottom. swimw...</td>\n",
       "    </tr>\n",
       "    <tr>\n",
       "      <th>2</th>\n",
       "      <td>000058a12d5b43e67d225668fa1f8d618c13dc232df0ca...</td>\n",
       "      <td>0.0</td>\n",
       "      <td>0.0</td>\n",
       "      <td>1</td>\n",
       "      <td>1</td>\n",
       "      <td>24.0</td>\n",
       "      <td>1</td>\n",
       "      <td>man</td>\n",
       "      <td>0.025407</td>\n",
       "      <td>[(16, 0852643001), (16, 0852643003)]</td>\n",
       "      <td>2</td>\n",
       "      <td>pez sweater. sweater. garment upper body. soli...</td>\n",
       "    </tr>\n",
       "  </tbody>\n",
       "</table>\n",
       "</div>"
      ],
      "text/plain": [
       "                                         customer_id   FN  Active  \\\n",
       "0  00000dbacae5abe5e23885899a1fa44253a17956c6d1c3...  0.0     0.0   \n",
       "1  0000423b00ade91418cceaf3b26c6af3dd342b51fd051e...  0.0     0.0   \n",
       "2  000058a12d5b43e67d225668fa1f8d618c13dc232df0ca...  0.0     0.0   \n",
       "\n",
       "   club_member_status  fashion_news_frequency   age  age_bin gender_group  \\\n",
       "0                   1                       1  49.0        3        woman   \n",
       "1                   1                       1  25.0        1        woman   \n",
       "2                   1                       1  24.0        1          man   \n",
       "\n",
       "      price                                            history  \\\n",
       "0  0.032610               [(12, 0795440001), (36, 0568601043)]   \n",
       "1  0.022017  [(17, 0351484002), (17, 0559630026), (17, 0599...   \n",
       "2  0.025407               [(16, 0852643001), (16, 0852643003)]   \n",
       "\n",
       "   numberOfArticles                                                doc  \n",
       "0                 2  juan. vest top. garment upper body. solid. bla...  \n",
       "1                 9  timeless midrise brief. swimwear bottom. swimw...  \n",
       "2                 2  pez sweater. sweater. garment upper body. soli...  "
      ]
     },
     "execution_count": 12,
     "metadata": {},
     "output_type": "execute_result"
    }
   ],
   "source": [
    "customers.head(3)"
   ]
  },
  {
   "cell_type": "code",
   "execution_count": 13,
   "metadata": {},
   "outputs": [
    {
     "data": {
      "text/html": [
       "<div>\n",
       "<style scoped>\n",
       "    .dataframe tbody tr th:only-of-type {\n",
       "        vertical-align: middle;\n",
       "    }\n",
       "\n",
       "    .dataframe tbody tr th {\n",
       "        vertical-align: top;\n",
       "    }\n",
       "\n",
       "    .dataframe thead th {\n",
       "        text-align: right;\n",
       "    }\n",
       "</style>\n",
       "<table border=\"1\" class=\"dataframe\">\n",
       "  <thead>\n",
       "    <tr style=\"text-align: right;\">\n",
       "      <th></th>\n",
       "      <th>article_id</th>\n",
       "      <th>doc</th>\n",
       "      <th>gender_group</th>\n",
       "      <th>prod_avg_price</th>\n",
       "      <th>prod_rebuy_count</th>\n",
       "      <th>prod_age_bin</th>\n",
       "      <th>prod_sold_count</th>\n",
       "      <th>quotient</th>\n",
       "    </tr>\n",
       "  </thead>\n",
       "  <tbody>\n",
       "    <tr>\n",
       "      <th>0</th>\n",
       "      <td>0108775044</td>\n",
       "      <td>strap top. vest top. garment upper body. solid...</td>\n",
       "      <td>woman</td>\n",
       "      <td>0.007931</td>\n",
       "      <td>27</td>\n",
       "      <td>1</td>\n",
       "      <td>15</td>\n",
       "      <td>3.000000</td>\n",
       "    </tr>\n",
       "    <tr>\n",
       "      <th>1</th>\n",
       "      <td>0108775044</td>\n",
       "      <td>strap top. vest top. garment upper body. solid...</td>\n",
       "      <td>woman</td>\n",
       "      <td>0.007931</td>\n",
       "      <td>27</td>\n",
       "      <td>1</td>\n",
       "      <td>15</td>\n",
       "      <td>0.750000</td>\n",
       "    </tr>\n",
       "    <tr>\n",
       "      <th>2</th>\n",
       "      <td>0108775044</td>\n",
       "      <td>strap top. vest top. garment upper body. solid...</td>\n",
       "      <td>woman</td>\n",
       "      <td>0.007931</td>\n",
       "      <td>27</td>\n",
       "      <td>1</td>\n",
       "      <td>15</td>\n",
       "      <td>1.500000</td>\n",
       "    </tr>\n",
       "    <tr>\n",
       "      <th>3</th>\n",
       "      <td>0108775044</td>\n",
       "      <td>strap top. vest top. garment upper body. solid...</td>\n",
       "      <td>woman</td>\n",
       "      <td>0.007931</td>\n",
       "      <td>27</td>\n",
       "      <td>1</td>\n",
       "      <td>15</td>\n",
       "      <td>0.333333</td>\n",
       "    </tr>\n",
       "    <tr>\n",
       "      <th>4</th>\n",
       "      <td>0108775044</td>\n",
       "      <td>strap top. vest top. garment upper body. solid...</td>\n",
       "      <td>woman</td>\n",
       "      <td>0.007931</td>\n",
       "      <td>27</td>\n",
       "      <td>1</td>\n",
       "      <td>15</td>\n",
       "      <td>0.142857</td>\n",
       "    </tr>\n",
       "  </tbody>\n",
       "</table>\n",
       "</div>"
      ],
      "text/plain": [
       "   article_id                                                doc gender_group  \\\n",
       "0  0108775044  strap top. vest top. garment upper body. solid...        woman   \n",
       "1  0108775044  strap top. vest top. garment upper body. solid...        woman   \n",
       "2  0108775044  strap top. vest top. garment upper body. solid...        woman   \n",
       "3  0108775044  strap top. vest top. garment upper body. solid...        woman   \n",
       "4  0108775044  strap top. vest top. garment upper body. solid...        woman   \n",
       "\n",
       "   prod_avg_price  prod_rebuy_count  prod_age_bin  prod_sold_count  quotient  \n",
       "0        0.007931                27             1               15  3.000000  \n",
       "1        0.007931                27             1               15  0.750000  \n",
       "2        0.007931                27             1               15  1.500000  \n",
       "3        0.007931                27             1               15  0.333333  \n",
       "4        0.007931                27             1               15  0.142857  "
      ]
     },
     "execution_count": 13,
     "metadata": {},
     "output_type": "execute_result"
    }
   ],
   "source": [
    "articles.head()"
   ]
  },
  {
   "cell_type": "markdown",
   "metadata": {},
   "source": [
    "## Content Based Corpus Data Creating"
   ]
  },
  {
   "cell_type": "code",
   "execution_count": 14,
   "metadata": {},
   "outputs": [],
   "source": [
    "doc_df1 = articles[[\"article_id\",\"doc\"]].rename(columns={\"article_id\":\"doc_id\"}).copy()\n",
    "articles.drop(columns=[\"doc\"], inplace=True)\n",
    "doc_df2 = customers[[\"customer_id\",\"doc\"]].rename(columns={\"customer_id\":\"doc_id\"}).copy()\n",
    "customers.drop(columns=[\"doc\"], inplace=True)\n",
    "doc_df1[\"type\"] = \"product\"\n",
    "doc_df2[\"type\"] = \"customer\"\n",
    "doc_df = doc_df1.append(doc_df2)\n",
    "doc_df.to_csv(\"data/corpus.csv\", index=False)\n",
    "\n",
    "del doc_df, doc_df1, doc_df2"
   ]
  },
  {
   "cell_type": "markdown",
   "metadata": {},
   "source": [
    "## Collabrative Data Creating"
   ]
  },
  {
   "cell_type": "code",
   "execution_count": 15,
   "metadata": {},
   "outputs": [],
   "source": [
    "transactions[[\"customer_id\",\"article_id\",\"week\"]].to_pickle(\"data/transactions.pkl\")\n",
    "last_week = transactions.week.max()\n",
    "del transactions"
   ]
  },
  {
   "cell_type": "markdown",
   "metadata": {},
   "source": [
    "## Ensemble Data Creating"
   ]
  },
  {
   "cell_type": "code",
   "execution_count": 16,
   "metadata": {},
   "outputs": [],
   "source": [
    "customers.FN = customers.FN.astype('category').cat.codes\n",
    "customers.Active = customers.Active.astype('category').cat.codes\n",
    "customers.club_member_status = customers.club_member_status.astype('category').cat.codes\n",
    "customers.fashion_news_frequency = customers.fashion_news_frequency.astype('category').cat.codes\n",
    "customers.age_bin = customers.age_bin.astype('category').cat.codes\n",
    "customers.gender_group = customers.gender_group.astype('category').cat.codes\n",
    "customers.age = (customers.age - customers.age.min()) / (customers.age.max() - customers.age.min())\n",
    "customers.numberOfArticles = (customers.numberOfArticles - customers.numberOfArticles.min()) / (customers.numberOfArticles.max() - customers.numberOfArticles.min())"
   ]
  },
  {
   "cell_type": "code",
   "execution_count": 17,
   "metadata": {},
   "outputs": [],
   "source": [
    "articles.gender_group = articles.gender_group.astype('category').cat.codes\n",
    "articles.prod_age_bin = articles.prod_age_bin.astype('category').cat.codes\n",
    "articles.prod_avg_price = (articles.prod_avg_price - articles.prod_avg_price.min()) / (articles.prod_avg_price.max() - articles.prod_avg_price.min())\n",
    "articles.prod_rebuy_count = (articles.prod_rebuy_count - articles.prod_rebuy_count.min()) / (articles.prod_rebuy_count.max() - articles.prod_rebuy_count.min())\n",
    "articles.prod_sold_count = (articles.prod_sold_count - articles.prod_sold_count.min()) / (articles.prod_sold_count.max() - articles.prod_sold_count.min())\n",
    "articles.quotient = (articles.quotient - articles.quotient.min()) / (articles.quotient.max() - articles.quotient.min())"
   ]
  },
  {
   "cell_type": "code",
   "execution_count": 92,
   "metadata": {},
   "outputs": [],
   "source": [
    "data = dd.read_csv('data/transactions_train.csv', dtype={'article_id': str})[[\"customer_id\", \"article_id\",\"t_dat\"]]\n",
    "data[\"week\"] = last_week + 1\n",
    "data = data.drop_duplicates(subset=[\"customer_id\", \"article_id\"])\n",
    "data = data[data.t_dat > '2020-09-15'].compute()"
   ]
  },
  {
   "cell_type": "code",
   "execution_count": 93,
   "metadata": {},
   "outputs": [
    {
     "data": {
      "text/plain": [
       "array(['2020-09-16', '2020-09-17', '2020-09-18', '2020-09-19',\n",
       "       '2020-09-20', '2020-09-21', '2020-09-22'], dtype=object)"
      ]
     },
     "execution_count": 93,
     "metadata": {},
     "output_type": "execute_result"
    }
   ],
   "source": [
    "data.t_dat.unique()"
   ]
  },
  {
   "cell_type": "code",
   "execution_count": 50,
   "metadata": {},
   "outputs": [],
   "source": [
    "data = data.merge(articles, on=\"article_id\", how=\"inner\")\n",
    "data = data.merge(customers, on=\"customer_id\", how=\"inner\")\n",
    "#data[\"customer_rebuy_count\"] = data.apply(lambda x: [i[1] for i in x.history].count(x.article_id), axis=1)"
   ]
  },
  {
   "cell_type": "code",
   "execution_count": 86,
   "metadata": {},
   "outputs": [],
   "source": [
    "data[\"prod_hist\"] = data.history.apply(lambda x: [i[1] for i in x])"
   ]
  },
  {
   "cell_type": "code",
   "execution_count": 88,
   "metadata": {},
   "outputs": [],
   "source": [
    "data[\"customer_rebuy_count\"] = data.apply(lambda x: x.prod_hist.count(str(x.article_id)), axis=1)"
   ]
  },
  {
   "cell_type": "code",
   "execution_count": 91,
   "metadata": {},
   "outputs": [
    {
     "data": {
      "text/plain": [
       "(1575563, 21)"
      ]
     },
     "execution_count": 91,
     "metadata": {},
     "output_type": "execute_result"
    }
   ],
   "source": [
    "data."
   ]
  },
  {
   "cell_type": "code",
   "execution_count": 90,
   "metadata": {},
   "outputs": [
    {
     "data": {
      "text/html": [
       "<div>\n",
       "<style scoped>\n",
       "    .dataframe tbody tr th:only-of-type {\n",
       "        vertical-align: middle;\n",
       "    }\n",
       "\n",
       "    .dataframe tbody tr th {\n",
       "        vertical-align: top;\n",
       "    }\n",
       "\n",
       "    .dataframe thead th {\n",
       "        text-align: right;\n",
       "    }\n",
       "</style>\n",
       "<table border=\"1\" class=\"dataframe\">\n",
       "  <thead>\n",
       "    <tr style=\"text-align: right;\">\n",
       "      <th></th>\n",
       "      <th>customer_id</th>\n",
       "      <th>article_id</th>\n",
       "      <th>week</th>\n",
       "      <th>gender_group_x</th>\n",
       "      <th>prod_avg_price</th>\n",
       "      <th>prod_rebuy_count</th>\n",
       "      <th>prod_age_bin</th>\n",
       "      <th>prod_sold_count</th>\n",
       "      <th>quotient</th>\n",
       "      <th>FN</th>\n",
       "      <th>...</th>\n",
       "      <th>club_member_status</th>\n",
       "      <th>fashion_news_frequency</th>\n",
       "      <th>age</th>\n",
       "      <th>age_bin</th>\n",
       "      <th>gender_group_y</th>\n",
       "      <th>price</th>\n",
       "      <th>history</th>\n",
       "      <th>numberOfArticles</th>\n",
       "      <th>customer_rebuy_count</th>\n",
       "      <th>prod_hist</th>\n",
       "    </tr>\n",
       "  </thead>\n",
       "  <tbody>\n",
       "  </tbody>\n",
       "</table>\n",
       "<p>0 rows × 21 columns</p>\n",
       "</div>"
      ],
      "text/plain": [
       "Empty DataFrame\n",
       "Columns: [customer_id, article_id, week, gender_group_x, prod_avg_price, prod_rebuy_count, prod_age_bin, prod_sold_count, quotient, FN, Active, club_member_status, fashion_news_frequency, age, age_bin, gender_group_y, price, history, numberOfArticles, customer_rebuy_count, prod_hist]\n",
       "Index: []\n",
       "\n",
       "[0 rows x 21 columns]"
      ]
     },
     "execution_count": 90,
     "metadata": {},
     "output_type": "execute_result"
    }
   ],
   "source": [
    "data[data.customer_rebuy_count > 0]"
   ]
  },
  {
   "cell_type": "code",
   "execution_count": 68,
   "metadata": {},
   "outputs": [],
   "source": [
    "data[\"customer_rebuy_count\"] = data.apply(lambda x: [i[1] for i in x.history].count(x.article_id), axis=1)"
   ]
  },
  {
   "cell_type": "code",
   "execution_count": 82,
   "metadata": {},
   "outputs": [
    {
     "data": {
      "text/html": [
       "<div>\n",
       "<style scoped>\n",
       "    .dataframe tbody tr th:only-of-type {\n",
       "        vertical-align: middle;\n",
       "    }\n",
       "\n",
       "    .dataframe tbody tr th {\n",
       "        vertical-align: top;\n",
       "    }\n",
       "\n",
       "    .dataframe thead th {\n",
       "        text-align: right;\n",
       "    }\n",
       "</style>\n",
       "<table border=\"1\" class=\"dataframe\">\n",
       "  <thead>\n",
       "    <tr style=\"text-align: right;\">\n",
       "      <th></th>\n",
       "      <th>customer_id</th>\n",
       "      <th>article_id</th>\n",
       "      <th>week</th>\n",
       "      <th>gender_group_x</th>\n",
       "      <th>prod_avg_price</th>\n",
       "      <th>prod_rebuy_count</th>\n",
       "      <th>prod_age_bin</th>\n",
       "      <th>prod_sold_count</th>\n",
       "      <th>quotient</th>\n",
       "      <th>FN</th>\n",
       "      <th>Active</th>\n",
       "      <th>club_member_status</th>\n",
       "      <th>fashion_news_frequency</th>\n",
       "      <th>age</th>\n",
       "      <th>age_bin</th>\n",
       "      <th>gender_group_y</th>\n",
       "      <th>price</th>\n",
       "      <th>history</th>\n",
       "      <th>numberOfArticles</th>\n",
       "      <th>customer_rebuy_count</th>\n",
       "    </tr>\n",
       "  </thead>\n",
       "  <tbody>\n",
       "  </tbody>\n",
       "</table>\n",
       "</div>"
      ],
      "text/plain": [
       "Empty DataFrame\n",
       "Columns: [customer_id, article_id, week, gender_group_x, prod_avg_price, prod_rebuy_count, prod_age_bin, prod_sold_count, quotient, FN, Active, club_member_status, fashion_news_frequency, age, age_bin, gender_group_y, price, history, numberOfArticles, customer_rebuy_count]\n",
       "Index: []"
      ]
     },
     "execution_count": 82,
     "metadata": {},
     "output_type": "execute_result"
    }
   ],
   "source": [
    "data[data.customer_rebuy_count > 0]"
   ]
  },
  {
   "cell_type": "code",
   "execution_count": 77,
   "metadata": {},
   "outputs": [],
   "source": [
    "c_hist = [i[1] for i in data[data.customer_id == \"000fb6e772c5d0023892065e659963da90b1866035558ec16fca51b0dcfb7e59\"].head().history[0]]"
   ]
  },
  {
   "cell_type": "code",
   "execution_count": 81,
   "metadata": {},
   "outputs": [
    {
     "data": {
      "text/plain": [
       "False"
      ]
     },
     "execution_count": 81,
     "metadata": {},
     "output_type": "execute_result"
    }
   ],
   "source": [
    "'0871519008' in c_hist"
   ]
  },
  {
   "cell_type": "code",
   "execution_count": 25,
   "metadata": {},
   "outputs": [],
   "source": [
    "def get_last_purchased_time(x):\n",
    "    week_passed = 7*4\n",
    "    if x.customer_rebuy_count != 0:\n",
    "        for i in x.history:\n",
    "            if i[1] == x.article_id:\n",
    "                week_passed = i[0]\n",
    "    return week_passed\n",
    "\n",
    "data[\"customer_last_time_same_prod\"] = data.apply(lambda x: get_last_purchased_time(x), axis=1)\n",
    "data.drop(columns=[\"history\"], inplace=True)"
   ]
  },
  {
   "cell_type": "code",
   "execution_count": 73,
   "metadata": {},
   "outputs": [
    {
     "data": {
      "text/plain": [
       "'000fb6e772c5d0023892065e659963da90b1866035558ec16fca51b0dcfb7e59'"
      ]
     },
     "execution_count": 73,
     "metadata": {},
     "output_type": "execute_result"
    }
   ],
   "source": [
    "data.head().customer_id[0]"
   ]
  },
  {
   "cell_type": "code",
   "execution_count": null,
   "metadata": {},
   "outputs": [],
   "source": []
  },
  {
   "cell_type": "code",
   "execution_count": null,
   "metadata": {},
   "outputs": [],
   "source": []
  },
  {
   "cell_type": "code",
   "execution_count": 33,
   "metadata": {},
   "outputs": [],
   "source": [
    "x = (data.customer_rebuy_count - data.customer_rebuy_count.min()) / (data.customer_rebuy_count.max() - data.customer_rebuy_count.min())"
   ]
  },
  {
   "cell_type": "code",
   "execution_count": 43,
   "metadata": {},
   "outputs": [
    {
     "data": {
      "text/html": [
       "<div>\n",
       "<style scoped>\n",
       "    .dataframe tbody tr th:only-of-type {\n",
       "        vertical-align: middle;\n",
       "    }\n",
       "\n",
       "    .dataframe tbody tr th {\n",
       "        vertical-align: top;\n",
       "    }\n",
       "\n",
       "    .dataframe thead th {\n",
       "        text-align: right;\n",
       "    }\n",
       "</style>\n",
       "<table border=\"1\" class=\"dataframe\">\n",
       "  <thead>\n",
       "    <tr style=\"text-align: right;\">\n",
       "      <th></th>\n",
       "      <th>customer_id</th>\n",
       "      <th>article_id</th>\n",
       "      <th>week</th>\n",
       "      <th>gender_group_x</th>\n",
       "      <th>prod_avg_price</th>\n",
       "      <th>prod_rebuy_count</th>\n",
       "      <th>prod_age_bin</th>\n",
       "      <th>prod_sold_count</th>\n",
       "      <th>quotient</th>\n",
       "      <th>FN</th>\n",
       "      <th>Active</th>\n",
       "      <th>club_member_status</th>\n",
       "      <th>fashion_news_frequency</th>\n",
       "      <th>age</th>\n",
       "      <th>age_bin</th>\n",
       "      <th>gender_group_y</th>\n",
       "      <th>price</th>\n",
       "      <th>numberOfArticles</th>\n",
       "      <th>customer_rebuy_count</th>\n",
       "      <th>customer_last_rebuy_week</th>\n",
       "    </tr>\n",
       "  </thead>\n",
       "  <tbody>\n",
       "    <tr>\n",
       "      <th>0</th>\n",
       "      <td>000fb6e772c5d0023892065e659963da90b1866035558e...</td>\n",
       "      <td>0786022008</td>\n",
       "      <td>38</td>\n",
       "      <td>2</td>\n",
       "      <td>0.118082</td>\n",
       "      <td>0.000000</td>\n",
       "      <td>1</td>\n",
       "      <td>0.014171</td>\n",
       "      <td>0.001983</td>\n",
       "      <td>1</td>\n",
       "      <td>1</td>\n",
       "      <td>1</td>\n",
       "      <td>0</td>\n",
       "      <td>0.313253</td>\n",
       "      <td>2</td>\n",
       "      <td>2</td>\n",
       "      <td>0.032459</td>\n",
       "      <td>0.184275</td>\n",
       "      <td>0</td>\n",
       "      <td>28</td>\n",
       "    </tr>\n",
       "    <tr>\n",
       "      <th>1</th>\n",
       "      <td>000fb6e772c5d0023892065e659963da90b1866035558e...</td>\n",
       "      <td>0913272003</td>\n",
       "      <td>38</td>\n",
       "      <td>2</td>\n",
       "      <td>0.087138</td>\n",
       "      <td>0.000645</td>\n",
       "      <td>2</td>\n",
       "      <td>0.097780</td>\n",
       "      <td>0.053673</td>\n",
       "      <td>1</td>\n",
       "      <td>1</td>\n",
       "      <td>1</td>\n",
       "      <td>0</td>\n",
       "      <td>0.313253</td>\n",
       "      <td>2</td>\n",
       "      <td>2</td>\n",
       "      <td>0.032459</td>\n",
       "      <td>0.184275</td>\n",
       "      <td>0</td>\n",
       "      <td>28</td>\n",
       "    </tr>\n",
       "    <tr>\n",
       "      <th>2</th>\n",
       "      <td>000fb6e772c5d0023892065e659963da90b1866035558e...</td>\n",
       "      <td>0913272003</td>\n",
       "      <td>38</td>\n",
       "      <td>2</td>\n",
       "      <td>0.087138</td>\n",
       "      <td>0.000645</td>\n",
       "      <td>2</td>\n",
       "      <td>0.097780</td>\n",
       "      <td>0.001755</td>\n",
       "      <td>1</td>\n",
       "      <td>1</td>\n",
       "      <td>1</td>\n",
       "      <td>0</td>\n",
       "      <td>0.313253</td>\n",
       "      <td>2</td>\n",
       "      <td>2</td>\n",
       "      <td>0.032459</td>\n",
       "      <td>0.184275</td>\n",
       "      <td>0</td>\n",
       "      <td>28</td>\n",
       "    </tr>\n",
       "    <tr>\n",
       "      <th>3</th>\n",
       "      <td>000fb6e772c5d0023892065e659963da90b1866035558e...</td>\n",
       "      <td>0913272003</td>\n",
       "      <td>38</td>\n",
       "      <td>2</td>\n",
       "      <td>0.087138</td>\n",
       "      <td>0.000645</td>\n",
       "      <td>2</td>\n",
       "      <td>0.097780</td>\n",
       "      <td>0.001137</td>\n",
       "      <td>1</td>\n",
       "      <td>1</td>\n",
       "      <td>1</td>\n",
       "      <td>0</td>\n",
       "      <td>0.313253</td>\n",
       "      <td>2</td>\n",
       "      <td>2</td>\n",
       "      <td>0.032459</td>\n",
       "      <td>0.184275</td>\n",
       "      <td>0</td>\n",
       "      <td>28</td>\n",
       "    </tr>\n",
       "    <tr>\n",
       "      <th>4</th>\n",
       "      <td>000fb6e772c5d0023892065e659963da90b1866035558e...</td>\n",
       "      <td>0913272003</td>\n",
       "      <td>38</td>\n",
       "      <td>2</td>\n",
       "      <td>0.087138</td>\n",
       "      <td>0.000645</td>\n",
       "      <td>2</td>\n",
       "      <td>0.097780</td>\n",
       "      <td>0.001983</td>\n",
       "      <td>1</td>\n",
       "      <td>1</td>\n",
       "      <td>1</td>\n",
       "      <td>0</td>\n",
       "      <td>0.313253</td>\n",
       "      <td>2</td>\n",
       "      <td>2</td>\n",
       "      <td>0.032459</td>\n",
       "      <td>0.184275</td>\n",
       "      <td>0</td>\n",
       "      <td>28</td>\n",
       "    </tr>\n",
       "    <tr>\n",
       "      <th>...</th>\n",
       "      <td>...</td>\n",
       "      <td>...</td>\n",
       "      <td>...</td>\n",
       "      <td>...</td>\n",
       "      <td>...</td>\n",
       "      <td>...</td>\n",
       "      <td>...</td>\n",
       "      <td>...</td>\n",
       "      <td>...</td>\n",
       "      <td>...</td>\n",
       "      <td>...</td>\n",
       "      <td>...</td>\n",
       "      <td>...</td>\n",
       "      <td>...</td>\n",
       "      <td>...</td>\n",
       "      <td>...</td>\n",
       "      <td>...</td>\n",
       "      <td>...</td>\n",
       "      <td>...</td>\n",
       "      <td>...</td>\n",
       "    </tr>\n",
       "    <tr>\n",
       "      <th>1575558</th>\n",
       "      <td>d17b9da096c06932220966c42bd0dbc9f46856588acef2...</td>\n",
       "      <td>0784384003</td>\n",
       "      <td>38</td>\n",
       "      <td>2</td>\n",
       "      <td>0.087259</td>\n",
       "      <td>0.000860</td>\n",
       "      <td>2</td>\n",
       "      <td>0.008030</td>\n",
       "      <td>0.002480</td>\n",
       "      <td>1</td>\n",
       "      <td>1</td>\n",
       "      <td>1</td>\n",
       "      <td>0</td>\n",
       "      <td>0.385542</td>\n",
       "      <td>2</td>\n",
       "      <td>2</td>\n",
       "      <td>0.027478</td>\n",
       "      <td>0.019656</td>\n",
       "      <td>0</td>\n",
       "      <td>28</td>\n",
       "    </tr>\n",
       "    <tr>\n",
       "      <th>1575559</th>\n",
       "      <td>d17b9da096c06932220966c42bd0dbc9f46856588acef2...</td>\n",
       "      <td>0784384003</td>\n",
       "      <td>38</td>\n",
       "      <td>2</td>\n",
       "      <td>0.087259</td>\n",
       "      <td>0.000860</td>\n",
       "      <td>2</td>\n",
       "      <td>0.008030</td>\n",
       "      <td>0.003308</td>\n",
       "      <td>1</td>\n",
       "      <td>1</td>\n",
       "      <td>1</td>\n",
       "      <td>0</td>\n",
       "      <td>0.385542</td>\n",
       "      <td>2</td>\n",
       "      <td>2</td>\n",
       "      <td>0.027478</td>\n",
       "      <td>0.019656</td>\n",
       "      <td>0</td>\n",
       "      <td>28</td>\n",
       "    </tr>\n",
       "    <tr>\n",
       "      <th>1575560</th>\n",
       "      <td>d17b9da096c06932220966c42bd0dbc9f46856588acef2...</td>\n",
       "      <td>0784384003</td>\n",
       "      <td>38</td>\n",
       "      <td>2</td>\n",
       "      <td>0.087259</td>\n",
       "      <td>0.000860</td>\n",
       "      <td>2</td>\n",
       "      <td>0.008030</td>\n",
       "      <td>0.002480</td>\n",
       "      <td>1</td>\n",
       "      <td>1</td>\n",
       "      <td>1</td>\n",
       "      <td>0</td>\n",
       "      <td>0.385542</td>\n",
       "      <td>2</td>\n",
       "      <td>2</td>\n",
       "      <td>0.027478</td>\n",
       "      <td>0.019656</td>\n",
       "      <td>0</td>\n",
       "      <td>28</td>\n",
       "    </tr>\n",
       "    <tr>\n",
       "      <th>1575561</th>\n",
       "      <td>d17b9da096c06932220966c42bd0dbc9f46856588acef2...</td>\n",
       "      <td>0784384003</td>\n",
       "      <td>38</td>\n",
       "      <td>2</td>\n",
       "      <td>0.087259</td>\n",
       "      <td>0.000860</td>\n",
       "      <td>2</td>\n",
       "      <td>0.008030</td>\n",
       "      <td>0.000989</td>\n",
       "      <td>1</td>\n",
       "      <td>1</td>\n",
       "      <td>1</td>\n",
       "      <td>0</td>\n",
       "      <td>0.385542</td>\n",
       "      <td>2</td>\n",
       "      <td>2</td>\n",
       "      <td>0.027478</td>\n",
       "      <td>0.019656</td>\n",
       "      <td>0</td>\n",
       "      <td>28</td>\n",
       "    </tr>\n",
       "    <tr>\n",
       "      <th>1575562</th>\n",
       "      <td>d17b9da096c06932220966c42bd0dbc9f46856588acef2...</td>\n",
       "      <td>0784384003</td>\n",
       "      <td>38</td>\n",
       "      <td>2</td>\n",
       "      <td>0.087259</td>\n",
       "      <td>0.000860</td>\n",
       "      <td>2</td>\n",
       "      <td>0.008030</td>\n",
       "      <td>0.001983</td>\n",
       "      <td>1</td>\n",
       "      <td>1</td>\n",
       "      <td>1</td>\n",
       "      <td>0</td>\n",
       "      <td>0.385542</td>\n",
       "      <td>2</td>\n",
       "      <td>2</td>\n",
       "      <td>0.027478</td>\n",
       "      <td>0.019656</td>\n",
       "      <td>0</td>\n",
       "      <td>28</td>\n",
       "    </tr>\n",
       "  </tbody>\n",
       "</table>\n",
       "<p>1575563 rows × 20 columns</p>\n",
       "</div>"
      ],
      "text/plain": [
       "                                               customer_id  article_id  week  \\\n",
       "0        000fb6e772c5d0023892065e659963da90b1866035558e...  0786022008    38   \n",
       "1        000fb6e772c5d0023892065e659963da90b1866035558e...  0913272003    38   \n",
       "2        000fb6e772c5d0023892065e659963da90b1866035558e...  0913272003    38   \n",
       "3        000fb6e772c5d0023892065e659963da90b1866035558e...  0913272003    38   \n",
       "4        000fb6e772c5d0023892065e659963da90b1866035558e...  0913272003    38   \n",
       "...                                                    ...         ...   ...   \n",
       "1575558  d17b9da096c06932220966c42bd0dbc9f46856588acef2...  0784384003    38   \n",
       "1575559  d17b9da096c06932220966c42bd0dbc9f46856588acef2...  0784384003    38   \n",
       "1575560  d17b9da096c06932220966c42bd0dbc9f46856588acef2...  0784384003    38   \n",
       "1575561  d17b9da096c06932220966c42bd0dbc9f46856588acef2...  0784384003    38   \n",
       "1575562  d17b9da096c06932220966c42bd0dbc9f46856588acef2...  0784384003    38   \n",
       "\n",
       "         gender_group_x  prod_avg_price  prod_rebuy_count  prod_age_bin  \\\n",
       "0                     2        0.118082          0.000000             1   \n",
       "1                     2        0.087138          0.000645             2   \n",
       "2                     2        0.087138          0.000645             2   \n",
       "3                     2        0.087138          0.000645             2   \n",
       "4                     2        0.087138          0.000645             2   \n",
       "...                 ...             ...               ...           ...   \n",
       "1575558               2        0.087259          0.000860             2   \n",
       "1575559               2        0.087259          0.000860             2   \n",
       "1575560               2        0.087259          0.000860             2   \n",
       "1575561               2        0.087259          0.000860             2   \n",
       "1575562               2        0.087259          0.000860             2   \n",
       "\n",
       "         prod_sold_count  quotient  FN  Active  club_member_status  \\\n",
       "0               0.014171  0.001983   1       1                   1   \n",
       "1               0.097780  0.053673   1       1                   1   \n",
       "2               0.097780  0.001755   1       1                   1   \n",
       "3               0.097780  0.001137   1       1                   1   \n",
       "4               0.097780  0.001983   1       1                   1   \n",
       "...                  ...       ...  ..     ...                 ...   \n",
       "1575558         0.008030  0.002480   1       1                   1   \n",
       "1575559         0.008030  0.003308   1       1                   1   \n",
       "1575560         0.008030  0.002480   1       1                   1   \n",
       "1575561         0.008030  0.000989   1       1                   1   \n",
       "1575562         0.008030  0.001983   1       1                   1   \n",
       "\n",
       "         fashion_news_frequency       age  age_bin  gender_group_y     price  \\\n",
       "0                             0  0.313253        2               2  0.032459   \n",
       "1                             0  0.313253        2               2  0.032459   \n",
       "2                             0  0.313253        2               2  0.032459   \n",
       "3                             0  0.313253        2               2  0.032459   \n",
       "4                             0  0.313253        2               2  0.032459   \n",
       "...                         ...       ...      ...             ...       ...   \n",
       "1575558                       0  0.385542        2               2  0.027478   \n",
       "1575559                       0  0.385542        2               2  0.027478   \n",
       "1575560                       0  0.385542        2               2  0.027478   \n",
       "1575561                       0  0.385542        2               2  0.027478   \n",
       "1575562                       0  0.385542        2               2  0.027478   \n",
       "\n",
       "         numberOfArticles  customer_rebuy_count  customer_last_rebuy_week  \n",
       "0                0.184275                     0                        28  \n",
       "1                0.184275                     0                        28  \n",
       "2                0.184275                     0                        28  \n",
       "3                0.184275                     0                        28  \n",
       "4                0.184275                     0                        28  \n",
       "...                   ...                   ...                       ...  \n",
       "1575558          0.019656                     0                        28  \n",
       "1575559          0.019656                     0                        28  \n",
       "1575560          0.019656                     0                        28  \n",
       "1575561          0.019656                     0                        28  \n",
       "1575562          0.019656                     0                        28  \n",
       "\n",
       "[1575563 rows x 20 columns]"
      ]
     },
     "execution_count": 43,
     "metadata": {},
     "output_type": "execute_result"
    }
   ],
   "source": [
    "data[data.notna()]"
   ]
  },
  {
   "cell_type": "code",
   "execution_count": 44,
   "metadata": {},
   "outputs": [
    {
     "data": {
      "text/plain": [
       "(1575563, 20)"
      ]
     },
     "execution_count": 44,
     "metadata": {},
     "output_type": "execute_result"
    }
   ],
   "source": [
    "data.shape"
   ]
  },
  {
   "cell_type": "code",
   "execution_count": 46,
   "metadata": {},
   "outputs": [
    {
     "data": {
      "text/plain": [
       "0          0.0\n",
       "1          0.0\n",
       "2          0.0\n",
       "3          0.0\n",
       "4          0.0\n",
       "          ... \n",
       "1575558    0.0\n",
       "1575559    0.0\n",
       "1575560    0.0\n",
       "1575561    0.0\n",
       "1575562    0.0\n",
       "Name: customer_rebuy_count, Length: 1575563, dtype: float64"
      ]
     },
     "execution_count": 46,
     "metadata": {},
     "output_type": "execute_result"
    }
   ],
   "source": [
    "(data.customer_rebuy_count - data.customer_rebuy_count.min()) / 2"
   ]
  },
  {
   "cell_type": "code",
   "execution_count": 51,
   "metadata": {},
   "outputs": [
    {
     "ename": "AttributeError",
     "evalue": "'DataFrame' object has no attribute 'customer_last_rebuy_week'",
     "output_type": "error",
     "traceback": [
      "\u001b[0;31m---------------------------------------------------------------------------\u001b[0m",
      "\u001b[0;31mAttributeError\u001b[0m                            Traceback (most recent call last)",
      "\u001b[0;32m/var/folders/s9/93b6jyx57x33y6tt142gsgjc0000gn/T/ipykernel_1557/3520398845.py\u001b[0m in \u001b[0;36m<module>\u001b[0;34m\u001b[0m\n\u001b[0;32m----> 1\u001b[0;31m \u001b[0mdata\u001b[0m\u001b[0;34m.\u001b[0m\u001b[0mcustomer_last_rebuy_week\u001b[0m\u001b[0;34m.\u001b[0m\u001b[0mmax\u001b[0m\u001b[0;34m(\u001b[0m\u001b[0;34m)\u001b[0m\u001b[0;34m\u001b[0m\u001b[0;34m\u001b[0m\u001b[0m\n\u001b[0m",
      "\u001b[0;32m~/opt/anaconda3/envs/tf/lib/python3.8/site-packages/pandas/core/generic.py\u001b[0m in \u001b[0;36m__getattr__\u001b[0;34m(self, name)\u001b[0m\n\u001b[1;32m   5485\u001b[0m         ):\n\u001b[1;32m   5486\u001b[0m             \u001b[0;32mreturn\u001b[0m \u001b[0mself\u001b[0m\u001b[0;34m[\u001b[0m\u001b[0mname\u001b[0m\u001b[0;34m]\u001b[0m\u001b[0;34m\u001b[0m\u001b[0;34m\u001b[0m\u001b[0m\n\u001b[0;32m-> 5487\u001b[0;31m         \u001b[0;32mreturn\u001b[0m \u001b[0mobject\u001b[0m\u001b[0;34m.\u001b[0m\u001b[0m__getattribute__\u001b[0m\u001b[0;34m(\u001b[0m\u001b[0mself\u001b[0m\u001b[0;34m,\u001b[0m \u001b[0mname\u001b[0m\u001b[0;34m)\u001b[0m\u001b[0;34m\u001b[0m\u001b[0;34m\u001b[0m\u001b[0m\n\u001b[0m\u001b[1;32m   5488\u001b[0m \u001b[0;34m\u001b[0m\u001b[0m\n\u001b[1;32m   5489\u001b[0m     \u001b[0;32mdef\u001b[0m \u001b[0m__setattr__\u001b[0m\u001b[0;34m(\u001b[0m\u001b[0mself\u001b[0m\u001b[0;34m,\u001b[0m \u001b[0mname\u001b[0m\u001b[0;34m:\u001b[0m \u001b[0mstr\u001b[0m\u001b[0;34m,\u001b[0m \u001b[0mvalue\u001b[0m\u001b[0;34m)\u001b[0m \u001b[0;34m->\u001b[0m \u001b[0;32mNone\u001b[0m\u001b[0;34m:\u001b[0m\u001b[0;34m\u001b[0m\u001b[0;34m\u001b[0m\u001b[0m\n",
      "\u001b[0;31mAttributeError\u001b[0m: 'DataFrame' object has no attribute 'customer_last_rebuy_week'"
     ]
    }
   ],
   "source": [
    "data.customer_last_rebuy_week.max()"
   ]
  },
  {
   "cell_type": "code",
   "execution_count": null,
   "metadata": {},
   "outputs": [],
   "source": [
    "data.customer_rebuy_count = (data.customer_rebuy_count - data.customer_rebuy_count.min()) / (data.customer_rebuy_count.max() - data.customer_rebuy_count.min())\n",
    "data.customer_last_rebuy_week = 1 - ((data.customer_last_rebuy_week - data.customer_last_rebuy_week.min()) / (data.customer_last_rebuy_week.max() - data.customer_last_rebuy_week.min()))"
   ]
  }
 ],
 "metadata": {
  "interpreter": {
   "hash": "4ad61a90f8b8ec2120f8b8d3efc4267caee6017c89f89db236bf61b71644f2c7"
  },
  "kernelspec": {
   "display_name": "Python 3.8.11 ('tf')",
   "language": "python",
   "name": "python3"
  },
  "language_info": {
   "codemirror_mode": {
    "name": "ipython",
    "version": 3
   },
   "file_extension": ".py",
   "mimetype": "text/x-python",
   "name": "python",
   "nbconvert_exporter": "python",
   "pygments_lexer": "ipython3",
   "version": "3.8.11"
  },
  "orig_nbformat": 4
 },
 "nbformat": 4,
 "nbformat_minor": 2
}
