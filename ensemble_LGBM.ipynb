{
 "cells": [
  {
   "cell_type": "code",
   "execution_count": 1,
   "metadata": {},
   "outputs": [],
   "source": [
    "import json\n",
    "import numpy as np\n",
    "import pandas as pd\n",
    "import lightgbm as lgb\n",
    "from dask import dataframe as dd"
   ]
  },
  {
   "cell_type": "code",
   "execution_count": 4,
   "metadata": {},
   "outputs": [],
   "source": [
    "train = pd.read_csv(\"data/ensemble_data.csv\")\n",
    "train = train.sort_values(by=[\"customer_id\"])\n",
    "q_train = train.groupby(\"customer_id\").size().to_frame(\"prod_number\").reset_index()"
   ]
  },
  {
   "cell_type": "code",
   "execution_count": 5,
   "metadata": {},
   "outputs": [],
   "source": [
    "train = train.drop([\"customer_id\"], axis=1)\n",
    "train.to_pickle(\"data/lgbm_data/train_data.pkl\")\n",
    "q_train.to_pickle(\"data/lgbm_data/q_train_data.pkl\")"
   ]
  },
  {
   "cell_type": "markdown",
   "metadata": {},
   "source": [
    "## Training LightGBM"
   ]
  },
  {
   "cell_type": "code",
   "execution_count": 6,
   "metadata": {},
   "outputs": [],
   "source": [
    "import pandas as pd\n",
    "import numpy as np\n",
    "import lightgbm as lgb\n",
    "from dask import dataframe as dd"
   ]
  },
  {
   "cell_type": "code",
   "execution_count": 7,
   "metadata": {},
   "outputs": [],
   "source": [
    "# 10 sec\n",
    "train = pd.read_pickle(\"data/lgbm_data/train_data.pkl\")\n",
    "test = pd.read_pickle(\"data/lgbm_data/test_data.pkl\")\n",
    "q_train = pd.read_pickle(\"data/lgbm_data/q_train_data.pkl\")\n",
    "q_test = pd.read_pickle(\"data/lgbm_data/q_test_data.pkl\")"
   ]
  },
  {
   "cell_type": "code",
   "execution_count": 10,
   "metadata": {},
   "outputs": [
    {
     "name": "stdout",
     "output_type": "stream",
     "text": [
      "[10]\tvalid_0's ndcg@1: 1\tvalid_0's ndcg@3: 1\tvalid_0's ndcg@5: 1\tvalid_0's ndcg@7: 1\tvalid_0's ndcg@10: 1\n"
     ]
    },
    {
     "data": {
      "text/plain": [
       "LGBMRanker()"
      ]
     },
     "execution_count": 10,
     "metadata": {},
     "output_type": "execute_result"
    }
   ],
   "source": [
    "gbm = lgb.LGBMRanker()\n",
    "gbm.fit(\n",
    "    train[[\"article_id\"]], train.label, group=q_train.prod_number, early_stopping_rounds=10,verbose=10,\n",
    "    eval_at = [1,3,5,7,10]\n",
    ")"
   ]
  },
  {
   "cell_type": "code",
   "execution_count": null,
   "metadata": {},
   "outputs": [],
   "source": []
  }
 ],
 "metadata": {
  "interpreter": {
   "hash": "4ad61a90f8b8ec2120f8b8d3efc4267caee6017c89f89db236bf61b71644f2c7"
  },
  "kernelspec": {
   "display_name": "Python 3.8.11 ('tf')",
   "language": "python",
   "name": "python3"
  },
  "language_info": {
   "codemirror_mode": {
    "name": "ipython",
    "version": 3
   },
   "file_extension": ".py",
   "mimetype": "text/x-python",
   "name": "python",
   "nbconvert_exporter": "python",
   "pygments_lexer": "ipython3",
   "version": "3.8.11"
  },
  "orig_nbformat": 4
 },
 "nbformat": 4,
 "nbformat_minor": 2
}
