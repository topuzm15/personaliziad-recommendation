{
 "cells": [
  {
   "cell_type": "code",
   "execution_count": 2,
   "metadata": {},
   "outputs": [],
   "source": [
    "import numpy as np\n",
    "import pandas as pd\n",
    "import lightgbm as lgb"
   ]
  },
  {
   "cell_type": "code",
   "execution_count": 3,
   "metadata": {},
   "outputs": [
    {
     "data": {
      "text/plain": [
       "customer_id                    object\n",
       "article_id                      int64\n",
       "label                         float64\n",
       "prod_gender_group            category\n",
       "prod_avg_price                float64\n",
       "prod_rebuy_count              float64\n",
       "prod_age_bin                 category\n",
       "prod_sold_count               float64\n",
       "quotient                      float64\n",
       "FN                           category\n",
       "Active                       category\n",
       "club_member_status           category\n",
       "fashion_news_frequency       category\n",
       "age                           float64\n",
       "customer_age_bin             category\n",
       "customer_gender_group        category\n",
       "customer_rebuy_count          float64\n",
       "customer_avg_price            float64\n",
       "numberOfArticles              float64\n",
       "same_prod_rebuy_count         float64\n",
       "time_passed_last_purchase     float64\n",
       "avg_purchase_time             float64\n",
       "dtype: object"
      ]
     },
     "execution_count": 3,
     "metadata": {},
     "output_type": "execute_result"
    }
   ],
   "source": [
    "data = pd.read_csv(\"data/ensemble_data.csv\")\n",
    "data = data.sort_values(by=[\"customer_id\"])\n",
    "data.time_passed_last_purchase = data.time_passed_last_purchase.astype(np.float64)\n",
    "data.prod_gender_group = data.prod_gender_group.astype('category')\n",
    "data.prod_age_bin = data.prod_age_bin.astype('category')\n",
    "data.FN = data.FN.astype('category')\n",
    "data.Active = data.Active.astype('category')\n",
    "data.club_member_status = data.club_member_status.astype('category')\n",
    "data.fashion_news_frequency = data.fashion_news_frequency.astype('category')\n",
    "data.customer_age_bin = data.customer_age_bin.astype('category')\n",
    "data.customer_gender_group = data.customer_gender_group.astype('category')\n",
    "data.dtypes "
   ]
  },
  {
   "cell_type": "markdown",
   "metadata": {},
   "source": [
    "## Training LightGBM"
   ]
  },
  {
   "cell_type": "code",
   "execution_count": 4,
   "metadata": {},
   "outputs": [],
   "source": [
    "train = data[:int(data.shape[0] * 0.9)]  # first 90%\n",
    "test = data[int(data.shape[0] * 0.9):]\n",
    "q_train = train.groupby(\"customer_id\")[\"customer_id\"].count().to_numpy()\n",
    "train_label = train.label\n",
    "train = train.drop([\"label\", \"customer_id\", \"article_id\"], axis=1)\n",
    "\n",
    "q_test = test.groupby(\"customer_id\")[\"customer_id\"].count().to_numpy()\n",
    "test_label = test.label\n",
    "test = test.drop([\"label\", \"customer_id\", \"article_id\"], axis=1)"
   ]
  },
  {
   "cell_type": "code",
   "execution_count": 30,
   "metadata": {},
   "outputs": [
    {
     "name": "stdout",
     "output_type": "stream",
     "text": [
      "[1]\tvalid_0's ndcg@1: 0.497189\tvalid_0's ndcg@3: 0.485307\tvalid_0's ndcg@6: 0.478112\tvalid_0's ndcg@9: 0.475568\tvalid_0's ndcg@12: 0.475759\n",
      "Training until validation scores don't improve for 5 rounds\n",
      "[2]\tvalid_0's ndcg@1: 0.561254\tvalid_0's ndcg@3: 0.556065\tvalid_0's ndcg@6: 0.5499\tvalid_0's ndcg@9: 0.547296\tvalid_0's ndcg@12: 0.546302\n",
      "[3]\tvalid_0's ndcg@1: 0.583234\tvalid_0's ndcg@3: 0.573397\tvalid_0's ndcg@6: 0.564245\tvalid_0's ndcg@9: 0.559755\tvalid_0's ndcg@12: 0.557262\n",
      "[4]\tvalid_0's ndcg@1: 0.587664\tvalid_0's ndcg@3: 0.577231\tvalid_0's ndcg@6: 0.568536\tvalid_0's ndcg@9: 0.563853\tvalid_0's ndcg@12: 0.562352\n",
      "[5]\tvalid_0's ndcg@1: 0.593798\tvalid_0's ndcg@3: 0.58043\tvalid_0's ndcg@6: 0.570185\tvalid_0's ndcg@9: 0.566358\tvalid_0's ndcg@12: 0.564636\n",
      "[6]\tvalid_0's ndcg@1: 0.592605\tvalid_0's ndcg@3: 0.580869\tvalid_0's ndcg@6: 0.57113\tvalid_0's ndcg@9: 0.566308\tvalid_0's ndcg@12: 0.565184\n",
      "[7]\tvalid_0's ndcg@1: 0.592776\tvalid_0's ndcg@3: 0.58099\tvalid_0's ndcg@6: 0.571959\tvalid_0's ndcg@9: 0.567296\tvalid_0's ndcg@12: 0.565951\n",
      "[8]\tvalid_0's ndcg@1: 0.592094\tvalid_0's ndcg@3: 0.58046\tvalid_0's ndcg@6: 0.57055\tvalid_0's ndcg@9: 0.565956\tvalid_0's ndcg@12: 0.565134\n",
      "[9]\tvalid_0's ndcg@1: 0.592264\tvalid_0's ndcg@3: 0.581301\tvalid_0's ndcg@6: 0.571655\tvalid_0's ndcg@9: 0.567322\tvalid_0's ndcg@12: 0.565911\n",
      "[10]\tvalid_0's ndcg@1: 0.593968\tvalid_0's ndcg@3: 0.581533\tvalid_0's ndcg@6: 0.572457\tvalid_0's ndcg@9: 0.568006\tvalid_0's ndcg@12: 0.566657\n",
      "[11]\tvalid_0's ndcg@1: 0.594309\tvalid_0's ndcg@3: 0.581422\tvalid_0's ndcg@6: 0.571751\tvalid_0's ndcg@9: 0.567395\tvalid_0's ndcg@12: 0.565879\n",
      "[12]\tvalid_0's ndcg@1: 0.595331\tvalid_0's ndcg@3: 0.582215\tvalid_0's ndcg@6: 0.572022\tvalid_0's ndcg@9: 0.567319\tvalid_0's ndcg@12: 0.565714\n",
      "[13]\tvalid_0's ndcg@1: 0.59482\tvalid_0's ndcg@3: 0.582535\tvalid_0's ndcg@6: 0.572895\tvalid_0's ndcg@9: 0.568212\tvalid_0's ndcg@12: 0.566171\n",
      "[14]\tvalid_0's ndcg@1: 0.595672\tvalid_0's ndcg@3: 0.583384\tvalid_0's ndcg@6: 0.573501\tvalid_0's ndcg@9: 0.568669\tvalid_0's ndcg@12: 0.566562\n",
      "[15]\tvalid_0's ndcg@1: 0.596354\tvalid_0's ndcg@3: 0.58341\tvalid_0's ndcg@6: 0.573718\tvalid_0's ndcg@9: 0.569357\tvalid_0's ndcg@12: 0.567263\n",
      "[16]\tvalid_0's ndcg@1: 0.595843\tvalid_0's ndcg@3: 0.582745\tvalid_0's ndcg@6: 0.573719\tvalid_0's ndcg@9: 0.569318\tvalid_0's ndcg@12: 0.567149\n",
      "[17]\tvalid_0's ndcg@1: 0.594309\tvalid_0's ndcg@3: 0.581786\tvalid_0's ndcg@6: 0.572439\tvalid_0's ndcg@9: 0.56806\tvalid_0's ndcg@12: 0.566066\n",
      "[18]\tvalid_0's ndcg@1: 0.593798\tvalid_0's ndcg@3: 0.581867\tvalid_0's ndcg@6: 0.572346\tvalid_0's ndcg@9: 0.568164\tvalid_0's ndcg@12: 0.566174\n",
      "[19]\tvalid_0's ndcg@1: 0.592776\tvalid_0's ndcg@3: 0.580569\tvalid_0's ndcg@6: 0.571816\tvalid_0's ndcg@9: 0.567958\tvalid_0's ndcg@12: 0.566423\n",
      "[20]\tvalid_0's ndcg@1: 0.593628\tvalid_0's ndcg@3: 0.581822\tvalid_0's ndcg@6: 0.572553\tvalid_0's ndcg@9: 0.568511\tvalid_0's ndcg@12: 0.566994\n",
      "Early stopping, best iteration is:\n",
      "[15]\tvalid_0's ndcg@1: 0.596354\tvalid_0's ndcg@3: 0.58341\tvalid_0's ndcg@6: 0.573718\tvalid_0's ndcg@9: 0.569357\tvalid_0's ndcg@12: 0.567263\n"
     ]
    },
    {
     "data": {
      "text/plain": [
       "LGBMRanker(learning_rate=1e-05, max_depth=256, metric=['ndcg', 'map@'],\n",
       "           num_iterations=50, num_leaves=4096, objective='lambdarank')"
      ]
     },
     "execution_count": 30,
     "metadata": {},
     "output_type": "execute_result"
    }
   ],
   "source": [
    "model = lgb.LGBMRanker(\n",
    "    objective=\"lambdarank\",\n",
    "    metric= [\"ndcg\", \"map@\"],\n",
    "    learning_rate=0.00001,\n",
    "    num_iterations= 50,\n",
    "    max_depth=256,\n",
    "    num_leaves=4096,\n",
    ")\n",
    "\n",
    "model.fit(\n",
    "    train, train_label, group=q_train, eval_set=[(test, test_label)], eval_group=[q_test], eval_at=[1, 3, 6, 9, 12],\n",
    "    callbacks=[lgb.callback.log_evaluation(), lgb.callback.early_stopping(5)],\n",
    "    categorical_feature = 'auto'\n",
    ")"
   ]
  },
  {
   "cell_type": "code",
   "execution_count": null,
   "metadata": {},
   "outputs": [],
   "source": []
  }
 ],
 "metadata": {
  "interpreter": {
   "hash": "4ad61a90f8b8ec2120f8b8d3efc4267caee6017c89f89db236bf61b71644f2c7"
  },
  "kernelspec": {
   "display_name": "Python 3.8.11 ('tf')",
   "language": "python",
   "name": "python3"
  },
  "language_info": {
   "codemirror_mode": {
    "name": "ipython",
    "version": 3
   },
   "file_extension": ".py",
   "mimetype": "text/x-python",
   "name": "python",
   "nbconvert_exporter": "python",
   "pygments_lexer": "ipython3",
   "version": "3.8.11"
  },
  "orig_nbformat": 4
 },
 "nbformat": 4,
 "nbformat_minor": 2
}
