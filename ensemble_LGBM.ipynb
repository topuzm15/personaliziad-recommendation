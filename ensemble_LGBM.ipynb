{
 "cells": [
  {
   "cell_type": "code",
   "execution_count": 1,
   "metadata": {},
   "outputs": [],
   "source": [
    "import numpy as np\n",
    "import pandas as pd\n",
    "import lightgbm as lgb\n",
    "from dask import dataframe as dd\n",
    "from distributed import Client, LocalCluster\n",
    "\n",
    "cluster = LocalCluster(n_workers=4)\n",
    "client = Client(cluster)"
   ]
  },
  {
   "cell_type": "code",
   "execution_count": 2,
   "metadata": {},
   "outputs": [
    {
     "data": {
      "text/plain": [
       "customer_id                    object\n",
       "article_id                      int64\n",
       "label                         float64\n",
       "prod_gender_group            category\n",
       "prod_avg_price                float64\n",
       "prod_rebuy_count              float64\n",
       "prod_age_bin                 category\n",
       "prod_sold_count               float64\n",
       "quotient                      float64\n",
       "customer_index                  int64\n",
       "FN                           category\n",
       "Active                       category\n",
       "club_member_status           category\n",
       "fashion_news_frequency       category\n",
       "age                           float64\n",
       "customer_age_bin             category\n",
       "customer_gender_group        category\n",
       "customer_rebuy_count          float64\n",
       "customer_avg_price            float64\n",
       "numberOfArticles              float64\n",
       "same_prod_rebuy_count         float64\n",
       "time_passed_last_purchase     float64\n",
       "avg_purchase_time             float64\n",
       "dtype: object"
      ]
     },
     "execution_count": 2,
     "metadata": {},
     "output_type": "execute_result"
    }
   ],
   "source": [
    "data = dd.read_csv(\"data/ensemble_train/ensemble_data.csv/*.part\", blocksize=\"64MB\")\n",
    "data = data.drop([\"Unnamed: 0\"], axis=1)\n",
    "data.time_passed_last_purchase = data.time_passed_last_purchase.astype(np.float64)\n",
    "data.prod_gender_group = data.prod_gender_group.astype('category')\n",
    "data.prod_age_bin = data.prod_age_bin.astype('category')\n",
    "data.FN = data.FN.astype('category')\n",
    "data.Active = data.Active.astype('category')\n",
    "data.club_member_status = data.club_member_status.astype('category')\n",
    "data.fashion_news_frequency = data.fashion_news_frequency.astype('category')\n",
    "data.customer_age_bin = data.customer_age_bin.astype('category')\n",
    "data.customer_gender_group = data.customer_gender_group.astype('category')\n",
    "data.dtypes "
   ]
  },
  {
   "cell_type": "markdown",
   "metadata": {},
   "source": [
    "## Training LightGBM"
   ]
  },
  {
   "cell_type": "code",
   "execution_count": 9,
   "metadata": {},
   "outputs": [],
   "source": [
    "number_of_samples = data.customer_index.max().compute()\n",
    "train = data[data[\"customer_index\"] <= int(number_of_samples * 0.9)].compute()\n",
    "\n",
    "test = data[data[\"customer_index\"] > int(number_of_samples * 0.9)].compute()\n",
    "q_train = train.groupby(\"customer_id\")[\"customer_id\"].count()\n",
    "train_label = train.label\n",
    "train = train.drop([\"label\", \"customer_id\", \"article_id\"], axis=1)\n",
    "\n",
    "q_test = test.groupby(\"customer_id\")[\"customer_id\"].count()\n",
    "test_label = test.label\n",
    "test = test.drop([\"label\", \"customer_id\", \"article_id\"], axis=1)"
   ]
  },
  {
   "cell_type": "code",
   "execution_count": 19,
   "metadata": {},
   "outputs": [
    {
     "name": "stderr",
     "output_type": "stream",
     "text": [
      "C:\\Users\\topuz\\anaconda3\\envs\\tf\\lib\\site-packages\\lightgbm\\engine.py:177: UserWarning: Found `num_iterations` in params. Will use it instead of argument\n",
      "  _log_warning(f\"Found `{alias}` in params. Will use it instead of argument\")\n",
      "C:\\Users\\topuz\\anaconda3\\envs\\tf\\lib\\site-packages\\lightgbm\\basic.py:1780: UserWarning: Overriding the parameters from Reference Dataset.\n",
      "  _log_warning('Overriding the parameters from Reference Dataset.')\n",
      "C:\\Users\\topuz\\anaconda3\\envs\\tf\\lib\\site-packages\\lightgbm\\basic.py:1513: UserWarning: categorical_column in param dict is overridden.\n",
      "  _log_warning(f'{cat_alias} in param dict is overridden.')\n"
     ]
    },
    {
     "name": "stdout",
     "output_type": "stream",
     "text": [
      "[1]\tvalid_0's ndcg@3: 0.116454\tvalid_0's ndcg@7: 0.134626\tvalid_0's ndcg@12: 0.156435\n",
      "Training until validation scores don't improve for 5 rounds\n",
      "[2]\tvalid_0's ndcg@3: 0.12267\tvalid_0's ndcg@7: 0.141015\tvalid_0's ndcg@12: 0.161672\n",
      "[3]\tvalid_0's ndcg@3: 0.124038\tvalid_0's ndcg@7: 0.140933\tvalid_0's ndcg@12: 0.160462\n",
      "[4]\tvalid_0's ndcg@3: 0.126126\tvalid_0's ndcg@7: 0.142083\tvalid_0's ndcg@12: 0.16235\n",
      "[5]\tvalid_0's ndcg@3: 0.126637\tvalid_0's ndcg@7: 0.143083\tvalid_0's ndcg@12: 0.163276\n",
      "[6]\tvalid_0's ndcg@3: 0.127478\tvalid_0's ndcg@7: 0.143824\tvalid_0's ndcg@12: 0.164874\n",
      "[7]\tvalid_0's ndcg@3: 0.126255\tvalid_0's ndcg@7: 0.143469\tvalid_0's ndcg@12: 0.165623\n",
      "[8]\tvalid_0's ndcg@3: 0.129009\tvalid_0's ndcg@7: 0.145279\tvalid_0's ndcg@12: 0.167652\n",
      "[9]\tvalid_0's ndcg@3: 0.129102\tvalid_0's ndcg@7: 0.146129\tvalid_0's ndcg@12: 0.169474\n",
      "[10]\tvalid_0's ndcg@3: 0.128951\tvalid_0's ndcg@7: 0.146121\tvalid_0's ndcg@12: 0.169276\n",
      "[11]\tvalid_0's ndcg@3: 0.128943\tvalid_0's ndcg@7: 0.147642\tvalid_0's ndcg@12: 0.170448\n",
      "[12]\tvalid_0's ndcg@3: 0.129169\tvalid_0's ndcg@7: 0.148711\tvalid_0's ndcg@12: 0.171104\n",
      "[13]\tvalid_0's ndcg@3: 0.129075\tvalid_0's ndcg@7: 0.148146\tvalid_0's ndcg@12: 0.17096\n",
      "[14]\tvalid_0's ndcg@3: 0.130068\tvalid_0's ndcg@7: 0.149265\tvalid_0's ndcg@12: 0.171009\n",
      "[15]\tvalid_0's ndcg@3: 0.129888\tvalid_0's ndcg@7: 0.148961\tvalid_0's ndcg@12: 0.171136\n",
      "[16]\tvalid_0's ndcg@3: 0.130118\tvalid_0's ndcg@7: 0.149256\tvalid_0's ndcg@12: 0.171747\n",
      "[17]\tvalid_0's ndcg@3: 0.129453\tvalid_0's ndcg@7: 0.150389\tvalid_0's ndcg@12: 0.172758\n",
      "[18]\tvalid_0's ndcg@3: 0.129668\tvalid_0's ndcg@7: 0.150001\tvalid_0's ndcg@12: 0.172897\n",
      "[19]\tvalid_0's ndcg@3: 0.130297\tvalid_0's ndcg@7: 0.150956\tvalid_0's ndcg@12: 0.173786\n",
      "[20]\tvalid_0's ndcg@3: 0.130408\tvalid_0's ndcg@7: 0.150877\tvalid_0's ndcg@12: 0.173799\n",
      "[21]\tvalid_0's ndcg@3: 0.129339\tvalid_0's ndcg@7: 0.151213\tvalid_0's ndcg@12: 0.173942\n",
      "[22]\tvalid_0's ndcg@3: 0.129575\tvalid_0's ndcg@7: 0.150838\tvalid_0's ndcg@12: 0.173713\n",
      "[23]\tvalid_0's ndcg@3: 0.130078\tvalid_0's ndcg@7: 0.150852\tvalid_0's ndcg@12: 0.174039\n",
      "[24]\tvalid_0's ndcg@3: 0.129674\tvalid_0's ndcg@7: 0.149733\tvalid_0's ndcg@12: 0.173344\n",
      "[25]\tvalid_0's ndcg@3: 0.12958\tvalid_0's ndcg@7: 0.150661\tvalid_0's ndcg@12: 0.174851\n",
      "Early stopping, best iteration is:\n",
      "[20]\tvalid_0's ndcg@3: 0.130408\tvalid_0's ndcg@7: 0.150877\tvalid_0's ndcg@12: 0.173799\n"
     ]
    },
    {
     "data": {
      "text/plain": [
       "<lightgbm.basic.Booster at 0x2291adce790>"
      ]
     },
     "execution_count": 19,
     "metadata": {},
     "output_type": "execute_result"
    }
   ],
   "source": [
    "model = lgb.LGBMRanker(\n",
    "    objective=\"lambdarank\",\n",
    "    metric= \"ndcg\",\n",
    "    learning_rate=0.00001,\n",
    "    max_depth=512,\n",
    "    num_leaves=4096,\n",
    "    num_iterations=30\n",
    "    \n",
    ")\n",
    "\n",
    "model.fit(\n",
    "    train, train_label, group=q_train.values, eval_set=[(test, test_label)], eval_group=[q_test.values], eval_at=[12, 7, 3],\n",
    "    callbacks=[lgb.callback.log_evaluation(), lgb.callback.early_stopping(5, first_metric_only=False)],\n",
    "    categorical_feature = 'auto'\n",
    ")\n",
    "\n",
    "model.booster_.save_model('weights/lbm_lamda_ranker.txt',  num_iteration=model.best_iteration_)"
   ]
  },
  {
   "cell_type": "markdown",
   "metadata": {},
   "source": [
    "## Prediction LightGBM"
   ]
  },
  {
   "cell_type": "code",
   "execution_count": null,
   "metadata": {},
   "outputs": [],
   "source": []
  },
  {
   "cell_type": "code",
   "execution_count": null,
   "metadata": {},
   "outputs": [],
   "source": []
  }
 ],
 "metadata": {
  "interpreter": {
   "hash": "4ad61a90f8b8ec2120f8b8d3efc4267caee6017c89f89db236bf61b71644f2c7"
  },
  "kernelspec": {
   "display_name": "Python 3.8.11 ('tf')",
   "language": "python",
   "name": "python3"
  },
  "language_info": {
   "codemirror_mode": {
    "name": "ipython",
    "version": 3
   },
   "file_extension": ".py",
   "mimetype": "text/x-python",
   "name": "python",
   "nbconvert_exporter": "python",
   "pygments_lexer": "ipython3",
   "version": "3.8.10"
  },
  "orig_nbformat": 4
 },
 "nbformat": 4,
 "nbformat_minor": 2
}
