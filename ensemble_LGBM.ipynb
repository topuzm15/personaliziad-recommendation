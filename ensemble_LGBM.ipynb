{
 "cells": [
  {
   "cell_type": "code",
   "execution_count": 1,
   "metadata": {},
   "outputs": [],
   "source": [
    "import json\n",
    "import numpy as np\n",
    "import pandas as pd\n",
    "import lightgbm as lgb\n",
    "from dask import dataframe as dd"
   ]
  },
  {
   "cell_type": "code",
   "execution_count": 2,
   "metadata": {},
   "outputs": [],
   "source": [
    "transactions = dd.read_csv('data/transactions_train.csv')[[\"customer_id\", \"article_id\"]]\n",
    "customer_purchase_number = transactions.groupby(\"customer_id\").size().to_frame(\"prod_number\").reset_index()\n",
    "transactions = transactions.merge(customer_purchase_number, on=\"customer_id\", how=\"inner\")\n",
    "\n",
    "c_ids = transactions.customer_id.unique()\n",
    "number_of_customer = len(c_ids)\n",
    "customer_encoding = {c_id: i for i, c_id in enumerate(c_ids)}\n",
    "p_ids = transactions.article_id.unique()\n",
    "number_of_products = len(p_ids)\n",
    "product_encoding = {p_id: i for i, p_id in enumerate(p_ids)}\n",
    "with open('model_data/customer_id_encoding.json', 'w') as fp:\n",
    "    json.dump(customer_encoding, fp)\n",
    "\n",
    "with open('model_data/product_id_encoding.json', 'w') as fp:\n",
    "    json.dump(product_encoding, fp)\n",
    "\n",
    "transactions.customer_id = transactions.customer_id.map(customer_encoding)\n",
    "transactions.article_id = transactions.article_id.map(product_encoding)\n",
    "p_ids = list(product_encoding.values())\n",
    "del c_ids, product_encoding, customer_encoding, customer_purchase_number"
   ]
  },
  {
   "cell_type": "code",
   "execution_count": 3,
   "metadata": {},
   "outputs": [],
   "source": [
    "train, test = transactions.random_split([0.9, 0.1], random_state=43)\n",
    "df = test.merge(train[[\"customer_id\"]], on=[\"customer_id\"], how=\"outer\", indicator=True)\n",
    "train = dd.concat([train, df[(df._merge == 'left_only') |  (df.prod_number == 1)][[\"customer_id\", \"article_id\"]]], axis=0, ignore_index=True, interleave_partitions=True, ignore_order=True)\n",
    "df = df[(df._merge == 'both') &( df.prod_number > 1)][[\"customer_id\"]].drop_duplicates()\n",
    "test = test.merge(df, how=\"inner\", on=\"customer_id\")\n",
    "train = train.drop([\"prod_number\"], axis=1)\n",
    "test = test.drop([\"prod_number\"], axis=1)\n",
    "cols = [\"customer_id\", \"article_id\"]\n",
    "train[cols] = train[cols].applymap(np.float32)\n",
    "test[cols] = test[cols].applymap(np.float32)\n",
    "train = train.compute()\n",
    "test = test.compute()\n",
    "del transactions, df"
   ]
  },
  {
   "cell_type": "code",
   "execution_count": 4,
   "metadata": {},
   "outputs": [],
   "source": [
    "train.sort_values(by=[\"customer_id\"], inplace=True)\n",
    "test.sort_values(by=[\"customer_id\"], inplace=True)\n",
    "q_train = train.groupby(\"customer_id\").size().to_frame(\"prod_number\").reset_index()\n",
    "q_test = test.groupby(\"customer_id\").size().to_frame(\"prod_number\").reset_index() \n",
    "train[\"article_id\"] = pd.Series(train.article_id, dtype=\"category\")\n",
    "test[\"article_id\"] = pd.Series(test.article_id, dtype=\"category\")"
   ]
  },
  {
   "cell_type": "code",
   "execution_count": 5,
   "metadata": {},
   "outputs": [],
   "source": [
    "train[\"label\"] = 1.0\n",
    "test[\"label\"] = 1.0\n",
    "train = train.drop([\"customer_id\"], axis=1)\n",
    "test = test.drop([\"customer_id\"], axis=1)\n",
    "train.to_pickle(\"data/lgbm_data/train_data.pkl\")\n",
    "test.to_pickle(\"data/lgbm_data/test_data.pkl\")\n",
    "q_train.to_pickle(\"data/lgbm_data/q_train_data.pkl\")\n",
    "q_test.to_pickle(\"data/lgbm_data/q_test_data.pkl\")"
   ]
  },
  {
   "cell_type": "markdown",
   "metadata": {},
   "source": [
    "## Training LightGBM"
   ]
  },
  {
   "cell_type": "code",
   "execution_count": 6,
   "metadata": {},
   "outputs": [],
   "source": [
    "import pandas as pd\n",
    "import numpy as np\n",
    "import lightgbm as lgb\n",
    "from dask import dataframe as dd"
   ]
  },
  {
   "cell_type": "code",
   "execution_count": 7,
   "metadata": {},
   "outputs": [],
   "source": [
    "# 10 sec\n",
    "train = pd.read_pickle(\"data/lgbm_data/train_data.pkl\")\n",
    "test = pd.read_pickle(\"data/lgbm_data/test_data.pkl\")\n",
    "q_train = pd.read_pickle(\"data/lgbm_data/q_train_data.pkl\")\n",
    "q_test = pd.read_pickle(\"data/lgbm_data/q_test_data.pkl\")"
   ]
  },
  {
   "cell_type": "code",
   "execution_count": 10,
   "metadata": {},
   "outputs": [
    {
     "name": "stdout",
     "output_type": "stream",
     "text": [
      "[10]\tvalid_0's ndcg@1: 1\tvalid_0's ndcg@3: 1\tvalid_0's ndcg@5: 1\tvalid_0's ndcg@7: 1\tvalid_0's ndcg@10: 1\n"
     ]
    },
    {
     "data": {
      "text/plain": [
       "LGBMRanker()"
      ]
     },
     "execution_count": 10,
     "metadata": {},
     "output_type": "execute_result"
    }
   ],
   "source": [
    "gbm = lgb.LGBMRanker()\n",
    "gbm.fit(\n",
    "    train[[\"article_id\"]], train.label, group=q_train.prod_number, early_stopping_rounds=10,\n",
    "    eval_set = [(test[[\"article_id\"]], test.label)], eval_group = [q_test.prod_number], verbose=10,\n",
    "    eval_at = [1,3,5,7,10]\n",
    ")"
   ]
  },
  {
   "cell_type": "code",
   "execution_count": null,
   "metadata": {},
   "outputs": [],
   "source": []
  }
 ],
 "metadata": {
  "interpreter": {
   "hash": "4ad61a90f8b8ec2120f8b8d3efc4267caee6017c89f89db236bf61b71644f2c7"
  },
  "kernelspec": {
   "display_name": "Python 3.8.11 ('tf')",
   "language": "python",
   "name": "python3"
  },
  "language_info": {
   "codemirror_mode": {
    "name": "ipython",
    "version": 3
   },
   "file_extension": ".py",
   "mimetype": "text/x-python",
   "name": "python",
   "nbconvert_exporter": "python",
   "pygments_lexer": "ipython3",
   "version": "3.8.11"
  },
  "orig_nbformat": 4
 },
 "nbformat": 4,
 "nbformat_minor": 2
}
