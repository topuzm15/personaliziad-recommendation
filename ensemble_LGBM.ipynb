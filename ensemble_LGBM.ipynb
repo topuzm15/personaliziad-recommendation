{
 "cells": [
  {
   "cell_type": "code",
   "execution_count": 1,
   "metadata": {},
   "outputs": [],
   "source": [
    "import random\n",
    "import numpy as np\n",
    "import pandas as pd\n",
    "import lightgbm as lgb\n",
    "from dask import dataframe as dd"
   ]
  },
  {
   "cell_type": "code",
   "execution_count": 2,
   "metadata": {},
   "outputs": [
    {
     "data": {
      "text/plain": [
       "customer_id               object\n",
       "article_id                 int64\n",
       "label                    float64\n",
       "prod_rebuy_count         float64\n",
       "prod_sold_count          float64\n",
       "age_std                  float64\n",
       "age_mean                 float64\n",
       "quotient                 float64\n",
       "customer_index             int64\n",
       "age                      float64\n",
       "numberOfArticles         float64\n",
       "same_prod_rebuy_count    float64\n",
       "dtype: object"
      ]
     },
     "execution_count": 2,
     "metadata": {},
     "output_type": "execute_result"
    }
   ],
   "source": [
    "data = dd.read_csv(\"data/ensemble_train/ensemble_data.csv/*.part\", blocksize=\"64MB\")\n",
    "data = data.drop([\"Unnamed: 0\"], axis=1)\n",
    "data.dtypes "
   ]
  },
  {
   "cell_type": "code",
   "execution_count": 3,
   "metadata": {},
   "outputs": [],
   "source": [
    "#data.time_passed_last_purchase = data.time_passed_last_purchase.astype(np.float64)\n",
    "#data.prod_gender_group = data.prod_gender_group.astype('category')\n",
    "#data.prod_age_bin = data.prod_age_bin.astype('category')\n",
    "#data.FN = data.FN.astype('category')\n",
    "#data.Active = data.Active.astype('category')\n",
    "#data.club_member_status = data.club_member_status.astype('category')\n",
    "#data.fashion_news_frequency = data.fashion_news_frequency.astype('category')\n",
    "#data.customer_age_bin = data.customer_age_bin.astype('category')\n",
    "#data.customer_gender_group = data.customer_gender_group.astype('category')"
   ]
  },
  {
   "cell_type": "markdown",
   "metadata": {},
   "source": [
    "## Training LightGBM"
   ]
  },
  {
   "cell_type": "code",
   "execution_count": 4,
   "metadata": {},
   "outputs": [],
   "source": [
    "number_of_customer = data.customer_index.max().compute()\n",
    "randomlist = random.sample(range(0, number_of_customer),number_of_customer//10)\n",
    "train = data[~data[\"customer_index\"].isin(randomlist)].compute()\n",
    "train.drop(columns=\"customer_index\", inplace=True)\n",
    "\n",
    "test = data[data[\"customer_index\"].isin(randomlist)].compute()\n",
    "test.drop(columns=\"customer_index\", inplace=True)\n",
    "q_train = train.groupby(\"customer_id\")[\"customer_id\"].count()\n",
    "train_label = train.label\n",
    "train = train.drop([\"label\", \"customer_id\", \"article_id\"], axis=1)\n",
    "\n",
    "q_test = test.groupby(\"customer_id\")[\"customer_id\"].count()\n",
    "test_label = test.label\n",
    "test = test.drop([\"label\", \"customer_id\", \"article_id\"], axis=1)"
   ]
  },
  {
   "cell_type": "code",
   "execution_count": 6,
   "metadata": {},
   "outputs": [
    {
     "name": "stdout",
     "output_type": "stream",
     "text": [
      "[1]\tvalid_0's ndcg@12: 0.0701629\n",
      "[2]\tvalid_0's ndcg@12: 0.0467735\n",
      "[3]\tvalid_0's ndcg@12: 0.0581014\n",
      "[4]\tvalid_0's ndcg@12: 0.0734156\n",
      "[5]\tvalid_0's ndcg@12: 0.0813166\n",
      "[6]\tvalid_0's ndcg@12: 0.0793523\n",
      "[7]\tvalid_0's ndcg@12: 0.0814062\n",
      "[8]\tvalid_0's ndcg@12: 0.0910874\n",
      "[9]\tvalid_0's ndcg@12: 0.0953217\n",
      "[10]\tvalid_0's ndcg@12: 0.0944371\n",
      "[11]\tvalid_0's ndcg@12: 0.0921821\n",
      "[12]\tvalid_0's ndcg@12: 0.0990012\n",
      "[13]\tvalid_0's ndcg@12: 0.0958133\n",
      "[14]\tvalid_0's ndcg@12: 0.0993463\n",
      "[15]\tvalid_0's ndcg@12: 0.100068\n",
      "[16]\tvalid_0's ndcg@12: 0.100486\n",
      "[17]\tvalid_0's ndcg@12: 0.102877\n",
      "[18]\tvalid_0's ndcg@12: 0.103182\n",
      "[19]\tvalid_0's ndcg@12: 0.101821\n",
      "[20]\tvalid_0's ndcg@12: 0.101764\n",
      "[21]\tvalid_0's ndcg@12: 0.102268\n",
      "[22]\tvalid_0's ndcg@12: 0.101792\n",
      "[23]\tvalid_0's ndcg@12: 0.10244\n",
      "[24]\tvalid_0's ndcg@12: 0.10255\n",
      "[25]\tvalid_0's ndcg@12: 0.1028\n",
      "[26]\tvalid_0's ndcg@12: 0.103459\n",
      "[27]\tvalid_0's ndcg@12: 0.103499\n",
      "[28]\tvalid_0's ndcg@12: 0.103563\n",
      "[29]\tvalid_0's ndcg@12: 0.104097\n",
      "[30]\tvalid_0's ndcg@12: 0.104131\n",
      "[31]\tvalid_0's ndcg@12: 0.104074\n",
      "[32]\tvalid_0's ndcg@12: 0.104036\n",
      "[33]\tvalid_0's ndcg@12: 0.104058\n",
      "[34]\tvalid_0's ndcg@12: 0.104723\n",
      "[35]\tvalid_0's ndcg@12: 0.104782\n",
      "[36]\tvalid_0's ndcg@12: 0.104833\n",
      "[37]\tvalid_0's ndcg@12: 0.104337\n",
      "[38]\tvalid_0's ndcg@12: 0.104626\n",
      "[39]\tvalid_0's ndcg@12: 0.104422\n",
      "[40]\tvalid_0's ndcg@12: 0.104111\n",
      "[41]\tvalid_0's ndcg@12: 0.104669\n",
      "[42]\tvalid_0's ndcg@12: 0.105178\n",
      "[43]\tvalid_0's ndcg@12: 0.105155\n",
      "[44]\tvalid_0's ndcg@12: 0.105286\n",
      "[45]\tvalid_0's ndcg@12: 0.105389\n",
      "[46]\tvalid_0's ndcg@12: 0.105764\n",
      "[47]\tvalid_0's ndcg@12: 0.105748\n",
      "[48]\tvalid_0's ndcg@12: 0.105508\n",
      "[49]\tvalid_0's ndcg@12: 0.105788\n",
      "[50]\tvalid_0's ndcg@12: 0.106123\n",
      "[51]\tvalid_0's ndcg@12: 0.105904\n",
      "[52]\tvalid_0's ndcg@12: 0.106002\n",
      "[53]\tvalid_0's ndcg@12: 0.106481\n",
      "[54]\tvalid_0's ndcg@12: 0.106111\n",
      "[55]\tvalid_0's ndcg@12: 0.106317\n",
      "[56]\tvalid_0's ndcg@12: 0.10633\n",
      "[57]\tvalid_0's ndcg@12: 0.106229\n",
      "[58]\tvalid_0's ndcg@12: 0.106113\n",
      "[59]\tvalid_0's ndcg@12: 0.106143\n",
      "[60]\tvalid_0's ndcg@12: 0.10621\n",
      "[61]\tvalid_0's ndcg@12: 0.106341\n",
      "[62]\tvalid_0's ndcg@12: 0.106288\n",
      "[63]\tvalid_0's ndcg@12: 0.106762\n",
      "[64]\tvalid_0's ndcg@12: 0.106861\n",
      "[65]\tvalid_0's ndcg@12: 0.107196\n",
      "[66]\tvalid_0's ndcg@12: 0.10655\n",
      "[67]\tvalid_0's ndcg@12: 0.106701\n",
      "[68]\tvalid_0's ndcg@12: 0.106443\n",
      "[69]\tvalid_0's ndcg@12: 0.10645\n",
      "[70]\tvalid_0's ndcg@12: 0.106551\n",
      "[71]\tvalid_0's ndcg@12: 0.106917\n",
      "[72]\tvalid_0's ndcg@12: 0.107289\n",
      "[73]\tvalid_0's ndcg@12: 0.107679\n",
      "[74]\tvalid_0's ndcg@12: 0.107661\n",
      "[75]\tvalid_0's ndcg@12: 0.107172\n",
      "[76]\tvalid_0's ndcg@12: 0.107166\n",
      "[77]\tvalid_0's ndcg@12: 0.107363\n",
      "[78]\tvalid_0's ndcg@12: 0.107681\n",
      "[79]\tvalid_0's ndcg@12: 0.107831\n",
      "[80]\tvalid_0's ndcg@12: 0.10795\n",
      "[81]\tvalid_0's ndcg@12: 0.108107\n",
      "[82]\tvalid_0's ndcg@12: 0.108161\n",
      "[83]\tvalid_0's ndcg@12: 0.108637\n",
      "[84]\tvalid_0's ndcg@12: 0.108842\n",
      "[85]\tvalid_0's ndcg@12: 0.108681\n",
      "[86]\tvalid_0's ndcg@12: 0.108647\n",
      "[87]\tvalid_0's ndcg@12: 0.108567\n",
      "[88]\tvalid_0's ndcg@12: 0.108845\n"
     ]
    }
   ],
   "source": [
    "model = lgb.LGBMRanker(\n",
    "    objective=\"lambdarank\",\n",
    "    metric= \"ndcg\",\n",
    "    boosting_type=\"dart\",\n",
    "#    learning_rate=0.01,\n",
    "#    num_leaves=2048,\n",
    "    n_estimators=512,\n",
    "    importance_type='gain',\n",
    "#    max_depth=128,\n",
    "#    num_iterations=30,\n",
    "#    verbose=10,\n",
    ")\n",
    "\n",
    "model.fit(\n",
    "    train, train_label, group=q_train.values, eval_set=[(test, test_label)], eval_group=[q_test.values], eval_at=[12],\n",
    "    callbacks=[lgb.callback.log_evaluation(), lgb.callback.early_stopping(5, first_metric_only=False)],\n",
    ")\n",
    "\n",
    "model.booster_.save_model('weights/lbm_lamda_ranker.txt',  num_iteration=model.best_iteration_)"
   ]
  },
  {
   "cell_type": "code",
   "execution_count": null,
   "metadata": {},
   "outputs": [],
   "source": [
    "for i in model.feature_importances_.argsort()[::-1]:\n",
    "    print(train.columns[i], model.feature_importances_[i]/model.feature_importances_.sum())"
   ]
  },
  {
   "cell_type": "code",
   "execution_count": 1,
   "metadata": {},
   "outputs": [],
   "source": [
    "import gc\n",
    "import cudf\n",
    "import numpy as np\n",
    "import pandas as pd\n",
    "import lightgbm as lgb\n",
    "\n",
    "model = lgb.Booster(model_file='weights/lbm_lamda_ranker.txt')"
   ]
  },
  {
   "cell_type": "code",
   "execution_count": 2,
   "metadata": {},
   "outputs": [],
   "source": [
    "customers = pd.read_pickle(\"data/ensemble/customers.pkl\")\n",
    "customers.drop(columns=\"customer_index\", inplace=True)\n",
    "customers.drop_duplicates(subset=[\"customer_id\"], inplace=True)\n",
    "customers = customers.sort_values(by=[\"customer_id\"])\n",
    "articles = pd.read_pickle(\"data/ensemble/articles.pkl\")\n",
    "articles.drop_duplicates(subset=[\"article_id\"], inplace=True)\n",
    "customer_hist = pd.read_pickle(\"data/ensemble/customer_hist.pkl\")\n",
    "customer_hist.drop_duplicates(subset=[\"customer_id\", \"article_id\"], inplace=True)\n",
    "article_ids = articles.article_id.values.tolist()\n",
    "customer_ids = customers.customer_id.values\n",
    "customers = cudf.DataFrame.from_pandas(customers)\n",
    "customer_hist = cudf.DataFrame.from_pandas(customer_hist)\n",
    "articles = cudf.DataFrame.from_pandas(articles)\n",
    "batch_size = 512\n",
    "article_ids = article_ids * batch_size\n",
    "article_ids_str = ('0' + articles.article_id.astype(str)).to_numpy()\n",
    "submission = pd.DataFrame({\"customer_id\":[],\"predict\":[]})"
   ]
  },
  {
   "cell_type": "code",
   "execution_count": 3,
   "metadata": {},
   "outputs": [
    {
     "name": "stdout",
     "output_type": "stream",
     "text": [
      "685056: %99.98\n",
      "\n",
      "CPU times: user 12h 15min 45s, sys: 7min 20s, total: 12h 23min 6s\n",
      "Wall time: 1h 50min 48s\n"
     ]
    }
   ],
   "source": [
    "%%time\n",
    "df_list = []\n",
    "loop_size = len(customer_ids) + batch_size\n",
    "for batch_i in range(batch_size, loop_size, batch_size):\n",
    "    customer_ids_batch = customer_ids[batch_i-batch_size:batch_i]\n",
    "    customer_ids_batch = np.repeat(customer_ids_batch, len(article_ids)/batch_size)\n",
    "    df = cudf.DataFrame({\"customer_id\": customer_ids_batch, \"article_id\": article_ids[:customer_ids_batch.shape[0]], \"week\": 39})\n",
    "    df = df.merge(articles.rename(columns={\"age_bin\":\"prod_age_bin\", \"gender_group\":\"prod_gender_group\", \\\n",
    "                                           \"rebuy_count\":\"prod_rebuy_count\",\"price\":\"prod_avg_price\"}), on=\"article_id\", how=\"inner\")\n",
    "    df = df.merge(customers.rename(columns={\"age_bin\":\"customer_age_bin\", \"gender_group\":\"customer_gender_group\",\\\n",
    "                                            \"rebuy_count\":\"customer_rebuy_count\",\"price\":\"customer_avg_price\", \\\n",
    "                                            \"article_id\":\"article_hist\", \"week\":\"week_hist\"}), on=\"customer_id\", how=\"inner\")\n",
    "    df = df.merge(customer_hist, on=[\"customer_id\",\"article_id\"], how=\"left\")\n",
    "    df.same_prod_rebuy_count = df.same_prod_rebuy_count.fillna(0)\n",
    "    df.avg_purchase_time = df.avg_purchase_time.fillna(0)\n",
    "    df.time_passed_last_purchase = df.time_passed_last_purchase.fillna(39 - 29) # 6 mounths is nearly 29 week\n",
    "    df.time_passed_last_purchase = df.apply(lambda x: x.week - x.time_passed_last_purchase)\n",
    "    df.drop(columns=[\"customer_id\", \"article_id\",\"week\"], inplace=True)\n",
    "    ensemble_scores = model.predict(df.to_numpy()).reshape((customer_ids[batch_i-batch_size:batch_i].shape[0], articles.shape[0]))\n",
    "    indices = np.flip(np.argsort(ensemble_scores, axis=1), axis=1)[:,-12:]\n",
    "    predicts = list(map(lambda x: ' '.join(x), article_ids_str[indices]))\n",
    "    submission = pd.concat([submission, pd.DataFrame({\"customer_id\":customer_ids[batch_i-batch_size:batch_i],\"predict\":predicts})])\n",
    "    del df\n",
    "    gc.collect()\n",
    "    print('\\r' + f'{batch_i}: %{round(100*batch_i/loop_size, 2)}', end='')\n",
    "print(\"\\n\")"
   ]
  },
  {
   "cell_type": "code",
   "execution_count": 7,
   "metadata": {},
   "outputs": [],
   "source": [
    "submission_dict = {}\n",
    "for i,row in submission.iterrows():\n",
    "    submission_dict[row.customer_id] = row.predict"
   ]
  },
  {
   "cell_type": "code",
   "execution_count": 13,
   "metadata": {},
   "outputs": [],
   "source": [
    "base_submission = pd.read_csv(\"data/sample_submission.csv\")\n",
    "base_submission.prediction = base_submission.apply(lambda x: submission_dict[x.customer_id] if x.customer_id in submission_dict.keys() else x.prediction, axis=1)"
   ]
  },
  {
   "cell_type": "code",
   "execution_count": 16,
   "metadata": {},
   "outputs": [
    {
     "data": {
      "text/html": [
       "<div>\n",
       "<style scoped>\n",
       "    .dataframe tbody tr th:only-of-type {\n",
       "        vertical-align: middle;\n",
       "    }\n",
       "\n",
       "    .dataframe tbody tr th {\n",
       "        vertical-align: top;\n",
       "    }\n",
       "\n",
       "    .dataframe thead th {\n",
       "        text-align: right;\n",
       "    }\n",
       "</style>\n",
       "<table border=\"1\" class=\"dataframe\">\n",
       "  <thead>\n",
       "    <tr style=\"text-align: right;\">\n",
       "      <th></th>\n",
       "      <th>customer_id</th>\n",
       "      <th>prediction</th>\n",
       "    </tr>\n",
       "  </thead>\n",
       "  <tbody>\n",
       "    <tr>\n",
       "      <th>0</th>\n",
       "      <td>00000dbacae5abe5e23885899a1fa44253a17956c6d1c3...</td>\n",
       "      <td>0870998004 0859400005 0866660002 0921347004 08...</td>\n",
       "    </tr>\n",
       "    <tr>\n",
       "      <th>1</th>\n",
       "      <td>0000423b00ade91418cceaf3b26c6af3dd342b51fd051e...</td>\n",
       "      <td>0608776026 0743530002 0898918006 0732311003 08...</td>\n",
       "    </tr>\n",
       "    <tr>\n",
       "      <th>2</th>\n",
       "      <td>000058a12d5b43e67d225668fa1f8d618c13dc232df0ca...</td>\n",
       "      <td>0730863012 0900256002 0535035002 0867503001 09...</td>\n",
       "    </tr>\n",
       "    <tr>\n",
       "      <th>3</th>\n",
       "      <td>00005ca1c9ed5f5146b52ac8639a40ca9d57aeff4d1bd2...</td>\n",
       "      <td>0706016001 0706016002 0372860001 0610776002 07...</td>\n",
       "    </tr>\n",
       "    <tr>\n",
       "      <th>4</th>\n",
       "      <td>00006413d8573cd20ed7128e53b7b13819fe5cfc2d801f...</td>\n",
       "      <td>0922625004 0832520001 0915618001 0909370001 04...</td>\n",
       "    </tr>\n",
       "  </tbody>\n",
       "</table>\n",
       "</div>"
      ],
      "text/plain": [
       "                                         customer_id  \\\n",
       "0  00000dbacae5abe5e23885899a1fa44253a17956c6d1c3...   \n",
       "1  0000423b00ade91418cceaf3b26c6af3dd342b51fd051e...   \n",
       "2  000058a12d5b43e67d225668fa1f8d618c13dc232df0ca...   \n",
       "3  00005ca1c9ed5f5146b52ac8639a40ca9d57aeff4d1bd2...   \n",
       "4  00006413d8573cd20ed7128e53b7b13819fe5cfc2d801f...   \n",
       "\n",
       "                                          prediction  \n",
       "0  0870998004 0859400005 0866660002 0921347004 08...  \n",
       "1  0608776026 0743530002 0898918006 0732311003 08...  \n",
       "2  0730863012 0900256002 0535035002 0867503001 09...  \n",
       "3  0706016001 0706016002 0372860001 0610776002 07...  \n",
       "4  0922625004 0832520001 0915618001 0909370001 04...  "
      ]
     },
     "execution_count": 16,
     "metadata": {},
     "output_type": "execute_result"
    }
   ],
   "source": [
    "base_submission.to_csv(\"submissions/submission.csv\",index=False)\n",
    "base_submission.head()"
   ]
  },
  {
   "cell_type": "code",
   "execution_count": null,
   "metadata": {},
   "outputs": [],
   "source": []
  }
 ],
 "metadata": {
  "interpreter": {
   "hash": "4ad61a90f8b8ec2120f8b8d3efc4267caee6017c89f89db236bf61b71644f2c7"
  },
  "kernelspec": {
   "display_name": "Python 3 (ipykernel)",
   "language": "python",
   "name": "python3"
  },
  "language_info": {
   "codemirror_mode": {
    "name": "ipython",
    "version": 3
   },
   "file_extension": ".py",
   "mimetype": "text/x-python",
   "name": "python",
   "nbconvert_exporter": "python",
   "pygments_lexer": "ipython3",
   "version": "3.8.11"
  }
 },
 "nbformat": 4,
 "nbformat_minor": 4
}
