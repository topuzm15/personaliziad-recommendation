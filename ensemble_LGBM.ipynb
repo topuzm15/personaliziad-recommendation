{
 "cells": [
  {
   "cell_type": "code",
   "execution_count": 14,
   "metadata": {},
   "outputs": [],
   "source": [
    "import random\n",
    "import numpy as np\n",
    "import pandas as pd\n",
    "from dask import dataframe as dd\n",
    "import lightgbm as lgb"
   ]
  },
  {
   "cell_type": "code",
   "execution_count": 7,
   "metadata": {},
   "outputs": [
    {
     "data": {
      "text/plain": [
       "customer_id                   object\n",
       "article_id                     int64\n",
       "label                        float32\n",
       "prod_rebuy_count             float32\n",
       "prod_sold_count              float32\n",
       "age_std                      float32\n",
       "age_mean                     float32\n",
       "quotient                     float32\n",
       "customer_index                 int64\n",
       "age                          float32\n",
       "numberOfArticles             float32\n",
       "same_prod_rebuy_count        float32\n",
       "time_passed_last_purchase    float32\n",
       "avg_purchase_time            float32\n",
       "dtype: object"
      ]
     },
     "execution_count": 7,
     "metadata": {},
     "output_type": "execute_result"
    }
   ],
   "source": [
    "data = dd.read_csv(\"data/ensemble_train/ensemble_data.csv/*.part\", blocksize=\"64MB\", dtype={\"label\": np.float32, \"prod_rebuy_count\": np.float32, \"prod_sold_count\":np.float32, \"age_std\":np.float32,\n",
    "                                                                                            \"age_mean\":np.float32, \"quotient\":np.float32, \"age\":np.float32, \"numberOfArticles\":np.float32,\n",
    "                                                                                            \"same_prod_rebuy_count\":np.float32, \"time_passed_last_purchase\":np.float32, \"avg_purchase_time\":np.float32})\n",
    "data = data.drop([\"Unnamed: 0\"], axis=1)\n",
    "data.dtypes "
   ]
  },
  {
   "cell_type": "code",
   "execution_count": 8,
   "metadata": {},
   "outputs": [],
   "source": [
    "#data.time_passed_last_purchase = data.time_passed_last_purchase.astype(np.float64)\n",
    "#data.prod_gender_group = data.prod_gender_group.astype('category')\n",
    "#data.prod_age_bin = data.prod_age_bin.astype('category')\n",
    "#data.FN = data.FN.astype('category')\n",
    "#data.Active = data.Active.astype('category')\n",
    "#data.club_member_status = data.club_member_status.astype('category')\n",
    "#data.fashion_news_frequency = data.fashion_news_frequency.astype('category')\n",
    "#data.customer_age_bin = data.customer_age_bin.astype('category')\n",
    "#data.customer_gender_group = data.customer_gender_group.astype('category')"
   ]
  },
  {
   "cell_type": "markdown",
   "metadata": {},
   "source": [
    "## Training LightGBM"
   ]
  },
  {
   "cell_type": "code",
   "execution_count": 9,
   "metadata": {},
   "outputs": [],
   "source": [
    "number_of_customer = data.customer_index.max().compute()\n",
    "randomlist = random.sample(range(0, number_of_customer),number_of_customer//10)\n",
    "train = data[~data[\"customer_index\"].isin(randomlist)].compute()\n",
    "train.drop(columns=\"customer_index\", inplace=True)\n",
    "\n",
    "test = data[data[\"customer_index\"].isin(randomlist)].compute()\n",
    "test.drop(columns=\"customer_index\", inplace=True)\n",
    "q_train = train.groupby(\"customer_id\")[\"customer_id\"].count()\n",
    "train_label = train.label\n",
    "train = train.drop([\"label\", \"customer_id\", \"article_id\"], axis=1)\n",
    "\n",
    "q_test = test.groupby(\"customer_id\")[\"customer_id\"].count()\n",
    "test_label = test.label\n",
    "test = test.drop([\"label\", \"customer_id\", \"article_id\"], axis=1)"
   ]
  },
  {
   "cell_type": "code",
   "execution_count": 10,
   "metadata": {},
   "outputs": [
    {
     "data": {
      "text/html": [
       "<div>\n",
       "<style scoped>\n",
       "    .dataframe tbody tr th:only-of-type {\n",
       "        vertical-align: middle;\n",
       "    }\n",
       "\n",
       "    .dataframe tbody tr th {\n",
       "        vertical-align: top;\n",
       "    }\n",
       "\n",
       "    .dataframe thead th {\n",
       "        text-align: right;\n",
       "    }\n",
       "</style>\n",
       "<table border=\"1\" class=\"dataframe\">\n",
       "  <thead>\n",
       "    <tr style=\"text-align: right;\">\n",
       "      <th></th>\n",
       "      <th>prod_rebuy_count</th>\n",
       "      <th>prod_sold_count</th>\n",
       "      <th>age_std</th>\n",
       "      <th>age_mean</th>\n",
       "      <th>quotient</th>\n",
       "      <th>age</th>\n",
       "      <th>numberOfArticles</th>\n",
       "      <th>same_prod_rebuy_count</th>\n",
       "      <th>time_passed_last_purchase</th>\n",
       "      <th>avg_purchase_time</th>\n",
       "    </tr>\n",
       "  </thead>\n",
       "  <tbody>\n",
       "    <tr>\n",
       "      <th>0</th>\n",
       "      <td>0.016981</td>\n",
       "      <td>0.001384</td>\n",
       "      <td>0.582456</td>\n",
       "      <td>0.431195</td>\n",
       "      <td>0.007102</td>\n",
       "      <td>0.096386</td>\n",
       "      <td>0.004706</td>\n",
       "      <td>0.0</td>\n",
       "      <td>1.0</td>\n",
       "      <td>0.0</td>\n",
       "    </tr>\n",
       "    <tr>\n",
       "      <th>1</th>\n",
       "      <td>0.000000</td>\n",
       "      <td>0.000923</td>\n",
       "      <td>0.526745</td>\n",
       "      <td>0.171037</td>\n",
       "      <td>0.001773</td>\n",
       "      <td>0.096386</td>\n",
       "      <td>0.004706</td>\n",
       "      <td>0.0</td>\n",
       "      <td>1.0</td>\n",
       "      <td>0.0</td>\n",
       "    </tr>\n",
       "    <tr>\n",
       "      <th>2</th>\n",
       "      <td>0.000588</td>\n",
       "      <td>0.002307</td>\n",
       "      <td>0.561633</td>\n",
       "      <td>0.279337</td>\n",
       "      <td>0.002218</td>\n",
       "      <td>0.096386</td>\n",
       "      <td>0.004706</td>\n",
       "      <td>0.0</td>\n",
       "      <td>1.0</td>\n",
       "      <td>0.0</td>\n",
       "    </tr>\n",
       "    <tr>\n",
       "      <th>3</th>\n",
       "      <td>0.000000</td>\n",
       "      <td>0.032764</td>\n",
       "      <td>0.464198</td>\n",
       "      <td>0.302350</td>\n",
       "      <td>0.000192</td>\n",
       "      <td>0.096386</td>\n",
       "      <td>0.004706</td>\n",
       "      <td>0.0</td>\n",
       "      <td>1.0</td>\n",
       "      <td>0.0</td>\n",
       "    </tr>\n",
       "    <tr>\n",
       "      <th>4</th>\n",
       "      <td>0.000000</td>\n",
       "      <td>0.000923</td>\n",
       "      <td>0.524866</td>\n",
       "      <td>0.178622</td>\n",
       "      <td>0.002662</td>\n",
       "      <td>0.096386</td>\n",
       "      <td>0.004706</td>\n",
       "      <td>0.0</td>\n",
       "      <td>1.0</td>\n",
       "      <td>0.0</td>\n",
       "    </tr>\n",
       "  </tbody>\n",
       "</table>\n",
       "</div>"
      ],
      "text/plain": [
       "   prod_rebuy_count  prod_sold_count   age_std  age_mean  quotient       age  \\\n",
       "0          0.016981         0.001384  0.582456  0.431195  0.007102  0.096386   \n",
       "1          0.000000         0.000923  0.526745  0.171037  0.001773  0.096386   \n",
       "2          0.000588         0.002307  0.561633  0.279337  0.002218  0.096386   \n",
       "3          0.000000         0.032764  0.464198  0.302350  0.000192  0.096386   \n",
       "4          0.000000         0.000923  0.524866  0.178622  0.002662  0.096386   \n",
       "\n",
       "   numberOfArticles  same_prod_rebuy_count  time_passed_last_purchase  \\\n",
       "0          0.004706                    0.0                        1.0   \n",
       "1          0.004706                    0.0                        1.0   \n",
       "2          0.004706                    0.0                        1.0   \n",
       "3          0.004706                    0.0                        1.0   \n",
       "4          0.004706                    0.0                        1.0   \n",
       "\n",
       "   avg_purchase_time  \n",
       "0                0.0  \n",
       "1                0.0  \n",
       "2                0.0  \n",
       "3                0.0  \n",
       "4                0.0  "
      ]
     },
     "execution_count": 10,
     "metadata": {},
     "output_type": "execute_result"
    }
   ],
   "source": [
    "train.head()"
   ]
  },
  {
   "cell_type": "code",
   "execution_count": 17,
   "metadata": {},
   "outputs": [
    {
     "name": "stderr",
     "output_type": "stream",
     "text": [
      "c:\\Users\\topuz\\anaconda3\\envs\\tf\\lib\\site-packages\\lightgbm\\engine.py:177: UserWarning: Found `num_iterations` in params. Will use it instead of argument\n",
      "  _log_warning(f\"Found `{alias}` in params. Will use it instead of argument\")\n"
     ]
    },
    {
     "name": "stdout",
     "output_type": "stream",
     "text": [
      "[1]\tvalid_0's ndcg@12: 0.113431\n",
      "[2]\tvalid_0's ndcg@12: 0.119593\n",
      "[3]\tvalid_0's ndcg@12: 0.133406\n",
      "[4]\tvalid_0's ndcg@12: 0.144236\n",
      "[5]\tvalid_0's ndcg@12: 0.146609\n",
      "[6]\tvalid_0's ndcg@12: 0.147411\n",
      "[7]\tvalid_0's ndcg@12: 0.148621\n",
      "[8]\tvalid_0's ndcg@12: 0.149093\n",
      "[9]\tvalid_0's ndcg@12: 0.149816\n",
      "[10]\tvalid_0's ndcg@12: 0.150007\n",
      "[11]\tvalid_0's ndcg@12: 0.150618\n",
      "[12]\tvalid_0's ndcg@12: 0.150643\n",
      "[13]\tvalid_0's ndcg@12: 0.150657\n",
      "[14]\tvalid_0's ndcg@12: 0.15069\n",
      "[15]\tvalid_0's ndcg@12: 0.150354\n",
      "[16]\tvalid_0's ndcg@12: 0.150608\n",
      "[17]\tvalid_0's ndcg@12: 0.150782\n",
      "[18]\tvalid_0's ndcg@12: 0.151144\n",
      "[19]\tvalid_0's ndcg@12: 0.150984\n",
      "[20]\tvalid_0's ndcg@12: 0.150933\n",
      "[21]\tvalid_0's ndcg@12: 0.151439\n",
      "[22]\tvalid_0's ndcg@12: 0.151341\n",
      "[23]\tvalid_0's ndcg@12: 0.151022\n",
      "[24]\tvalid_0's ndcg@12: 0.151372\n",
      "[25]\tvalid_0's ndcg@12: 0.152019\n",
      "[26]\tvalid_0's ndcg@12: 0.151673\n",
      "[27]\tvalid_0's ndcg@12: 0.151796\n",
      "[28]\tvalid_0's ndcg@12: 0.151864\n",
      "[29]\tvalid_0's ndcg@12: 0.151949\n",
      "[30]\tvalid_0's ndcg@12: 0.152349\n",
      "[31]\tvalid_0's ndcg@12: 0.152155\n",
      "[32]\tvalid_0's ndcg@12: 0.152154\n",
      "[33]\tvalid_0's ndcg@12: 0.151795\n",
      "[34]\tvalid_0's ndcg@12: 0.151909\n",
      "[35]\tvalid_0's ndcg@12: 0.151974\n",
      "[36]\tvalid_0's ndcg@12: 0.152151\n",
      "[37]\tvalid_0's ndcg@12: 0.151785\n",
      "[38]\tvalid_0's ndcg@12: 0.152103\n",
      "[39]\tvalid_0's ndcg@12: 0.152003\n",
      "[40]\tvalid_0's ndcg@12: 0.151894\n",
      "[41]\tvalid_0's ndcg@12: 0.152046\n",
      "[42]\tvalid_0's ndcg@12: 0.151946\n",
      "[43]\tvalid_0's ndcg@12: 0.151894\n",
      "[44]\tvalid_0's ndcg@12: 0.151909\n",
      "[45]\tvalid_0's ndcg@12: 0.152099\n",
      "[46]\tvalid_0's ndcg@12: 0.152398\n",
      "[47]\tvalid_0's ndcg@12: 0.151838\n",
      "[48]\tvalid_0's ndcg@12: 0.15202\n",
      "[49]\tvalid_0's ndcg@12: 0.152138\n",
      "[50]\tvalid_0's ndcg@12: 0.151927\n",
      "[51]\tvalid_0's ndcg@12: 0.151821\n",
      "[52]\tvalid_0's ndcg@12: 0.152024\n",
      "[53]\tvalid_0's ndcg@12: 0.151932\n",
      "[54]\tvalid_0's ndcg@12: 0.151773\n",
      "[55]\tvalid_0's ndcg@12: 0.151662\n",
      "[56]\tvalid_0's ndcg@12: 0.151786\n",
      "[57]\tvalid_0's ndcg@12: 0.151277\n",
      "[58]\tvalid_0's ndcg@12: 0.151686\n",
      "[59]\tvalid_0's ndcg@12: 0.151746\n",
      "[60]\tvalid_0's ndcg@12: 0.151493\n",
      "[61]\tvalid_0's ndcg@12: 0.151622\n",
      "[62]\tvalid_0's ndcg@12: 0.15118\n",
      "[63]\tvalid_0's ndcg@12: 0.151385\n",
      "[64]\tvalid_0's ndcg@12: 0.151467\n",
      "[65]\tvalid_0's ndcg@12: 0.151593\n",
      "[66]\tvalid_0's ndcg@12: 0.151763\n",
      "[67]\tvalid_0's ndcg@12: 0.151778\n",
      "[68]\tvalid_0's ndcg@12: 0.151487\n",
      "[69]\tvalid_0's ndcg@12: 0.151763\n",
      "[70]\tvalid_0's ndcg@12: 0.151588\n",
      "[71]\tvalid_0's ndcg@12: 0.151949\n",
      "[72]\tvalid_0's ndcg@12: 0.152326\n",
      "[73]\tvalid_0's ndcg@12: 0.152313\n",
      "[74]\tvalid_0's ndcg@12: 0.152273\n",
      "[75]\tvalid_0's ndcg@12: 0.152141\n",
      "[76]\tvalid_0's ndcg@12: 0.151943\n",
      "[77]\tvalid_0's ndcg@12: 0.152016\n",
      "[78]\tvalid_0's ndcg@12: 0.151904\n",
      "[79]\tvalid_0's ndcg@12: 0.151936\n",
      "[80]\tvalid_0's ndcg@12: 0.151609\n",
      "[81]\tvalid_0's ndcg@12: 0.151723\n",
      "[82]\tvalid_0's ndcg@12: 0.152118\n",
      "[83]\tvalid_0's ndcg@12: 0.152127\n",
      "[84]\tvalid_0's ndcg@12: 0.152131\n",
      "[85]\tvalid_0's ndcg@12: 0.151919\n",
      "[86]\tvalid_0's ndcg@12: 0.15219\n",
      "[87]\tvalid_0's ndcg@12: 0.152067\n",
      "[88]\tvalid_0's ndcg@12: 0.152144\n",
      "[89]\tvalid_0's ndcg@12: 0.152329\n",
      "[90]\tvalid_0's ndcg@12: 0.152168\n",
      "[91]\tvalid_0's ndcg@12: 0.152262\n",
      "[92]\tvalid_0's ndcg@12: 0.152192\n",
      "[93]\tvalid_0's ndcg@12: 0.152316\n",
      "[94]\tvalid_0's ndcg@12: 0.152387\n",
      "[95]\tvalid_0's ndcg@12: 0.15226\n",
      "[96]\tvalid_0's ndcg@12: 0.152276\n",
      "[97]\tvalid_0's ndcg@12: 0.152543\n",
      "[98]\tvalid_0's ndcg@12: 0.152283\n",
      "[99]\tvalid_0's ndcg@12: 0.151942\n",
      "[100]\tvalid_0's ndcg@12: 0.15207\n"
     ]
    },
    {
     "data": {
      "text/plain": [
       "<lightgbm.basic.Booster at 0x16912f9e280>"
      ]
     },
     "execution_count": 17,
     "metadata": {},
     "output_type": "execute_result"
    }
   ],
   "source": [
    "model = lgb.LGBMRanker(\n",
    "    objective=\"lambdarank\",\n",
    "    metric= \"ndcg\",\n",
    "    boosting_type=\"dart\",\n",
    "#   learning_rate=0.01,\n",
    "    num_leaves=256,\n",
    "    n_estimators=512,\n",
    "    importance_type='gain',\n",
    "    device= \"gpu\",\n",
    "    gpu_platform_id= 0,\n",
    "    gpu_device_id= 0,\n",
    "#   max_depth=128,\n",
    "    num_iterations=50,\n",
    "#   verbose=10,\n",
    ")\n",
    "\n",
    "model.fit(\n",
    "    train, train_label, group=q_train.values, eval_set=[(test, test_label)], eval_group=[q_test.values], eval_at=[12],\n",
    "    callbacks=[lgb.callback.log_evaluation()],\n",
    ")\n",
    "\n",
    "model.booster_.save_model('weights/lbm_lamda_ranker.txt',  num_iteration=model.best_iteration_)"
   ]
  },
  {
   "cell_type": "code",
   "execution_count": 18,
   "metadata": {},
   "outputs": [
    {
     "name": "stdout",
     "output_type": "stream",
     "text": [
      "prod_sold_count 0.3871510235133944\n",
      "same_prod_rebuy_count 0.18926619342993617\n",
      "time_passed_last_purchase 0.08102875300143439\n",
      "quotient 0.07569838576832018\n",
      "age 0.06763288233957136\n",
      "age_mean 0.06289784752067851\n",
      "age_std 0.052353041999002224\n",
      "prod_rebuy_count 0.04485166147753122\n",
      "numberOfArticles 0.038807749101788\n",
      "avg_purchase_time 0.0003124618483435447\n"
     ]
    }
   ],
   "source": [
    "for i in model.feature_importances_.argsort()[::-1]:\n",
    "    print(train.columns[i], model.feature_importances_[i]/model.feature_importances_.sum())"
   ]
  },
  {
   "cell_type": "code",
   "execution_count": 1,
   "metadata": {},
   "outputs": [
    {
     "name": "stdout",
     "output_type": "stream",
     "text": [
      "Requirement already satisfied: lightgbm in /opt/conda/envs/rapids/lib/python3.8/site-packages (3.3.2)\n",
      "Requirement already satisfied: wheel in /opt/conda/envs/rapids/lib/python3.8/site-packages (from lightgbm) (0.37.1)\n",
      "Requirement already satisfied: numpy in /opt/conda/envs/rapids/lib/python3.8/site-packages (from lightgbm) (1.21.5)\n",
      "Requirement already satisfied: scikit-learn!=0.22.0 in /opt/conda/envs/rapids/lib/python3.8/site-packages (from lightgbm) (0.24.2)\n",
      "Requirement already satisfied: scipy in /opt/conda/envs/rapids/lib/python3.8/site-packages (from lightgbm) (1.6.0)\n",
      "Requirement already satisfied: joblib>=0.11 in /opt/conda/envs/rapids/lib/python3.8/site-packages (from scikit-learn!=0.22.0->lightgbm) (1.1.0)\n",
      "Requirement already satisfied: threadpoolctl>=2.0.0 in /opt/conda/envs/rapids/lib/python3.8/site-packages (from scikit-learn!=0.22.0->lightgbm) (3.1.0)\n",
      "\u001b[33mWARNING: Running pip as the 'root' user can result in broken permissions and conflicting behaviour with the system package manager. It is recommended to use a virtual environment instead: https://pip.pypa.io/warnings/venv\u001b[0m\u001b[33m\n",
      "\u001b[0m"
     ]
    }
   ],
   "source": [
    "!pip install lightgbm"
   ]
  },
  {
   "cell_type": "code",
   "execution_count": 1,
   "metadata": {},
   "outputs": [],
   "source": [
    "import gc\n",
    "import cudf\n",
    "import numpy as np\n",
    "import pandas as pd\n",
    "import lightgbm as lgb\n",
    "\n",
    "model = lgb.Booster(model_file='weights/lbm_lamda_ranker.txt')"
   ]
  },
  {
   "cell_type": "code",
   "execution_count": 2,
   "metadata": {},
   "outputs": [],
   "source": [
    "customers = pd.read_pickle(\"data/ensemble/customers.pkl\")\n",
    "customers.drop(columns=\"customer_index\", inplace=True)\n",
    "customers.drop_duplicates(subset=[\"customer_id\"], inplace=True)\n",
    "customers = customers.sort_values(by=[\"customer_id\"])\n",
    "articles = pd.read_pickle(\"data/ensemble/articles.pkl\")\n",
    "articles.drop_duplicates(subset=[\"article_id\"], inplace=True)\n",
    "customer_hist = pd.read_pickle(\"data/ensemble/customer_hist.pkl\")\n",
    "customer_hist.drop_duplicates(subset=[\"customer_id\", \"article_id\"], inplace=True)\n",
    "article_ids = articles.article_id.values.tolist()\n",
    "customer_ids = customers.customer_id.values\n",
    "customers = cudf.DataFrame.from_pandas(customers)\n",
    "customer_hist = cudf.DataFrame.from_pandas(customer_hist)\n",
    "articles = cudf.DataFrame.from_pandas(articles)\n",
    "batch_size = 512\n",
    "article_ids = article_ids * batch_size\n",
    "article_ids_str = ('0' + articles.article_id.astype(str)).to_numpy()\n",
    "submission = pd.DataFrame({\"customer_id\":[],\"predict\":[]})"
   ]
  },
  {
   "cell_type": "code",
   "execution_count": 3,
   "metadata": {},
   "outputs": [
    {
     "name": "stdout",
     "output_type": "stream",
     "text": [
      "685056: %99.98\n",
      "\n",
      "CPU times: user 2d 9h 39min 23s, sys: 4min 41s, total: 2d 9h 44min 4s\n",
      "Wall time: 5h 39min 3s\n"
     ]
    }
   ],
   "source": [
    "%%time\n",
    "df_list = []\n",
    "loop_size = len(customer_ids) + batch_size\n",
    "for batch_i in range(batch_size, loop_size, batch_size):\n",
    "    customer_ids_batch = customer_ids[batch_i-batch_size:batch_i]\n",
    "    customer_ids_batch = np.repeat(customer_ids_batch, len(article_ids)/batch_size)\n",
    "    df = cudf.DataFrame({\"customer_id\": customer_ids_batch, \"article_id\": article_ids[:customer_ids_batch.shape[0]]})\n",
    "    df = df.merge(articles, on=\"article_id\", how=\"inner\")\n",
    "    df = df.merge(customers, on=\"customer_id\", how=\"inner\")\n",
    "    df = df.merge(customer_hist, on=[\"customer_id\",\"article_id\"], how=\"left\")\n",
    "    df.same_prod_rebuy_count = df.same_prod_rebuy_count.fillna(0)\n",
    "    df.avg_purchase_time = df.avg_purchase_time.fillna(0)\n",
    "    df.time_passed_last_purchase = df.time_passed_last_purchase.fillna(1)\n",
    "    df.drop(columns=[\"customer_id\", \"article_id\"], inplace=True)\n",
    "    model_inputs = df.to_numpy()\n",
    "    del df\n",
    "    gc.collect()\n",
    "    ensemble_scores = model.predict(model_inputs, device = 'gpu', gpu_platform_id = 0, gpu_device_id = 0).reshape((customer_ids[batch_i-batch_size:batch_i].shape[0], articles.shape[0]))\n",
    "    indices = np.flip(np.argsort(ensemble_scores, axis=1), axis=1)[:,-12:]\n",
    "    predicts = list(map(lambda x: ' '.join(x), article_ids_str[indices]))\n",
    "    submission = pd.concat([submission, pd.DataFrame({\"customer_id\":customer_ids[batch_i-batch_size:batch_i],\"predict\":predicts})])\n",
    "    print('\\r' + f'{batch_i}: %{round(100*batch_i/loop_size, 2)}', end='')\n",
    "print(\"\\n\")"
   ]
  },
  {
   "cell_type": "code",
   "execution_count": 4,
   "metadata": {},
   "outputs": [],
   "source": [
    "submission_dict = {}\n",
    "for i,row in submission.iterrows():\n",
    "    submission_dict[row.customer_id] = row.predict"
   ]
  },
  {
   "cell_type": "code",
   "execution_count": 5,
   "metadata": {},
   "outputs": [],
   "source": [
    "base_submission = pd.read_csv(\"data/sample_submission.csv\")\n",
    "base_submission.prediction = base_submission.apply(lambda x: submission_dict[x.customer_id] if x.customer_id in submission_dict.keys() else x.prediction, axis=1)"
   ]
  },
  {
   "cell_type": "code",
   "execution_count": 6,
   "metadata": {},
   "outputs": [
    {
     "data": {
      "text/html": [
       "<div>\n",
       "<style scoped>\n",
       "    .dataframe tbody tr th:only-of-type {\n",
       "        vertical-align: middle;\n",
       "    }\n",
       "\n",
       "    .dataframe tbody tr th {\n",
       "        vertical-align: top;\n",
       "    }\n",
       "\n",
       "    .dataframe thead th {\n",
       "        text-align: right;\n",
       "    }\n",
       "</style>\n",
       "<table border=\"1\" class=\"dataframe\">\n",
       "  <thead>\n",
       "    <tr style=\"text-align: right;\">\n",
       "      <th></th>\n",
       "      <th>customer_id</th>\n",
       "      <th>prediction</th>\n",
       "    </tr>\n",
       "  </thead>\n",
       "  <tbody>\n",
       "    <tr>\n",
       "      <th>0</th>\n",
       "      <td>00000dbacae5abe5e23885899a1fa44253a17956c6d1c3...</td>\n",
       "      <td>0832997004 0789690001 0805947001 0717490070 09...</td>\n",
       "    </tr>\n",
       "    <tr>\n",
       "      <th>1</th>\n",
       "      <td>0000423b00ade91418cceaf3b26c6af3dd342b51fd051e...</td>\n",
       "      <td>0920753001 0905781001 0738713036 0770703001 09...</td>\n",
       "    </tr>\n",
       "    <tr>\n",
       "      <th>2</th>\n",
       "      <td>000058a12d5b43e67d225668fa1f8d618c13dc232df0ca...</td>\n",
       "      <td>0877274002 0201219014 0889816002 0879827001 08...</td>\n",
       "    </tr>\n",
       "    <tr>\n",
       "      <th>3</th>\n",
       "      <td>00005ca1c9ed5f5146b52ac8639a40ca9d57aeff4d1bd2...</td>\n",
       "      <td>0751471043 0751471001 0918522001 0924243001 08...</td>\n",
       "    </tr>\n",
       "    <tr>\n",
       "      <th>4</th>\n",
       "      <td>00006413d8573cd20ed7128e53b7b13819fe5cfc2d801f...</td>\n",
       "      <td>0903540001 0866488003 0907903001 0910949002 08...</td>\n",
       "    </tr>\n",
       "  </tbody>\n",
       "</table>\n",
       "</div>"
      ],
      "text/plain": [
       "                                         customer_id  \\\n",
       "0  00000dbacae5abe5e23885899a1fa44253a17956c6d1c3...   \n",
       "1  0000423b00ade91418cceaf3b26c6af3dd342b51fd051e...   \n",
       "2  000058a12d5b43e67d225668fa1f8d618c13dc232df0ca...   \n",
       "3  00005ca1c9ed5f5146b52ac8639a40ca9d57aeff4d1bd2...   \n",
       "4  00006413d8573cd20ed7128e53b7b13819fe5cfc2d801f...   \n",
       "\n",
       "                                          prediction  \n",
       "0  0832997004 0789690001 0805947001 0717490070 09...  \n",
       "1  0920753001 0905781001 0738713036 0770703001 09...  \n",
       "2  0877274002 0201219014 0889816002 0879827001 08...  \n",
       "3  0751471043 0751471001 0918522001 0924243001 08...  \n",
       "4  0903540001 0866488003 0907903001 0910949002 08...  "
      ]
     },
     "execution_count": 6,
     "metadata": {},
     "output_type": "execute_result"
    }
   ],
   "source": [
    "base_submission.to_csv(\"submissions/submission.csv\",index=False)\n",
    "base_submission.head()"
   ]
  },
  {
   "cell_type": "code",
   "execution_count": null,
   "metadata": {},
   "outputs": [],
   "source": []
  }
 ],
 "metadata": {
  "interpreter": {
   "hash": "0286e36f0b6cc42564d593afe30408db71b090a133f6805167cf9f46adee6ce3"
  },
  "kernelspec": {
   "display_name": "Python 3 (ipykernel)",
   "language": "python",
   "name": "python3"
  },
  "language_info": {
   "codemirror_mode": {
    "name": "ipython",
    "version": 3
   },
   "file_extension": ".py",
   "mimetype": "text/x-python",
   "name": "python",
   "nbconvert_exporter": "python",
   "pygments_lexer": "ipython3",
   "version": "3.8.13"
  }
 },
 "nbformat": 4,
 "nbformat_minor": 4
}
