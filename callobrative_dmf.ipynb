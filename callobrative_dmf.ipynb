{
 "cells": [
  {
   "cell_type": "code",
   "execution_count": 1,
   "metadata": {},
   "outputs": [],
   "source": [
    "import json\n",
    "import random\n",
    "import numpy as np\n",
    "import pandas as pd\n",
    "import multiprocessing\n",
    "import tensorflow as tf\n",
    "from dask import dataframe as dd\n",
    "from sklearn.utils import shuffle"
   ]
  },
  {
   "cell_type": "markdown",
   "metadata": {},
   "source": [
    "## Preparing the data"
   ]
  },
  {
   "cell_type": "code",
   "execution_count": 10,
   "metadata": {},
   "outputs": [],
   "source": [
    "transactions = dd.read_csv('data/transactions_train.csv')[[\"customer_id\", \"article_id\"]]\n",
    "customer_purchase_number = transactions.groupby(\"customer_id\").size().to_frame(\"prod_number\").reset_index()\n",
    "transactions = transactions.merge(customer_purchase_number, on=\"customer_id\", how=\"inner\")\n",
    "\n",
    "c_ids = transactions.customer_id.unique()\n",
    "number_of_customer = len(c_ids)\n",
    "customer_encoding = {c_id: i for i, c_id in enumerate(c_ids)}\n",
    "p_ids = transactions.article_id.unique()\n",
    "number_of_products = len(p_ids)\n",
    "product_encoding = {p_id: i for i, p_id in enumerate(p_ids)}\n",
    "with open('model_data/customer_id_encoding.json', 'w') as fp:\n",
    "    json.dump(customer_encoding, fp)\n",
    "\n",
    "with open('model_data/product_id_encoding.json', 'w') as fp:\n",
    "    json.dump(product_encoding, fp)\n",
    "\n",
    "transactions.customer_id = transactions.customer_id.map(customer_encoding)\n",
    "transactions.article_id = transactions.article_id.map(product_encoding)\n",
    "p_ids = list(product_encoding.values())\n",
    "del c_ids, product_encoding, customer_encoding, customer_purchase_number"
   ]
  },
  {
   "cell_type": "code",
   "execution_count": 3,
   "metadata": {},
   "outputs": [],
   "source": [
    "train, test = transactions.random_split([0.9, 0.1], random_state=43)\n",
    "df = test.merge(train[[\"customer_id\"]], on=[\"customer_id\"], how=\"outer\", indicator=True)\n",
    "train = dd.concat([train, df[df['_merge'] == 'left_only'][[\"customer_id\", \"article_id\"]]], axis=0, ignore_index=True, interleave_partitions=True, ignore_order=True)\n",
    "del transactions, df, test\n",
    "train = train.compute()"
   ]
  },
  {
   "cell_type": "code",
   "execution_count": 4,
   "metadata": {},
   "outputs": [],
   "source": [
    "def prepare_data(transactions, p_ids):\n",
    "    transactions = transactions.groupby([\"customer_id\"])['article_id']\\\n",
    "                                .apply(lambda x: list(x), meta=(\"article_ids\",object))\\\n",
    "                                .reset_index().compute().drop_duplicates(subset=[\"customer_id\"])\n",
    "\n",
    "    transactions[\"hist_len\"] = transactions.article_ids.apply(lambda x: 128 if len(x)>128 else len(x))\n",
    "    transactions[\"prod_ids\"] = transactions.apply(lambda x: random.sample(x.article_ids, x.hist_len), axis=1)\n",
    "    transactions[\"not_prods\"] = transactions.prod_ids.apply(lambda x: [p_id for p_id in random.sample(p_ids, 256) if p_id not in x][:128])\n",
    "\n",
    "    return transactions[[\"customer_id\", \"prod_ids\", \"not_prods\"]]\n",
    "\n",
    "train = prepare_data(dd.from_pandas(train, npartitions=4), p_ids)\n",
    "train.to_pickle('data/train.pkl')\n",
    "del p_ids"
   ]
  },
  {
   "cell_type": "markdown",
   "metadata": {},
   "source": [
    "## Data Loader"
   ]
  },
  {
   "cell_type": "code",
   "execution_count": 2,
   "metadata": {},
   "outputs": [],
   "source": [
    "class Generator(tf.keras.utils.Sequence):\n",
    "    def __init__(self, data, positive_sample_length, negative_sample_length, batch_size):\n",
    "        self.data = data\n",
    "        self.positive_sample_length = positive_sample_length\n",
    "        self.negative_sample_length = negative_sample_length\n",
    "        self.sample_length = positive_sample_length + negative_sample_length\n",
    "        self.batch_size = batch_size\n",
    "        if batch_size % self.sample_length != 0:\n",
    "            raise ValueError(\"batch_size must be divisible by sum of positive_sample_length and negative_sample_length\")\n",
    "\n",
    "\n",
    "    def user_info_generator(self):\n",
    "        for i, row in self.data[[\"customer_id\",\"prod_ids\",\"not_prods\"]].iterrows():\n",
    "            if len(row.prod_ids) >= self.positive_sample_length:\n",
    "                pids = np.asarray(random.sample(row[\"prod_ids\"], self.positive_sample_length) + random.sample(row[\"not_prods\"], self.negative_sample_length))\n",
    "            else:\n",
    "                pids = np.asarray(random.sample(row[\"prod_ids\"],1) + random.sample(row[\"not_prods\"], self.sample_length -1))\n",
    "            labels = np.asarray([1]*self.positive_sample_length + [0]*self.negative_sample_length)\n",
    "            indices = np.arange(self.sample_length)\n",
    "            np.random.shuffle(indices)\n",
    "            yield tf.convert_to_tensor(np.asarray([pids[indices],labels[indices]], dtype=np.int32), dtype=tf.int32)\n",
    "\n",
    "    def user_id_generator(self):\n",
    "        for i, row in self.data[[\"customer_id\"]].iterrows():\n",
    "            customer_id = [int(row[\"customer_id\"])] * self.sample_length\n",
    "            yield tf.convert_to_tensor(customer_id, dtype=tf.int32)\n",
    "\n",
    "class BatchGenerator(Generator):\n",
    "    def __init__(self, data, positive_sample_length, negative_sample_length, batch_size):\n",
    "        super().__init__(data, positive_sample_length, negative_sample_length, batch_size)\n",
    "        self.mini_batch = int(batch_size / self.sample_length)\n",
    "        self.batch = batch_size\n",
    "\n",
    "        self.user_info_loader = tf.data.Dataset.from_generator(\n",
    "        self.user_info_generator, output_types=tf.int32).batch(self.mini_batch, drop_remainder=True)\n",
    "        self.user_id_loader = tf.data.Dataset.from_generator(\n",
    "        self.user_id_generator, output_types=tf.int32).batch(self.mini_batch, drop_remainder=True)\n",
    "\n",
    "    def _get_batch(self):\n",
    "        for c_ids, info in zip(self.user_id_loader, self.user_info_loader):\n",
    "            x = tf.stack([tf.reshape(c_ids, self.batch), tf.reshape(info[:,0,:], self.batch)], axis=1)\n",
    "            y = tf.reshape(info[:,1,:], self.batch)\n",
    "            yield x, y\n",
    "\n",
    "class DataGenerator (BatchGenerator):\n",
    "    def __init__(self, data, positive_sample_length, negative_sample_length, batch_size, validation=False):\n",
    "        super().__init__(data, positive_sample_length, negative_sample_length, batch_size)\n",
    "        self.len_data = len(self.data) // self.batch_size\n",
    "        self.validation = validation\n",
    "        if validation:\n",
    "            self.val_data = self.data.copy()\n",
    "            self.data = self.val_data.sample(frac=0.1)\n",
    "\n",
    "    def on_epoch_end(self):\n",
    "        if self.validation:\n",
    "            self.data = self.val_data.sample(frac=0.1)\n",
    "        else:\n",
    "            pass\n",
    "\n",
    "    def __len__(self):\n",
    "        return self.len_data\n",
    "\n",
    "    def __getitem__(self, index):\n",
    "        return next(iter(self._get_batch()))\n",
    "\n",
    "    def get(self):\n",
    "        return self._get_batch()"
   ]
  },
  {
   "cell_type": "code",
   "execution_count": 3,
   "metadata": {},
   "outputs": [],
   "source": [
    "train_data = pd.read_pickle(\"data/train.pkl\")"
   ]
  },
  {
   "cell_type": "code",
   "execution_count": 4,
   "metadata": {},
   "outputs": [
    {
     "name": "stderr",
     "output_type": "stream",
     "text": [
      "2022-04-14 13:41:47.973740: I tensorflow/core/platform/cpu_feature_guard.cc:142] This TensorFlow binary is optimized with oneAPI Deep Neural Network Library (oneDNN) to use the following CPU instructions in performance-critical operations:  AVX2 FMA\n",
      "To enable them in other operations, rebuild TensorFlow with the appropriate compiler flags.\n"
     ]
    }
   ],
   "source": [
    "batch_size = 512\n",
    "train_generator = DataGenerator(train_data, 3, 5, batch_size)"
   ]
  },
  {
   "cell_type": "markdown",
   "metadata": {},
   "source": [
    "## Matrix Factorization Model (GMF)"
   ]
  },
  {
   "cell_type": "code",
   "execution_count": 49,
   "metadata": {},
   "outputs": [],
   "source": [
    "class GmfNet(tf.keras.Model):\n",
    "    def __init__(self, num_users, num_prods, embedding_size, **kwargs):\n",
    "        super(GmfNet, self).__init__(**kwargs)\n",
    "        self.num_users = num_users\n",
    "        self.num_prods = num_prods\n",
    "        self.embedding_size = embedding_size\n",
    "        self.user_embedding = tf.keras.layers.Embedding(\n",
    "            num_users,\n",
    "            embedding_size,\n",
    "            embeddings_initializer=\"he_normal\",\n",
    "            embeddings_regularizer= tf.keras.regularizers.l2(1e-6),\n",
    "        )\n",
    "        self.user_bias = tf.keras.layers.Embedding(num_users, 1)\n",
    "        self.prod_embedding = tf.keras.layers.Embedding(\n",
    "            num_prods,\n",
    "            embedding_size,\n",
    "            embeddings_initializer=\"he_normal\",\n",
    "            embeddings_regularizer= tf.keras.regularizers.l2(1e-6),\n",
    "        )\n",
    "        self.prod_bias = tf.keras.layers.Embedding(num_prods, 1)\n",
    "\n",
    "    def call(self, inputs):\n",
    "        user_vector = self.user_embedding(inputs[:, 0])\n",
    "        user_bias = self.user_bias(inputs[:, 0])\n",
    "        prod_vector = self.prod_embedding(inputs[:, 1])\n",
    "        prod_bias = self.prod_bias(inputs[:, 1])\n",
    "        dot_user_prod = tf.tensordot(user_vector, prod_vector, 2)\n",
    "        x = dot_user_prod + user_bias + prod_bias\n",
    "\n",
    "        return tf.nn.sigmoid(x)"
   ]
  },
  {
   "cell_type": "code",
   "execution_count": 50,
   "metadata": {},
   "outputs": [],
   "source": [
    "class MlpNet(tf.keras.Model):\n",
    "    def __init__(self, num_users, num_prods, embedding_size, **kwargs):\n",
    "        super(MlpNet, self).__init__(**kwargs)\n",
    "        self.num_users = num_users\n",
    "        self.num_prods = num_prods\n",
    "        self.embedding_size = embedding_size\n",
    "        self.user_embedding = tf.keras.layers.Embedding(\n",
    "            num_users,\n",
    "            embedding_size,\n",
    "            embeddings_initializer=\"he_normal\",\n",
    "            embeddings_regularizer= tf.keras.regularizers.l2(1e-6),\n",
    "        )\n",
    "        self.prod_embedding = tf.keras.layers.Embedding(\n",
    "            num_prods,\n",
    "            embedding_size,\n",
    "            embeddings_initializer=\"he_normal\",\n",
    "            embeddings_regularizer= tf.keras.regularizers.l2(1e-6),\n",
    "        )\n",
    "\n",
    "        self.prediction = tf.keras.Sequential([\n",
    "            tf.keras.layers.Dropout(0.1),\n",
    "            tf.keras.layers.Dense(embedding_size, activation=\"relu\", name=\"layer1\"),\n",
    "            tf.keras.layers.Dropout(0.1),\n",
    "            tf.keras.layers.BatchNormalization(),\n",
    "            tf.keras.layers.Dense(embedding_size, activation=\"relu\", name=\"layer2\"),\n",
    "            tf.keras.layers.Dropout(0.1),\n",
    "            tf.keras.layers.BatchNormalization(),\n",
    "            tf.keras.layers.Dense(embedding_size, activation=\"relu\", name=\"layer3\"),\n",
    "            tf.keras.layers.Dense(embedding_size, activation=\"relu\", name=\"layer4\"),\n",
    "        ])\n",
    "\n",
    "    def call(self, inputs):\n",
    "        user_vector = self.user_embedding(inputs[:, 0])\n",
    "        prod_vector = self.prod_embedding(inputs[:, 1])\n",
    "\n",
    "        return self.prediction(tf.concat([user_vector, prod_vector], axis=1))"
   ]
  },
  {
   "cell_type": "code",
   "execution_count": 51,
   "metadata": {},
   "outputs": [],
   "source": [
    "class RecommenderNet(tf.keras.Model):\n",
    "    def __init__(self, num_users, num_prods, embedding_size, **kwargs):\n",
    "        super(RecommenderNet, self).__init__(**kwargs)\n",
    "        self.gmf = GmfNet(num_users, num_prods, embedding_size)\n",
    "        self.mlp = MlpNet(num_users, num_prods, embedding_size)\n",
    "        self.pred = tf.keras.layers.Dense(1, activation=\"sigmoid\")\n",
    "\n",
    "    def call(self, inputs):\n",
    "        gmf_output = self.gmf(inputs)\n",
    "        mlp_output = self.mlp(inputs)\n",
    "        return self.pred(tf.concat([gmf_output, mlp_output], axis=1))"
   ]
  },
  {
   "cell_type": "code",
   "execution_count": 9,
   "metadata": {},
   "outputs": [
    {
     "name": "stdout",
     "output_type": "stream",
     "text": [
      "Epoch 1/25\n",
      "2660/2660 [==============================] - 4353s 2s/step - loss: 0.1092 - accuracy: 0.9510\n",
      "\n",
      "Epoch 00001: saving model to weihts\\collabrative\n",
      "Epoch 2/25\n",
      "2660/2660 [==============================] - 4330s 2s/step - loss: 0.0168 - accuracy: 0.9921\n",
      "\n",
      "Epoch 00002: saving model to weihts\\collabrative\n",
      "Epoch 3/25\n",
      "2660/2660 [==============================] - 4335s 2s/step - loss: 0.0168 - accuracy: 0.9921\n",
      "\n",
      "Epoch 00003: saving model to weihts\\collabrative\n",
      "Epoch 4/25\n",
      "2660/2660 [==============================] - 4340s 2s/step - loss: 0.0169 - accuracy: 0.9920\n",
      "\n",
      "Epoch 00004: saving model to weihts\\collabrative\n",
      "Epoch 5/25\n",
      "2660/2660 [==============================] - 4347s 2s/step - loss: 0.0167 - accuracy: 0.9921\n",
      "\n",
      "Epoch 00005: saving model to weihts\\collabrative\n",
      "Epoch 6/25\n",
      "2660/2660 [==============================] - 4318s 2s/step - loss: 0.0165 - accuracy: 0.9922\n",
      "\n",
      "Epoch 00006: saving model to weihts\\collabrative\n",
      "Epoch 7/25\n",
      "2660/2660 [==============================] - 4360s 2s/step - loss: 0.0165 - accuracy: 0.9922\n",
      "\n",
      "Epoch 00007: saving model to weihts\\collabrative\n",
      "Epoch 8/25\n",
      "2660/2660 [==============================] - 4238s 2s/step - loss: 0.0168 - accuracy: 0.9921\n",
      "\n",
      "Epoch 00008: saving model to weihts\\collabrative\n",
      "Epoch 9/25\n",
      " 576/2660 [=====>........................] - ETA: 54:46 - loss: 0.0165 - accuracy: 0.9922"
     ]
    }
   ],
   "source": [
    "#model = RecommenderNet(number_of_customer, c, 128) #1362281 104547\n",
    "model = RecommenderNet(1362281, 104547, 128)\n",
    "model.compile(\n",
    "    optimizer=tf.keras.optimizers.Adam(learning_rate=0.00001),\n",
    "    loss=tf.keras.losses.BinaryCrossentropy(),\n",
    "    metrics=[\"accuracy\"])\n",
    "es = tf.keras.callbacks.EarlyStopping(monitor='loss', patience=3)\n",
    "checkpoint = tf.keras.callbacks.ModelCheckpoint(\n",
    "    filepath=\"weihts/collabrative\",\n",
    "    save_weights_only=True,\n",
    "    monitor='val_accuracy',\n",
    "    mode='max',\n",
    "    save_best_only=True)\n",
    "cores = multiprocessing.cpu_count()\n",
    "history = model.fit(train_generator, epochs=25, callbacks=[es, checkpoint], workers=6)"
   ]
  },
  {
   "cell_type": "markdown",
   "metadata": {},
   "source": [
    "## Model Prediction"
   ]
  },
  {
   "cell_type": "code",
   "execution_count": 2,
   "metadata": {},
   "outputs": [],
   "source": [
    "transactions = dd.read_csv('data/transactions_train.csv')[[\"customer_id\", \"article_id\"]]\n",
    "transactions = transactions.drop_duplicates([\"customer_id\", \"article_id\"])\n",
    "\n",
    "with open('model_data/customer_id_encoding.json', 'r') as fp:\n",
    "    customer_encoding = json.load(fp)\n",
    "\n",
    "with open('model_data/product_id_encoding.json', 'r') as fp:\n",
    "    product_encoding = json.load(fp)\n",
    "\n",
    "transactions.customer_id = transactions.customer_id.map(customer_encoding)\n",
    "transactions = transactions.compute()\n",
    "transactions.article_id = transactions.article_id.map(lambda x: product_encoding[str(x)])"
   ]
  },
  {
   "cell_type": "code",
   "execution_count": 3,
   "metadata": {},
   "outputs": [],
   "source": [
    "transactions.sort_values(by=[\"customer_id\"], inplace=True)\n",
    "customer_purchase_number = transactions.groupby(\"customer_id\").size().to_frame(\"prod_number\").reset_index()"
   ]
  },
  {
   "cell_type": "code",
   "execution_count": 120,
   "metadata": {},
   "outputs": [],
   "source": [
    "ptr = 0\n",
    "model = RecommenderNet(1362281, 104547, 128)\n",
    "prod_ids = np.asarray(list(product_encoding.values()), dtype=np.int32)"
   ]
  },
  {
   "cell_type": "code",
   "execution_count": 124,
   "metadata": {},
   "outputs": [],
   "source": [
    "for i, prod_number in customer_purchase_number[\"prod_number\"].iteritems():\n",
    "    customer_id = np.asanyarray([i] * number_of_products, dtype=np.int32)\n",
    "    inputs = np.array([customer_id, prod_ids]).T\n",
    "    tf_inputs = tf.convert_to_tensor(inputs, dtype=tf.int32)\n",
    "\n",
    "    scores = model(tf_inputs)\n",
    "    values, indices = tf.math.top_k(tf.squeeze(scores), k=200)\n",
    "    purchased_hist = transactions.iloc[ptr: ptr+prod_number, :].article_id.values\n",
    "    ptr += prod_number\n",
    "\n",
    "    results = []\n",
    "    for i, v in zip(indices, values):\n",
    "        if i not in purchased_hist:\n",
    "            results.append(np.asarray([i.numpy(), v.numpy()], dtype=np.float32))\n",
    "    results = np.asanyarray(results, dtype=np.float32)[0:100, :]\n",
    "    break"
   ]
  },
  {
   "cell_type": "code",
   "execution_count": null,
   "metadata": {},
   "outputs": [],
   "source": []
  }
 ],
 "metadata": {
  "interpreter": {
   "hash": "4ad61a90f8b8ec2120f8b8d3efc4267caee6017c89f89db236bf61b71644f2c7"
  },
  "kernelspec": {
   "display_name": "Python 3.8.11 ('tf')",
   "language": "python",
   "name": "python3"
  },
  "language_info": {
   "codemirror_mode": {
    "name": "ipython",
    "version": 3
   },
   "file_extension": ".py",
   "mimetype": "text/x-python",
   "name": "python",
   "nbconvert_exporter": "python",
   "pygments_lexer": "ipython3",
   "version": "3.8.11"
  },
  "orig_nbformat": 4
 },
 "nbformat": 4,
 "nbformat_minor": 2
}
